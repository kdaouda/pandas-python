{
 "cells": [
  {
   "cell_type": "markdown",
   "metadata": {},
   "source": [
    "# <font color=\"#B40404\">Prise en main rapide de Pandas avec Python 3.4</font>"
   ]
  },
  {
   "cell_type": "markdown",
   "metadata": {},
   "source": [
    "## <font color=\"#084B8A\">Chapitre I</font>"
   ]
  },
  {
   "cell_type": "markdown",
   "metadata": {},
   "source": [
    "<b>Créez les données</b> : Nous commençons en créant notre propre jeu de données pour l'analyse. Ceci empêche l'utilisateur final lisant ces travaux dirigés de devoir télécharger n'importe quels fichiers pour reproduire les résultats ci-dessous. Nous exporterons cet jeu de données dans un fichier texte.\n",
    "<br/>\n",
    "<b>Obtenez les données</b> : Nous apprendrons à lire dans le fichier texte. Les données comprennent des noms de bébé et le nombre de noms de bébé nés l'année 1880.\n",
    "<br/>\n",
    "<b>Préparez les données</b> : Ici nous jetterons simplement un coup d'oeil aux données et nous nous assurerons que c'est propre. Par propre je veux dire que nous jetterons un coup d'oeil à l'intérieur du contenu du fichier texte et chercherons n'importe quel anomalities. Ceux-ci peuvent inclure des données manquantes, des incohérences dans les données, ou les autres données qui semblent hors de propos. Si l'une des anomalies citées ci-dessus est détectée, il faudra prendre des décidions et savoir que faire.\n",
    "<br/>\n",
    "<b>Analysez les données</b> : Nous trouverons simplement le nom le plus populaire dans une année spécifique.\n",
    "<br/>\n",
    "<b>Présentez les données</b> : Grâce à des données tabulaires et un graphique, nous montrerons quel est le nom le plus populaire dans une année spécifique."
   ]
  },
  {
   "cell_type": "markdown",
   "metadata": {},
   "source": [
    "La librairie <b><i>panda</i></b> est utilisée pour toutes les analyses de données à l'exception d'une petite partie de la section de présentation de données. La bibliothèque de matplotlib ne sera nécessaire que pour la section de présentation de données. L'importation des bibliothèques est la première étape de cette partie."
   ]
  },
  {
   "cell_type": "code",
   "execution_count": 1,
   "metadata": {
    "collapsed": true
   },
   "outputs": [],
   "source": [
    "# Importation de toutes les librairies nécessaires pour ce chapitre\n",
    "\n",
    "# Syntaxe générale pour importer des fonctions spécifiques d'une librairie:\n",
    "##from (librairie) import (fonctions spécifiques de la librairie)\n",
    "from pandas import DataFrame, read_csv\n",
    "\n",
    "# Syntaxe générale pour importer toute une librairie: \n",
    "##import (librairie) as (donner un alias à la librairie)\n",
    "import matplotlib.pyplot as plt\n",
    "import pandas as pd #Voici comment l'importation de pandas se fait généralement\n",
    "import sys #On l'utilisera uniquement pour déterminer la version utilisée de Python\n",
    "import matplotlib #On en a besoin pour déterminer la version utilisée de Matplotlib\n",
    "\n",
    "# Activer le traçage en ligne  des graphique\n",
    "%matplotlib inline"
   ]
  },
  {
   "cell_type": "code",
   "execution_count": 2,
   "metadata": {
    "collapsed": false
   },
   "outputs": [
    {
     "name": "stdout",
     "output_type": "stream",
     "text": [
      "Python version 3.4.4 |Anaconda 2.3.0 (x86_64)| (default, Jan  9 2016, 17:30:09) \n",
      "[GCC 4.2.1 (Apple Inc. build 5577)]\n",
      "Pandas version 0.16.2\n",
      "Matplotlib version 1.4.3\n"
     ]
    }
   ],
   "source": [
    "print('Python version ' + sys.version)\n",
    "print('Pandas version ' + pd.__version__)\n",
    "print('Matplotlib version ' + matplotlib.__version__)"
   ]
  },
  {
   "cell_type": "markdown",
   "metadata": {},
   "source": [
    "### <font color=\"#585858\">Créez les données</font>"
   ]
  },
  {
   "cell_type": "markdown",
   "metadata": {},
   "source": [
    "Le jeu des données sera composé de 5 noms de bébé et le nombre de naissances enregistrées pour cette année (1880)."
   ]
  },
  {
   "cell_type": "code",
   "execution_count": 3,
   "metadata": {
    "collapsed": true
   },
   "outputs": [],
   "source": [
    "# Le jeu de données initial des noms de bébé et le nombre de naissances\n",
    "noms = ['Tidiane','Maimouna','Fatou','Adama','Daouda']\n",
    "naissances = [968, 155, 77, 578, 973]"
   ]
  },
  {
   "cell_type": "markdown",
   "metadata": {},
   "source": [
    "Pour fusionner ces deux listes, nous allons utiliser la fonction zip."
   ]
  },
  {
   "cell_type": "code",
   "execution_count": 4,
   "metadata": {
    "collapsed": true
   },
   "outputs": [],
   "source": [
    "zip?"
   ]
  },
  {
   "cell_type": "code",
   "execution_count": 5,
   "metadata": {
    "collapsed": false
   },
   "outputs": [
    {
     "data": {
      "text/plain": [
       "[('Tidiane', 968),\n",
       " ('Maimouna', 155),\n",
       " ('Fatou', 77),\n",
       " ('Adama', 578),\n",
       " ('Daouda', 973)]"
      ]
     },
     "execution_count": 5,
     "metadata": {},
     "output_type": "execute_result"
    }
   ],
   "source": [
    "BabyDataSet = list(zip(noms,naissances))\n",
    "BabyDataSet"
   ]
  },
  {
   "cell_type": "markdown",
   "metadata": {},
   "source": [
    "Nous avons créé le jeu de données. Nous utiliserons maintenant la bibliothèque de pandas pour exporter ce jeu de données dans un fichier csv.\n",
    "\n",
    "df sera un objet DataFrame. Vous pouvez voir que cet objet contient l'ensemble des données des bébés dans un format semblable à une table sql ou une feuille de calcul Excel. Jetons un coup d'oeil, ci-dessous, au contenu de df."
   ]
  },
  {
   "cell_type": "code",
   "execution_count": 6,
   "metadata": {
    "collapsed": false
   },
   "outputs": [
    {
     "data": {
      "text/html": [
       "<div>\n",
       "<table border=\"1\" class=\"dataframe\">\n",
       "  <thead>\n",
       "    <tr style=\"text-align: right;\">\n",
       "      <th></th>\n",
       "      <th>Noms</th>\n",
       "      <th>Naissances</th>\n",
       "    </tr>\n",
       "  </thead>\n",
       "  <tbody>\n",
       "    <tr>\n",
       "      <th>0</th>\n",
       "      <td>Tidiane</td>\n",
       "      <td>968</td>\n",
       "    </tr>\n",
       "    <tr>\n",
       "      <th>1</th>\n",
       "      <td>Maimouna</td>\n",
       "      <td>155</td>\n",
       "    </tr>\n",
       "    <tr>\n",
       "      <th>2</th>\n",
       "      <td>Fatou</td>\n",
       "      <td>77</td>\n",
       "    </tr>\n",
       "    <tr>\n",
       "      <th>3</th>\n",
       "      <td>Adama</td>\n",
       "      <td>578</td>\n",
       "    </tr>\n",
       "    <tr>\n",
       "      <th>4</th>\n",
       "      <td>Daouda</td>\n",
       "      <td>973</td>\n",
       "    </tr>\n",
       "  </tbody>\n",
       "</table>\n",
       "</div>"
      ],
      "text/plain": [
       "       Noms  Naissances\n",
       "0   Tidiane         968\n",
       "1  Maimouna         155\n",
       "2     Fatou          77\n",
       "3     Adama         578\n",
       "4    Daouda         973"
      ]
     },
     "execution_count": 6,
     "metadata": {},
     "output_type": "execute_result"
    }
   ],
   "source": [
    "df = pd.DataFrame(data = BabyDataSet, columns=['Noms', 'Naissances'])\n",
    "df"
   ]
  },
  {
   "cell_type": "markdown",
   "metadata": {},
   "source": [
    "Exporter le dataframe dans un fichier csv. Nous pouvons nommer le fichier Naissances1880.csv . La fonction to_csv sera utilisée pour exporter le fichier. Le fichier sera enregistré au même endroit que le notebook, sauf indication contraire."
   ]
  },
  {
   "cell_type": "code",
   "execution_count": 7,
   "metadata": {
    "collapsed": true
   },
   "outputs": [],
   "source": [
    "df.to_csv?"
   ]
  },
  {
   "cell_type": "markdown",
   "metadata": {},
   "source": [
    "Les seuls paramètres que nous allons utiliser est l'index et l'en-tête. La définition de ces paramètres à True inclura l'index et l'en-tête dans le fichier exporté. Modifiez les valeurs de ces paramètres pour obtenir une meilleure compréhension de leur utilisation."
   ]
  },
  {
   "cell_type": "code",
   "execution_count": 8,
   "metadata": {
    "collapsed": true
   },
   "outputs": [],
   "source": [
    "df.to_csv('Naissances1880.csv',index=False,header=False)"
   ]
  },
  {
   "cell_type": "markdown",
   "metadata": {},
   "source": [
    "### <font color=\"#585858\">Obtenez les données</font>"
   ]
  },
  {
   "cell_type": "markdown",
   "metadata": {},
   "source": [
    "Pour importer le fichier csv, nous allons utiliser la fonction de pandas read_csv. Jetons un coup d'oeil à cette fonction et ce qu'il faut entrer comme inputs."
   ]
  },
  {
   "cell_type": "code",
   "execution_count": 9,
   "metadata": {
    "collapsed": true
   },
   "outputs": [],
   "source": [
    "read_csv?"
   ]
  },
  {
   "cell_type": "markdown",
   "metadata": {},
   "source": [
    "Même si cette fonction a de nombreux paramètres, nous allons tout simplement passer l'emplacement du fichier texte.\n",
    "\n",
    "Emplacement = ~/Desktop/FOLDERS/SOFWARES & SCRIPTS/PYTHON/Tutoriels/Pandas/Naissances1880.csv\n",
    "\n",
    "Remarque: Selon l'endroit où vous enregistrez vos notebooks, vous devrez peut-être modifier l'emplacement ci-dessus."
   ]
  },
  {
   "cell_type": "code",
   "execution_count": 10,
   "metadata": {
    "collapsed": true
   },
   "outputs": [],
   "source": [
    "Location = r'/Users/moi/Desktop/FOLDERS/SOFWARES & SCRIPTS/PYTHON/Tutoriels/Pandas/Naissances1880.csv'\n",
    "df = pd.read_csv(Location)"
   ]
  },
  {
   "cell_type": "markdown",
   "metadata": {},
   "source": [
    "Notez le r avant la chaîne de caract§re. Étant donné que les barres obliques sont des caractères spéciaux, en préfixant la chaîne avec un r, on va échapper à l'ensemble de la chaîne."
   ]
  },
  {
   "cell_type": "code",
   "execution_count": 11,
   "metadata": {
    "collapsed": false
   },
   "outputs": [
    {
     "data": {
      "text/html": [
       "<div>\n",
       "<table border=\"1\" class=\"dataframe\">\n",
       "  <thead>\n",
       "    <tr style=\"text-align: right;\">\n",
       "      <th></th>\n",
       "      <th>Tidiane</th>\n",
       "      <th>968</th>\n",
       "    </tr>\n",
       "  </thead>\n",
       "  <tbody>\n",
       "    <tr>\n",
       "      <th>0</th>\n",
       "      <td>Maimouna</td>\n",
       "      <td>155</td>\n",
       "    </tr>\n",
       "    <tr>\n",
       "      <th>1</th>\n",
       "      <td>Fatou</td>\n",
       "      <td>77</td>\n",
       "    </tr>\n",
       "    <tr>\n",
       "      <th>2</th>\n",
       "      <td>Adama</td>\n",
       "      <td>578</td>\n",
       "    </tr>\n",
       "    <tr>\n",
       "      <th>3</th>\n",
       "      <td>Daouda</td>\n",
       "      <td>973</td>\n",
       "    </tr>\n",
       "  </tbody>\n",
       "</table>\n",
       "</div>"
      ],
      "text/plain": [
       "    Tidiane  968\n",
       "0  Maimouna  155\n",
       "1     Fatou   77\n",
       "2     Adama  578\n",
       "3    Daouda  973"
      ]
     },
     "execution_count": 11,
     "metadata": {},
     "output_type": "execute_result"
    }
   ],
   "source": [
    "df"
   ]
  },
  {
   "cell_type": "markdown",
   "metadata": {},
   "source": [
    "Cela nous amène à notre premier problème de l'exercice. La fonction read_csv a traité le premier enregistrement dans le fichier csv comme l'en-tête. C'est évidemment faux puisque le fichier texte que nous avons exporté était sans en-tête.\n",
    "\n",
    "Pour corriger cela, nous allons passer le paramètre header à la fonction read_csv et le régler sur None (signifie NULL en python)."
   ]
  },
  {
   "cell_type": "code",
   "execution_count": 12,
   "metadata": {
    "collapsed": false
   },
   "outputs": [
    {
     "data": {
      "text/html": [
       "<div>\n",
       "<table border=\"1\" class=\"dataframe\">\n",
       "  <thead>\n",
       "    <tr style=\"text-align: right;\">\n",
       "      <th></th>\n",
       "      <th>0</th>\n",
       "      <th>1</th>\n",
       "    </tr>\n",
       "  </thead>\n",
       "  <tbody>\n",
       "    <tr>\n",
       "      <th>0</th>\n",
       "      <td>Tidiane</td>\n",
       "      <td>968</td>\n",
       "    </tr>\n",
       "    <tr>\n",
       "      <th>1</th>\n",
       "      <td>Maimouna</td>\n",
       "      <td>155</td>\n",
       "    </tr>\n",
       "    <tr>\n",
       "      <th>2</th>\n",
       "      <td>Fatou</td>\n",
       "      <td>77</td>\n",
       "    </tr>\n",
       "    <tr>\n",
       "      <th>3</th>\n",
       "      <td>Adama</td>\n",
       "      <td>578</td>\n",
       "    </tr>\n",
       "    <tr>\n",
       "      <th>4</th>\n",
       "      <td>Daouda</td>\n",
       "      <td>973</td>\n",
       "    </tr>\n",
       "  </tbody>\n",
       "</table>\n",
       "</div>"
      ],
      "text/plain": [
       "          0    1\n",
       "0   Tidiane  968\n",
       "1  Maimouna  155\n",
       "2     Fatou   77\n",
       "3     Adama  578\n",
       "4    Daouda  973"
      ]
     },
     "execution_count": 12,
     "metadata": {},
     "output_type": "execute_result"
    }
   ],
   "source": [
    "df = pd.read_csv(Location, header=None)\n",
    "df"
   ]
  },
  {
   "cell_type": "markdown",
   "metadata": {},
   "source": [
    "Si nous voulions donner des noms spécifiques aux colonnes, il aurait fallu passer un autre paramètre appelé names. Nous pouvons également omettre le paramètre header."
   ]
  },
  {
   "cell_type": "code",
   "execution_count": 13,
   "metadata": {
    "collapsed": false
   },
   "outputs": [
    {
     "data": {
      "text/html": [
       "<div>\n",
       "<table border=\"1\" class=\"dataframe\">\n",
       "  <thead>\n",
       "    <tr style=\"text-align: right;\">\n",
       "      <th></th>\n",
       "      <th>Noms</th>\n",
       "      <th>Naissances</th>\n",
       "    </tr>\n",
       "  </thead>\n",
       "  <tbody>\n",
       "    <tr>\n",
       "      <th>0</th>\n",
       "      <td>Tidiane</td>\n",
       "      <td>968</td>\n",
       "    </tr>\n",
       "    <tr>\n",
       "      <th>1</th>\n",
       "      <td>Maimouna</td>\n",
       "      <td>155</td>\n",
       "    </tr>\n",
       "    <tr>\n",
       "      <th>2</th>\n",
       "      <td>Fatou</td>\n",
       "      <td>77</td>\n",
       "    </tr>\n",
       "    <tr>\n",
       "      <th>3</th>\n",
       "      <td>Adama</td>\n",
       "      <td>578</td>\n",
       "    </tr>\n",
       "    <tr>\n",
       "      <th>4</th>\n",
       "      <td>Daouda</td>\n",
       "      <td>973</td>\n",
       "    </tr>\n",
       "  </tbody>\n",
       "</table>\n",
       "</div>"
      ],
      "text/plain": [
       "       Noms  Naissances\n",
       "0   Tidiane         968\n",
       "1  Maimouna         155\n",
       "2     Fatou          77\n",
       "3     Adama         578\n",
       "4    Daouda         973"
      ]
     },
     "execution_count": 13,
     "metadata": {},
     "output_type": "execute_result"
    }
   ],
   "source": [
    "df = pd.read_csv(Location, names=['Noms','Naissances'])\n",
    "df"
   ]
  },
  {
   "cell_type": "markdown",
   "metadata": {},
   "source": [
    "Vous pouvez voir les nombres [0,1,2,3,4] comme les numéros de ligne dans un fichier Excel. Dans pandas, ils font partie de l'indice du dataframe. Vous pouvez aussi voir l'index comme la clé primaire d'une table sql à l'exception qu'un index est autorisé à avoir des doublons.\n",
    "\n",
    "[Noms,Naissances] peut être une les en-têtes des colonnes semblables à ceux trouvés dans une base de données sql ou une feuille de calcul Excel."
   ]
  },
  {
   "cell_type": "markdown",
   "metadata": {},
   "source": [
    "<i>Supprimez le fichier csv maintenant que nous avons fini de l'utiliser.</i>"
   ]
  },
  {
   "cell_type": "code",
   "execution_count": 14,
   "metadata": {
    "collapsed": false
   },
   "outputs": [],
   "source": [
    "import os\n",
    "os.remove(Location)"
   ]
  },
  {
   "cell_type": "markdown",
   "metadata": {},
   "source": [
    "### <font color=\"#585858\">Préparez des données</font>"
   ]
  },
  {
   "cell_type": "markdown",
   "metadata": {},
   "source": [
    "Les données que nous avons contiennent des noms de bébé et le nombre de naissances dans l'année 1880. Nous savons déjà que nous avons 5 enregistrements et aucun des enregistrements n'est manquant (valeurs non nulles).\n",
    "\n",
    "La colonne des noms à ce stade n'est pas concernée, car il est plus probable qu'elle soit composée de chaînes alpha-numériques (noms de bébé). Il est possible qu'il y ait de mauvaises données dans cette colonne, mais cela ne nous inquiete pas à ce stade de l'analyse. La colonne des naissances devrait simplement contenir des nombres entiers représentant le nombre de bébés nés dans une année spécifique avec un nom spécifique. Nous pouvons vérifier si le jeu de données est de type integer (entier). Il ne serait pas logique d'avoir cette colonne des données de type float (nombres décimaux). Ne vous souciez pas des valeurs aberrantes possibles à ce stade de l'analyse.\n",
    "\n",
    "Sachez que, hormis la vérification que nous avons fait sur la colonne \"Noms\", regarder brièvement les données à l'intérieur du dataframe devrait être là où nous devons aller à ce stade du jeu. Comme nous continuons l'analyse des données, nous aurons beaucoup d'occasions de trouver des problèmes avec le jeu de données."
   ]
  },
  {
   "cell_type": "code",
   "execution_count": 15,
   "metadata": {
    "collapsed": false
   },
   "outputs": [
    {
     "data": {
      "text/plain": [
       "Noms          object\n",
       "Naissances     int64\n",
       "dtype: object"
      ]
     },
     "execution_count": 15,
     "metadata": {},
     "output_type": "execute_result"
    }
   ],
   "source": [
    "# Donne le type de données des colonnes\n",
    "df.dtypes"
   ]
  },
  {
   "cell_type": "code",
   "execution_count": 16,
   "metadata": {
    "collapsed": false
   },
   "outputs": [
    {
     "data": {
      "text/plain": [
       "dtype('int64')"
      ]
     },
     "execution_count": 16,
     "metadata": {},
     "output_type": "execute_result"
    }
   ],
   "source": [
    "# Donne le type de données de la colonne Naissances\n",
    "df.Naissances.dtype"
   ]
  },
  {
   "cell_type": "markdown",
   "metadata": {},
   "source": [
    "Comme vous pouvez le voir la colonne Naissances est de type int64 , donc il n'y a pas de floats (nombres décimaux) ou des caractères alpha-numériques dans cette colonne."
   ]
  },
  {
   "cell_type": "markdown",
   "metadata": {},
   "source": [
    "### <font color=\"#585858\">Analysez les données</font>"
   ]
  },
  {
   "cell_type": "markdown",
   "metadata": {},
   "source": [
    "Pour trouver le nom le plus populaire ou le nom du bébé avec le taux de natalité élevé, nous pouvons faire l'une des choses suivantes.\n",
    "\n",
    "- Trier la dataframe et sélectionner la première ligne\n",
    "- Utilisez l'attribut max() pour trouver la valeur maximale"
   ]
  },
  {
   "cell_type": "code",
   "execution_count": 17,
   "metadata": {
    "collapsed": false
   },
   "outputs": [
    {
     "data": {
      "text/html": [
       "<div>\n",
       "<table border=\"1\" class=\"dataframe\">\n",
       "  <thead>\n",
       "    <tr style=\"text-align: right;\">\n",
       "      <th></th>\n",
       "      <th>Noms</th>\n",
       "      <th>Naissances</th>\n",
       "    </tr>\n",
       "  </thead>\n",
       "  <tbody>\n",
       "    <tr>\n",
       "      <th>4</th>\n",
       "      <td>Daouda</td>\n",
       "      <td>973</td>\n",
       "    </tr>\n",
       "  </tbody>\n",
       "</table>\n",
       "</div>"
      ],
      "text/plain": [
       "     Noms  Naissances\n",
       "4  Daouda         973"
      ]
     },
     "execution_count": 17,
     "metadata": {},
     "output_type": "execute_result"
    }
   ],
   "source": [
    "# Methode 1:\n",
    "Sorted = df.sort(['Naissances'], ascending=False)\n",
    "Sorted.head(1)"
   ]
  },
  {
   "cell_type": "code",
   "execution_count": 18,
   "metadata": {
    "collapsed": false
   },
   "outputs": [
    {
     "data": {
      "text/plain": [
       "973"
      ]
     },
     "execution_count": 18,
     "metadata": {},
     "output_type": "execute_result"
    }
   ],
   "source": [
    "# Methode 2:\n",
    "df['Naissances'].max()"
   ]
  },
  {
   "cell_type": "markdown",
   "metadata": {},
   "source": [
    "### <font color=\"#585858\">Présentez les données</font>"
   ]
  },
  {
   "cell_type": "markdown",
   "metadata": {},
   "source": [
    "Ici, nous pouvons tracer la colonne Naissances et étiqueter le graphique pour montrer le point sur le graphique le plus élevé. En liaison avec la table, on a une image claire que Daouda est le nom du bébé le plus populaire dans le jeu de données.\n",
    "\n",
    "plot() est un attribut convenable car pandas vous permet de tracer sans douleur les données de votre dataframe. Nous avons appris comment trouver la valeur maximale de la colonne Naissances dans la section précédente. Maintenant, trouver le nom de bébé réel de la valeur 973 semble un peu délicat.\n",
    "\n",
    "<b>Explications:</b>\n",
    "<br/>\n",
    "df['Noms'] : Ceci est la liste complète des noms de bébé, la colonne des noms entière\n",
    "df['Naissances'] : Ceci est la liste complète des naissances dans l'année 1880, la colonne des naissances entière\n",
    "df['Naissances'].max() : Ceci est la valeur maximale trouvée dans la colonne Naissances\n",
    "\n",
    "[df['Naissances'] == df['Naissances'].max()] veut dire à [Trouver tous les enregistrements dans la colonne Naissances où il est égal à 973]\n",
    "df['Noms'][df['Naissances'] == df['Naissances'].max()] veut dire sélectionner tous les enregistrements dans la colonne des noms tels que [La colonne Naissances est égale à 973]\n",
    "\n",
    "Une autre façon de faire aurait été d'utiliser le dataframe trié (Sorted):\n",
    "Sorted['Noms'].head(1).value\n",
    "\n",
    "La fonction str() convertit simplement un objet en une chaîne."
   ]
  },
  {
   "cell_type": "code",
   "execution_count": 19,
   "metadata": {
    "collapsed": false
   },
   "outputs": [
    {
     "name": "stdout",
     "output_type": "stream",
     "text": [
      "Le nom le plus populaire\n"
     ]
    },
    {
     "data": {
      "text/html": [
       "<div>\n",
       "<table border=\"1\" class=\"dataframe\">\n",
       "  <thead>\n",
       "    <tr style=\"text-align: right;\">\n",
       "      <th></th>\n",
       "      <th>Noms</th>\n",
       "      <th>Naissances</th>\n",
       "    </tr>\n",
       "  </thead>\n",
       "  <tbody>\n",
       "    <tr>\n",
       "      <th>4</th>\n",
       "      <td>Daouda</td>\n",
       "      <td>973</td>\n",
       "    </tr>\n",
       "  </tbody>\n",
       "</table>\n",
       "</div>"
      ],
      "text/plain": [
       "     Noms  Naissances\n",
       "4  Daouda         973"
      ]
     },
     "execution_count": 19,
     "metadata": {},
     "output_type": "execute_result"
    },
    {
     "data": {
      "image/png": "[encoded data removed]",
      "text/plain": [
       "<matplotlib.figure.Figure at 0x106ee04a8>"
      ]
     },
     "metadata": {},
     "output_type": "display_data"
    }
   ],
   "source": [
    "# Creation du graphique\n",
    "df['Naissances'].plot()\n",
    "\n",
    "# Valeur maximum pour l'ensemble des données\n",
    "MaxValue = df['Naissances'].max()\n",
    "\n",
    "# Nom associé à la valeur maximale\n",
    "MaxName = df['Noms'][df['Naissances'] == df['Naissances'].max()].values\n",
    "\n",
    "# Texte à afficher sur le graphique\n",
    "Text = str(MaxValue) + \" - \" + MaxName\n",
    "\n",
    "# Ajout du texte au graphique\n",
    "plt.annotate(Text, xy=(1, MaxValue), xytext=(8, 0), \n",
    "                 xycoords=('axes fraction', 'data'), textcoords='offset points')\n",
    "\n",
    "print(\"Le nom le plus populaire\")\n",
    "df[df['Naissances'] == df['Naissances'].max()]\n",
    "#Sorted.head(1) peut aussi faire l'affaire"
   ]
  },
  {
   "cell_type": "markdown",
   "metadata": {},
   "source": [
    "## <font color=\"#084B8A\">Chapitre II</font>"
   ]
  },
  {
   "cell_type": "markdown",
   "metadata": {},
   "source": [
    "<b>Obtenir les données</b> : Notre jeu de données sera constituée d'un fichier Excel contenant le nombre de clients par jour. Nous allons apprendre à lire dans le fichier Excel pour traitement.\n",
    "<br/>\n",
    "<b>Préparer les données</b> : Les données sont une série chronologique irrégulière ayant des dates en double. Nous serons mis au défi dans la compression des données et le nombre de clients prévus pour les prochaines années.\n",
    "<br/>\n",
    "<b>Analyser les données</b> : Nous utilisons des graphiques pour visualiser les tendances et repérer des valeurs aberrantes. Certains outils de calcul intégrés seront utilisés pour calculer pour les prochaines années le nombre de clients prévu.\n",
    "<b>Présentation des données</b> : Les résultats seront déssinés.\n",
    "\n",
    "<b>REMARQUE : Pour les débutants, assurez-vous d'avoir regardé le chapitre précédent, car les connaissances acquises dans le chapitre précédent seront nécessaires pour cet exercice.</b>"
   ]
  },
  {
   "cell_type": "code",
   "execution_count": 20,
   "metadata": {
    "collapsed": true
   },
   "outputs": [],
   "source": [
    "# Importation des librairies\n",
    "import pandas as pd\n",
    "import matplotlib.pyplot as plt\n",
    "import numpy.random as np\n",
    "import sys\n",
    "import matplotlib\n",
    "\n",
    "%matplotlib inline"
   ]
  },
  {
   "cell_type": "markdown",
   "metadata": {},
   "source": [
    "<i>Nous allons créer nos propres données de test pour l'analyse.</i>"
   ]
  },
  {
   "cell_type": "code",
   "execution_count": 21,
   "metadata": {
    "collapsed": true
   },
   "outputs": [],
   "source": [
    "# set seed\n",
    "np.seed(111)\n",
    "\n",
    "# Fonction pour générer les données test\n",
    "def CreateDataSet(Number=1):\n",
    "    \n",
    "    Output = []\n",
    "    \n",
    "    for i in range(Number):\n",
    "        \n",
    "        # Création d'une plage de date hebdomadaire (lundi)\n",
    "        rng = pd.date_range(start='1/1/2009', end='12/31/2012', freq='W-MON')\n",
    "        \n",
    "        # Creation de données aléatoires\n",
    "        data = np.randint(low=25,high=1000,size=len(rng))\n",
    "        \n",
    "        # Association de statut\n",
    "        status = [1,2,3]\n",
    "        \n",
    "        # Faire une liste aléatoire de statut\n",
    "        random_status = [status[np.randint(low=0,high=len(status))] for i in range(len(rng))]\n",
    "        \n",
    "        # Association de statut\n",
    "        states = ['GA','FL','fl','NY','NJ','TX']\n",
    "        \n",
    "        # Faire une liste aléatoire de statut\n",
    "        random_states = [states[np.randint(low=0,high=len(states))] for i in range(len(rng))]\n",
    "    \n",
    "        Output.extend(zip(random_states, random_status, data, rng))\n",
    "        \n",
    "    return Output"
   ]
  },
  {
   "cell_type": "markdown",
   "metadata": {},
   "source": [
    "Maintenant que nous avons une fonction pour générer nos données de test, créons des données et collons les dans un dataframe."
   ]
  },
  {
   "cell_type": "code",
   "execution_count": 22,
   "metadata": {
    "collapsed": false
   },
   "outputs": [
    {
     "name": "stdout",
     "output_type": "stream",
     "text": [
      "<class 'pandas.core.frame.DataFrame'>\n",
      "Int64Index: 836 entries, 0 to 835\n",
      "Data columns (total 4 columns):\n",
      "State            836 non-null object\n",
      "Status           836 non-null int64\n",
      "CustomerCount    836 non-null int64\n",
      "StatusDate       836 non-null datetime64[ns]\n",
      "dtypes: datetime64[ns](1), int64(2), object(1)\n",
      "memory usage: 32.7+ KB\n"
     ]
    }
   ],
   "source": [
    "dataset = CreateDataSet(4)\n",
    "df = pd.DataFrame(data=dataset, columns=['State','Status','CustomerCount','StatusDate'])\n",
    "df.info()"
   ]
  },
  {
   "cell_type": "code",
   "execution_count": 23,
   "metadata": {
    "collapsed": false
   },
   "outputs": [
    {
     "data": {
      "text/html": [
       "<div>\n",
       "<table border=\"1\" class=\"dataframe\">\n",
       "  <thead>\n",
       "    <tr style=\"text-align: right;\">\n",
       "      <th></th>\n",
       "      <th>State</th>\n",
       "      <th>Status</th>\n",
       "      <th>CustomerCount</th>\n",
       "      <th>StatusDate</th>\n",
       "    </tr>\n",
       "  </thead>\n",
       "  <tbody>\n",
       "    <tr>\n",
       "      <th>0</th>\n",
       "      <td>GA</td>\n",
       "      <td>1</td>\n",
       "      <td>877</td>\n",
       "      <td>2009-01-05</td>\n",
       "    </tr>\n",
       "    <tr>\n",
       "      <th>1</th>\n",
       "      <td>FL</td>\n",
       "      <td>1</td>\n",
       "      <td>901</td>\n",
       "      <td>2009-01-12</td>\n",
       "    </tr>\n",
       "    <tr>\n",
       "      <th>2</th>\n",
       "      <td>fl</td>\n",
       "      <td>3</td>\n",
       "      <td>749</td>\n",
       "      <td>2009-01-19</td>\n",
       "    </tr>\n",
       "    <tr>\n",
       "      <th>3</th>\n",
       "      <td>FL</td>\n",
       "      <td>3</td>\n",
       "      <td>111</td>\n",
       "      <td>2009-01-26</td>\n",
       "    </tr>\n",
       "    <tr>\n",
       "      <th>4</th>\n",
       "      <td>GA</td>\n",
       "      <td>1</td>\n",
       "      <td>300</td>\n",
       "      <td>2009-02-02</td>\n",
       "    </tr>\n",
       "  </tbody>\n",
       "</table>\n",
       "</div>"
      ],
      "text/plain": [
       "  State  Status  CustomerCount StatusDate\n",
       "0    GA       1            877 2009-01-05\n",
       "1    FL       1            901 2009-01-12\n",
       "2    fl       3            749 2009-01-19\n",
       "3    FL       3            111 2009-01-26\n",
       "4    GA       1            300 2009-02-02"
      ]
     },
     "execution_count": 23,
     "metadata": {},
     "output_type": "execute_result"
    }
   ],
   "source": [
    "df.head()"
   ]
  },
  {
   "cell_type": "markdown",
   "metadata": {},
   "source": [
    "Nous allons maintenant enregistrer ce dataframe dans un fichier Excel. Nous faisons cela pour vous montrer comment lire et écrire des fichiers Excel.\n",
    "\n",
    "Nous n'écrivons les valeurs de l'indice de la dataframe au fichier Excel , car ils ne sont pas destinés à faire partie de notre jeu de données de test initial ."
   ]
  },
  {
   "cell_type": "code",
   "execution_count": 24,
   "metadata": {
    "collapsed": false
   },
   "outputs": [
    {
     "name": "stdout",
     "output_type": "stream",
     "text": [
      "Done\n"
     ]
    }
   ],
   "source": [
    "# Sauvegarde les résultats dans excel\n",
    "df.to_excel('Lesson3.xlsx', index=False)\n",
    "print('Done')"
   ]
  },
  {
   "cell_type": "markdown",
   "metadata": {},
   "source": [
    "### <font color=\"#585858\">Récupérer les données de Excel</font>"
   ]
  },
  {
   "cell_type": "markdown",
   "metadata": {},
   "source": [
    "Nous allons utiliser la fonction read_excel pour lire des données à partir d'un fichier Excel. La fonction vous permet de lire dans les onglets specfiques par nom ou par emplacement."
   ]
  },
  {
   "cell_type": "code",
   "execution_count": 25,
   "metadata": {
    "collapsed": true
   },
   "outputs": [],
   "source": [
    "pd.read_excel?"
   ]
  },
  {
   "cell_type": "markdown",
   "metadata": {},
   "source": [
    "<b>Remarque: L'emplacement du fichier Excel est le même que celui du notebook, sauf indication contraire.</b>"
   ]
  },
  {
   "cell_type": "code",
   "execution_count": 26,
   "metadata": {
    "collapsed": false
   },
   "outputs": [
    {
     "data": {
      "text/plain": [
       "State            object\n",
       "Status            int64\n",
       "CustomerCount     int64\n",
       "dtype: object"
      ]
     },
     "execution_count": 26,
     "metadata": {},
     "output_type": "execute_result"
    }
   ],
   "source": [
    "# Emplacement du fichier\n",
    "Location = r'/Users/moi/Desktop/FOLDERS/SOFWARES & SCRIPTS/PYTHON/Tutoriels/Pandas/Lesson3.xlsx'\n",
    "\n",
    "# Choisir une feuille specifique\n",
    "df = pd.read_excel(Location, 0, index_col='StatusDate')\n",
    "df.dtypes"
   ]
  },
  {
   "cell_type": "code",
   "execution_count": 27,
   "metadata": {
    "collapsed": false
   },
   "outputs": [
    {
     "data": {
      "text/plain": [
       "DatetimeIndex(['2009-01-05', '2009-01-12', '2009-01-19', '2009-01-26',\n",
       "               '2009-02-02', '2009-02-09', '2009-02-16', '2009-02-23',\n",
       "               '2009-03-02', '2009-03-09', \n",
       "               ...\n",
       "               '2012-10-29', '2012-11-05', '2012-11-12', '2012-11-19',\n",
       "               '2012-11-26', '2012-12-03', '2012-12-10', '2012-12-17',\n",
       "               '2012-12-24', '2012-12-31'],\n",
       "              dtype='datetime64[ns]', name='StatusDate', length=836, freq=None, tz=None)"
      ]
     },
     "execution_count": 27,
     "metadata": {},
     "output_type": "execute_result"
    }
   ],
   "source": [
    "df.index"
   ]
  },
  {
   "cell_type": "code",
   "execution_count": 28,
   "metadata": {
    "collapsed": false
   },
   "outputs": [
    {
     "data": {
      "text/html": [
       "<div>\n",
       "<table border=\"1\" class=\"dataframe\">\n",
       "  <thead>\n",
       "    <tr style=\"text-align: right;\">\n",
       "      <th></th>\n",
       "      <th>State</th>\n",
       "      <th>Status</th>\n",
       "      <th>CustomerCount</th>\n",
       "    </tr>\n",
       "    <tr>\n",
       "      <th>StatusDate</th>\n",
       "      <th></th>\n",
       "      <th></th>\n",
       "      <th></th>\n",
       "    </tr>\n",
       "  </thead>\n",
       "  <tbody>\n",
       "    <tr>\n",
       "      <th>2009-01-05</th>\n",
       "      <td>GA</td>\n",
       "      <td>1</td>\n",
       "      <td>877</td>\n",
       "    </tr>\n",
       "    <tr>\n",
       "      <th>2009-01-12</th>\n",
       "      <td>FL</td>\n",
       "      <td>1</td>\n",
       "      <td>901</td>\n",
       "    </tr>\n",
       "    <tr>\n",
       "      <th>2009-01-19</th>\n",
       "      <td>fl</td>\n",
       "      <td>3</td>\n",
       "      <td>749</td>\n",
       "    </tr>\n",
       "    <tr>\n",
       "      <th>2009-01-26</th>\n",
       "      <td>FL</td>\n",
       "      <td>3</td>\n",
       "      <td>111</td>\n",
       "    </tr>\n",
       "    <tr>\n",
       "      <th>2009-02-02</th>\n",
       "      <td>GA</td>\n",
       "      <td>1</td>\n",
       "      <td>300</td>\n",
       "    </tr>\n",
       "  </tbody>\n",
       "</table>\n",
       "</div>"
      ],
      "text/plain": [
       "           State  Status  CustomerCount\n",
       "StatusDate                             \n",
       "2009-01-05    GA       1            877\n",
       "2009-01-12    FL       1            901\n",
       "2009-01-19    fl       3            749\n",
       "2009-01-26    FL       3            111\n",
       "2009-02-02    GA       1            300"
      ]
     },
     "execution_count": 28,
     "metadata": {},
     "output_type": "execute_result"
    }
   ],
   "source": [
    "df.head()"
   ]
  },
  {
   "cell_type": "markdown",
   "metadata": {},
   "source": [
    "### <font color=\"#585858\">Préparer les données</font>"
   ]
  },
  {
   "cell_type": "markdown",
   "metadata": {},
   "source": [
    "Cette section tente de nettoyer les données pour l'analyse .\n",
    "\n",
    "1. Assurez-vous que la colonne State est tout en majuscules\n",
    "2. Seuls les enregistrements où State  est égal à \"1\" sont sélectionnés\n",
    "3. Fusionner (NJ et New York) à New York dans la colonne State\n",
    "4. Retirez toutes les valeurs aberrantes (tous les résultats impairs dans le jeu de données)\n",
    "\n",
    "Jetons un rapide coup d'oeil sur la façon dont certaines des valeurs de State sont les majuscules et certains sont minuscules"
   ]
  },
  {
   "cell_type": "code",
   "execution_count": 29,
   "metadata": {
    "collapsed": false
   },
   "outputs": [
    {
     "data": {
      "text/plain": [
       "array(['GA', 'FL', 'fl', 'TX', 'NY', 'NJ'], dtype=object)"
      ]
     },
     "execution_count": 29,
     "metadata": {},
     "output_type": "execute_result"
    }
   ],
   "source": [
    "df['State'].unique()"
   ]
  },
  {
   "cell_type": "markdown",
   "metadata": {},
   "source": [
    "Pour convertir toutes les valeurs de State en majuscules, nous allons utiliser la fonction upper() et l'appliquer au dataframe. La fonction lambda permet simplement d'appliquer la fonction upper à chaque valeur dans la colonne State."
   ]
  },
  {
   "cell_type": "code",
   "execution_count": 30,
   "metadata": {
    "collapsed": true
   },
   "outputs": [],
   "source": [
    "# Nettoie la colonne State, convertit en majuscule\n",
    "df['State'] = df.State.apply(lambda x: x.upper())"
   ]
  },
  {
   "cell_type": "code",
   "execution_count": 31,
   "metadata": {
    "collapsed": false
   },
   "outputs": [
    {
     "data": {
      "text/plain": [
       "array(['GA', 'FL', 'TX', 'NY', 'NJ'], dtype=object)"
      ]
     },
     "execution_count": 31,
     "metadata": {},
     "output_type": "execute_result"
    }
   ],
   "source": [
    "df['State'].unique()"
   ]
  },
  {
   "cell_type": "code",
   "execution_count": 32,
   "metadata": {
    "collapsed": true
   },
   "outputs": [],
   "source": [
    "# Prend seulement les status == 1\n",
    "mask = df['Status'] == 1\n",
    "df = df[mask]"
   ]
  },
  {
   "cell_type": "markdown",
   "metadata": {},
   "source": [
    "Pour changer les States NJ en New York nous allons simplement ...\n",
    "\n",
    "<b>[df.State == 'NJ']</b> : Trouver tous les enregistrements dans la colonne State où ils sont égaux à NJ.\n",
    "<br/>\n",
    "<b>df.State[df.State == 'NJ'] = 'NY'</b> : Pour tous les enregistrements dans la colonne State où ils sont égaux à NJ, les remplacer par NY."
   ]
  },
  {
   "cell_type": "code",
   "execution_count": 33,
   "metadata": {
    "collapsed": true
   },
   "outputs": [],
   "source": [
    "# Change NJ en NY\n",
    "mask = df.State == 'NJ'\n",
    "df['State'][mask] = 'NY'"
   ]
  },
  {
   "cell_type": "markdown",
   "metadata": {},
   "source": [
    "Maintenant, nous pouvons voir que nous avons un jeu de données beaucoup plus propre avec lequel on peut travailler."
   ]
  },
  {
   "cell_type": "code",
   "execution_count": 34,
   "metadata": {
    "collapsed": false
   },
   "outputs": [
    {
     "data": {
      "text/plain": [
       "array(['GA', 'FL', 'NY', 'TX'], dtype=object)"
      ]
     },
     "execution_count": 34,
     "metadata": {},
     "output_type": "execute_result"
    }
   ],
   "source": [
    "df['State'].unique()"
   ]
  },
  {
   "cell_type": "markdown",
   "metadata": {},
   "source": [
    "À ce stade, on peut vouloir représenter graphiquement les données pour vérifier toutes les valeurs aberrantes ou les incohérences dans les données. Nous allons utiliser l'attribut plot() du dataframe.\n",
    "\n",
    "Comme vous pouvez le voir sur le graphique ci-dessous, ce n'est pas très concluant et c'est probablement un signe que nous devons effectuer une préparation supplémentaire des données."
   ]
  },
  {
   "cell_type": "code",
   "execution_count": 35,
   "metadata": {
    "collapsed": false
   },
   "outputs": [
    {
     "data": {
      "image/png": "[encoded data removed]",
      "text/plain": [
       "<matplotlib.figure.Figure at 0x107530ef0>"
      ]
     },
     "metadata": {},
     "output_type": "display_data"
    }
   ],
   "source": [
    "df['CustomerCount'].plot(figsize=(15,5));"
   ]
  },
  {
   "cell_type": "markdown",
   "metadata": {},
   "source": [
    "Si nous examinons les données, nous commençons à réaliser qu'il y a plusieurs valeurs pour le même State, StatusDate, et des combinaisons de Status. Il est possible que cela signifie que les données avec lesquels on travaille sont sales/mauvaises/inexactes, mais nous feront une autre supposition. Nous pouvons supposer que ce jeu de données est un sous-ensemble d'un jeu de données plus grand et si l'on ajoute simplement les valeurs dans la colonne CustomerCount par State, StatusDate, et Status, nous allons obtenir le nombre total de clients par jour."
   ]
  },
  {
   "cell_type": "code",
   "execution_count": 36,
   "metadata": {
    "collapsed": false
   },
   "outputs": [
    {
     "data": {
      "text/html": [
       "<div>\n",
       "<table border=\"1\" class=\"dataframe\">\n",
       "  <thead>\n",
       "    <tr style=\"text-align: right;\">\n",
       "      <th></th>\n",
       "      <th>State</th>\n",
       "      <th>Status</th>\n",
       "      <th>CustomerCount</th>\n",
       "    </tr>\n",
       "    <tr>\n",
       "      <th>StatusDate</th>\n",
       "      <th></th>\n",
       "      <th></th>\n",
       "      <th></th>\n",
       "    </tr>\n",
       "  </thead>\n",
       "  <tbody>\n",
       "    <tr>\n",
       "      <th>2009-01-19</th>\n",
       "      <td>NY</td>\n",
       "      <td>1</td>\n",
       "      <td>522</td>\n",
       "    </tr>\n",
       "    <tr>\n",
       "      <th>2009-02-23</th>\n",
       "      <td>NY</td>\n",
       "      <td>1</td>\n",
       "      <td>710</td>\n",
       "    </tr>\n",
       "    <tr>\n",
       "      <th>2009-03-09</th>\n",
       "      <td>NY</td>\n",
       "      <td>1</td>\n",
       "      <td>992</td>\n",
       "    </tr>\n",
       "    <tr>\n",
       "      <th>2009-03-16</th>\n",
       "      <td>NY</td>\n",
       "      <td>1</td>\n",
       "      <td>355</td>\n",
       "    </tr>\n",
       "    <tr>\n",
       "      <th>2009-03-23</th>\n",
       "      <td>NY</td>\n",
       "      <td>1</td>\n",
       "      <td>728</td>\n",
       "    </tr>\n",
       "    <tr>\n",
       "      <th>2009-03-30</th>\n",
       "      <td>NY</td>\n",
       "      <td>1</td>\n",
       "      <td>863</td>\n",
       "    </tr>\n",
       "    <tr>\n",
       "      <th>2009-04-13</th>\n",
       "      <td>NY</td>\n",
       "      <td>1</td>\n",
       "      <td>520</td>\n",
       "    </tr>\n",
       "    <tr>\n",
       "      <th>2009-04-20</th>\n",
       "      <td>NY</td>\n",
       "      <td>1</td>\n",
       "      <td>820</td>\n",
       "    </tr>\n",
       "    <tr>\n",
       "      <th>2009-04-20</th>\n",
       "      <td>NY</td>\n",
       "      <td>1</td>\n",
       "      <td>937</td>\n",
       "    </tr>\n",
       "    <tr>\n",
       "      <th>2009-04-27</th>\n",
       "      <td>NY</td>\n",
       "      <td>1</td>\n",
       "      <td>447</td>\n",
       "    </tr>\n",
       "  </tbody>\n",
       "</table>\n",
       "</div>"
      ],
      "text/plain": [
       "           State  Status  CustomerCount\n",
       "StatusDate                             \n",
       "2009-01-19    NY       1            522\n",
       "2009-02-23    NY       1            710\n",
       "2009-03-09    NY       1            992\n",
       "2009-03-16    NY       1            355\n",
       "2009-03-23    NY       1            728\n",
       "2009-03-30    NY       1            863\n",
       "2009-04-13    NY       1            520\n",
       "2009-04-20    NY       1            820\n",
       "2009-04-20    NY       1            937\n",
       "2009-04-27    NY       1            447"
      ]
     },
     "execution_count": 36,
     "metadata": {},
     "output_type": "execute_result"
    }
   ],
   "source": [
    "sortdf = df[df['State']=='NY'].sort_index(axis=0)\n",
    "sortdf.head(10)"
   ]
  },
  {
   "cell_type": "markdown",
   "metadata": {},
   "source": [
    "Notre travail consiste maintenant à créer un nouveau dataframe qui compresse les données que nous avons par jour le nombre de clients par State et StatusDate. Nous pouvons ignorer la colonne State puisque toutes les valeurs de cette colonne sont de 1. Pour ce faire, nous allons utiliser les fonctions du dataframe groupby et sum().\n",
    "\n",
    "Notez que nous avons dû utiliser reset_index. Si nous ne l'avions pas fait, nous n'aurions pas été en mesure de grouper à la fois par State et StatusDate puisque la fonction groupby attend seulement des colonnes comme inputs. La fonction reset_index transformera l'index StatusDate en une colonne dans le dataframe."
   ]
  },
  {
   "cell_type": "code",
   "execution_count": 37,
   "metadata": {
    "collapsed": false
   },
   "outputs": [
    {
     "data": {
      "text/html": [
       "<div>\n",
       "<table border=\"1\" class=\"dataframe\">\n",
       "  <thead>\n",
       "    <tr style=\"text-align: right;\">\n",
       "      <th></th>\n",
       "      <th></th>\n",
       "      <th>Status</th>\n",
       "      <th>CustomerCount</th>\n",
       "    </tr>\n",
       "    <tr>\n",
       "      <th>State</th>\n",
       "      <th>StatusDate</th>\n",
       "      <th></th>\n",
       "      <th></th>\n",
       "    </tr>\n",
       "  </thead>\n",
       "  <tbody>\n",
       "    <tr>\n",
       "      <th rowspan=\"5\" valign=\"top\">FL</th>\n",
       "      <th>2009-01-12</th>\n",
       "      <td>1</td>\n",
       "      <td>901</td>\n",
       "    </tr>\n",
       "    <tr>\n",
       "      <th>2009-02-02</th>\n",
       "      <td>1</td>\n",
       "      <td>653</td>\n",
       "    </tr>\n",
       "    <tr>\n",
       "      <th>2009-03-23</th>\n",
       "      <td>1</td>\n",
       "      <td>752</td>\n",
       "    </tr>\n",
       "    <tr>\n",
       "      <th>2009-04-06</th>\n",
       "      <td>2</td>\n",
       "      <td>1086</td>\n",
       "    </tr>\n",
       "    <tr>\n",
       "      <th>2009-06-08</th>\n",
       "      <td>1</td>\n",
       "      <td>649</td>\n",
       "    </tr>\n",
       "  </tbody>\n",
       "</table>\n",
       "</div>"
      ],
      "text/plain": [
       "                  Status  CustomerCount\n",
       "State StatusDate                       \n",
       "FL    2009-01-12       1            901\n",
       "      2009-02-02       1            653\n",
       "      2009-03-23       1            752\n",
       "      2009-04-06       2           1086\n",
       "      2009-06-08       1            649"
      ]
     },
     "execution_count": 37,
     "metadata": {},
     "output_type": "execute_result"
    }
   ],
   "source": [
    "# Groupe par State et StatusDate\n",
    "Daily = df.reset_index().groupby(['State','StatusDate']).sum()\n",
    "Daily.head()"
   ]
  },
  {
   "cell_type": "markdown",
   "metadata": {},
   "source": [
    "Les colonnes Sate et StatusDate sont automatiquement placés dans l'index du dataframe Daily. Vous pouvez penser à l'index comme la clé primaire d'une table de base de données, mais sans la contrainte d'avoir des valeurs uniques. Les colonnes dans l'index comme vous le verrez vont nous permettre de sélectionner facilement, déssiner, et effectuer des calculs sur les données.\n",
    "\n",
    "Ci-dessous, nous supprimons la colonne State, car il est partout égal à un et n'est plus nécessaire."
   ]
  },
  {
   "cell_type": "code",
   "execution_count": 38,
   "metadata": {
    "collapsed": false
   },
   "outputs": [
    {
     "data": {
      "text/html": [
       "<div>\n",
       "<table border=\"1\" class=\"dataframe\">\n",
       "  <thead>\n",
       "    <tr style=\"text-align: right;\">\n",
       "      <th></th>\n",
       "      <th></th>\n",
       "      <th>CustomerCount</th>\n",
       "    </tr>\n",
       "    <tr>\n",
       "      <th>State</th>\n",
       "      <th>StatusDate</th>\n",
       "      <th></th>\n",
       "    </tr>\n",
       "  </thead>\n",
       "  <tbody>\n",
       "    <tr>\n",
       "      <th rowspan=\"5\" valign=\"top\">FL</th>\n",
       "      <th>2009-01-12</th>\n",
       "      <td>901</td>\n",
       "    </tr>\n",
       "    <tr>\n",
       "      <th>2009-02-02</th>\n",
       "      <td>653</td>\n",
       "    </tr>\n",
       "    <tr>\n",
       "      <th>2009-03-23</th>\n",
       "      <td>752</td>\n",
       "    </tr>\n",
       "    <tr>\n",
       "      <th>2009-04-06</th>\n",
       "      <td>1086</td>\n",
       "    </tr>\n",
       "    <tr>\n",
       "      <th>2009-06-08</th>\n",
       "      <td>649</td>\n",
       "    </tr>\n",
       "  </tbody>\n",
       "</table>\n",
       "</div>"
      ],
      "text/plain": [
       "                  CustomerCount\n",
       "State StatusDate               \n",
       "FL    2009-01-12            901\n",
       "      2009-02-02            653\n",
       "      2009-03-23            752\n",
       "      2009-04-06           1086\n",
       "      2009-06-08            649"
      ]
     },
     "execution_count": 38,
     "metadata": {},
     "output_type": "execute_result"
    }
   ],
   "source": [
    "del Daily['Status']\n",
    "Daily.head()"
   ]
  },
  {
   "cell_type": "code",
   "execution_count": 39,
   "metadata": {
    "collapsed": false
   },
   "outputs": [
    {
     "data": {
      "text/plain": [
       "MultiIndex(levels=[['FL', 'GA', 'NY', 'TX'], [2009-01-05 00:00:00, 2009-01-12 00:00:00, 2009-01-19 00:00:00, 2009-02-02 00:00:00, 2009-02-23 00:00:00, 2009-03-09 00:00:00, 2009-03-16 00:00:00, 2009-03-23 00:00:00, 2009-03-30 00:00:00, 2009-04-06 00:00:00, 2009-04-13 00:00:00, 2009-04-20 00:00:00, 2009-04-27 00:00:00, 2009-05-04 00:00:00, 2009-05-11 00:00:00, 2009-05-18 00:00:00, 2009-05-25 00:00:00, 2009-06-08 00:00:00, 2009-06-22 00:00:00, 2009-07-06 00:00:00, 2009-07-13 00:00:00, 2009-07-20 00:00:00, 2009-07-27 00:00:00, 2009-08-10 00:00:00, 2009-08-17 00:00:00, 2009-08-24 00:00:00, 2009-08-31 00:00:00, 2009-09-07 00:00:00, 2009-09-14 00:00:00, 2009-09-21 00:00:00, 2009-09-28 00:00:00, 2009-10-05 00:00:00, 2009-10-12 00:00:00, 2009-10-19 00:00:00, 2009-10-26 00:00:00, 2009-11-02 00:00:00, 2009-11-23 00:00:00, 2009-11-30 00:00:00, 2009-12-07 00:00:00, 2009-12-14 00:00:00, 2010-01-04 00:00:00, 2010-01-11 00:00:00, 2010-01-18 00:00:00, 2010-01-25 00:00:00, 2010-02-08 00:00:00, 2010-02-15 00:00:00, 2010-02-22 00:00:00, 2010-03-01 00:00:00, 2010-03-08 00:00:00, 2010-03-15 00:00:00, 2010-04-05 00:00:00, 2010-04-12 00:00:00, 2010-04-26 00:00:00, 2010-05-03 00:00:00, 2010-05-10 00:00:00, 2010-05-17 00:00:00, 2010-05-24 00:00:00, 2010-05-31 00:00:00, 2010-06-14 00:00:00, 2010-06-28 00:00:00, 2010-07-05 00:00:00, 2010-07-19 00:00:00, 2010-07-26 00:00:00, 2010-08-02 00:00:00, 2010-08-09 00:00:00, 2010-08-16 00:00:00, 2010-08-30 00:00:00, 2010-09-06 00:00:00, 2010-09-13 00:00:00, 2010-09-20 00:00:00, 2010-09-27 00:00:00, 2010-10-04 00:00:00, 2010-10-11 00:00:00, 2010-10-18 00:00:00, 2010-10-25 00:00:00, 2010-11-01 00:00:00, 2010-11-08 00:00:00, 2010-11-15 00:00:00, 2010-11-29 00:00:00, 2010-12-20 00:00:00, 2011-01-03 00:00:00, 2011-01-10 00:00:00, 2011-01-17 00:00:00, 2011-02-07 00:00:00, 2011-02-14 00:00:00, 2011-02-21 00:00:00, 2011-02-28 00:00:00, 2011-03-07 00:00:00, 2011-03-14 00:00:00, 2011-03-21 00:00:00, 2011-03-28 00:00:00, 2011-04-04 00:00:00, 2011-04-18 00:00:00, 2011-04-25 00:00:00, 2011-05-02 00:00:00, 2011-05-09 00:00:00, 2011-05-16 00:00:00, 2011-05-23 00:00:00, 2011-05-30 00:00:00, 2011-06-06 00:00:00, 2011-06-20 00:00:00, 2011-06-27 00:00:00, 2011-07-04 00:00:00, 2011-07-11 00:00:00, 2011-07-25 00:00:00, 2011-08-01 00:00:00, 2011-08-08 00:00:00, 2011-08-15 00:00:00, 2011-08-29 00:00:00, 2011-09-05 00:00:00, 2011-09-12 00:00:00, 2011-09-26 00:00:00, 2011-10-03 00:00:00, 2011-10-24 00:00:00, 2011-10-31 00:00:00, 2011-11-07 00:00:00, 2011-11-14 00:00:00, 2011-11-28 00:00:00, 2011-12-05 00:00:00, 2011-12-12 00:00:00, 2011-12-19 00:00:00, 2011-12-26 00:00:00, 2012-01-02 00:00:00, 2012-01-09 00:00:00, 2012-01-16 00:00:00, 2012-02-06 00:00:00, 2012-02-13 00:00:00, 2012-02-20 00:00:00, 2012-02-27 00:00:00, 2012-03-05 00:00:00, 2012-03-12 00:00:00, 2012-03-19 00:00:00, 2012-04-02 00:00:00, 2012-04-09 00:00:00, 2012-04-23 00:00:00, 2012-04-30 00:00:00, 2012-05-07 00:00:00, 2012-05-14 00:00:00, 2012-05-28 00:00:00, 2012-06-04 00:00:00, 2012-06-18 00:00:00, 2012-07-02 00:00:00, 2012-07-09 00:00:00, 2012-07-16 00:00:00, 2012-07-30 00:00:00, 2012-08-06 00:00:00, 2012-08-20 00:00:00, 2012-08-27 00:00:00, 2012-09-03 00:00:00, 2012-09-10 00:00:00, 2012-09-17 00:00:00, 2012-09-24 00:00:00, 2012-10-01 00:00:00, 2012-10-08 00:00:00, 2012-10-22 00:00:00, 2012-10-29 00:00:00, 2012-11-05 00:00:00, 2012-11-12 00:00:00, 2012-11-19 00:00:00, 2012-11-26 00:00:00, 2012-12-10 00:00:00]],\n",
       "           labels=[[0, 0, 0, 0, 0, 0, 0, 0, 0, 0, 0, 0, 0, 0, 0, 0, 0, 0, 0, 0, 0, 0, 0, 0, 0, 0, 0, 0, 0, 0, 0, 0, 0, 0, 0, 0, 0, 0, 0, 0, 0, 0, 0, 0, 0, 0, 0, 0, 0, 0, 0, 0, 0, 0, 0, 0, 0, 0, 0, 0, 0, 0, 0, 0, 0, 0, 0, 0, 0, 0, 0, 0, 0, 0, 0, 0, 0, 0, 0, 0, 0, 0, 1, 1, 1, 1, 1, 1, 1, 1, 1, 1, 1, 1, 1, 1, 1, 1, 1, 1, 1, 1, 1, 1, 1, 1, 1, 1, 1, 1, 1, 1, 1, 1, 1, 1, 1, 1, 1, 1, 1, 1, 1, 1, 1, 1, 1, 2, 2, 2, 2, 2, 2, 2, 2, 2, 2, 2, 2, 2, 2, 2, 2, 2, 2, 2, 2, 2, 2, 2, 2, 2, 2, 2, 2, 2, 2, 2, 2, 2, 2, 2, 2, 2, 2, 2, 2, 2, 2, 2, 2, 2, 2, 2, 2, 2, 2, 2, 2, 2, 2, 2, 2, 2, 2, 2, 2, 2, 2, 2, 2, 2, 2, 2, 2, 2, 2, 2, 2, 2, 2, 2, 2, 2, 2, 2, 3, 3, 3, 3, 3, 3, 3, 3, 3, 3, 3, 3, 3, 3, 3, 3, 3, 3, 3, 3, 3, 3, 3, 3, 3, 3, 3, 3, 3, 3, 3, 3, 3], [1, 3, 7, 9, 17, 19, 20, 21, 23, 25, 27, 28, 29, 30, 31, 35, 38, 40, 41, 44, 45, 46, 47, 48, 49, 52, 54, 56, 57, 59, 60, 62, 66, 68, 69, 70, 71, 72, 75, 76, 77, 78, 79, 85, 88, 89, 92, 96, 97, 99, 100, 101, 103, 104, 105, 108, 109, 110, 112, 114, 115, 117, 118, 119, 125, 126, 127, 128, 129, 131, 133, 134, 135, 136, 137, 140, 146, 150, 151, 152, 153, 157, 0, 3, 7, 22, 23, 24, 27, 28, 34, 37, 42, 47, 50, 55, 58, 66, 67, 69, 71, 73, 74, 75, 79, 82, 83, 84, 85, 91, 93, 95, 97, 106, 110, 120, 124, 125, 126, 127, 132, 133, 139, 143, 158, 159, 160, 2, 4, 5, 6, 7, 8, 10, 11, 12, 13, 14, 16, 19, 21, 22, 24, 26, 28, 29, 30, 31, 32, 33, 36, 39, 40, 42, 43, 51, 56, 61, 62, 63, 66, 67, 70, 71, 72, 73, 75, 78, 80, 81, 82, 83, 86, 87, 90, 91, 92, 94, 101, 102, 103, 105, 107, 108, 111, 113, 116, 118, 122, 125, 129, 130, 131, 132, 138, 139, 141, 142, 143, 144, 148, 149, 154, 156, 159, 160, 15, 16, 17, 18, 45, 47, 50, 53, 57, 61, 64, 65, 68, 84, 88, 94, 98, 107, 110, 112, 115, 121, 122, 123, 128, 130, 134, 135, 145, 146, 147, 148, 155]],\n",
       "           names=['State', 'StatusDate'])"
      ]
     },
     "execution_count": 39,
     "metadata": {},
     "output_type": "execute_result"
    }
   ],
   "source": [
    "# Quels sont les index du dataframe\n",
    "Daily.index"
   ]
  },
  {
   "cell_type": "code",
   "execution_count": 40,
   "metadata": {
    "collapsed": false
   },
   "outputs": [
    {
     "data": {
      "text/plain": [
       "Index(['FL', 'GA', 'NY', 'TX'], dtype='object', name='State')"
      ]
     },
     "execution_count": 40,
     "metadata": {},
     "output_type": "execute_result"
    }
   ],
   "source": [
    "# Selection des State par indice\n",
    "Daily.index.levels[0]"
   ]
  },
  {
   "cell_type": "code",
   "execution_count": 41,
   "metadata": {
    "collapsed": false
   },
   "outputs": [
    {
     "data": {
      "text/plain": [
       "DatetimeIndex(['2009-01-05', '2009-01-12', '2009-01-19', '2009-02-02',\n",
       "               '2009-02-23', '2009-03-09', '2009-03-16', '2009-03-23',\n",
       "               '2009-03-30', '2009-04-06', \n",
       "               ...\n",
       "               '2012-09-24', '2012-10-01', '2012-10-08', '2012-10-22',\n",
       "               '2012-10-29', '2012-11-05', '2012-11-12', '2012-11-19',\n",
       "               '2012-11-26', '2012-12-10'],\n",
       "              dtype='datetime64[ns]', name='StatusDate', length=161, freq=None, tz=None)"
      ]
     },
     "execution_count": 41,
     "metadata": {},
     "output_type": "execute_result"
    }
   ],
   "source": [
    "# Selection des StatusDate par indice\n",
    "Daily.index.levels[1]"
   ]
  },
  {
   "cell_type": "markdown",
   "metadata": {},
   "source": [
    "Traçons maintenant les données par State.\n",
    "\n",
    "Comme vous pouvez le voir en scindant le graphique par la colonne State, nous avons une image beaucoup plus claire sur ce à quoi les données réssemblent. Pouvez-vous repérer les valeurs aberrantes ?"
   ]
  },
  {
   "cell_type": "code",
   "execution_count": 42,
   "metadata": {
    "collapsed": false
   },
   "outputs": [
    {
     "data": {
      "image/png": "[encoded data removed]",
      "text/plain": [
       "<matplotlib.figure.Figure at 0x107030a58>"
      ]
     },
     "metadata": {},
     "output_type": "display_data"
    },
    {
     "data": {
      "image/png": "[encoded data removed]",
      "text/plain": [
       "<matplotlib.figure.Figure at 0x1070306a0>"
      ]
     },
     "metadata": {},
     "output_type": "display_data"
    },
    {
     "data": {
      "image/png": "[encoded data removed]",
      "text/plain": [
       "<matplotlib.figure.Figure at 0x107030ac8>"
      ]
     },
     "metadata": {},
     "output_type": "display_data"
    },
    {
     "data": {
      "image/png": "[encoded data removed]",
      "text/plain": [
       "<matplotlib.figure.Figure at 0x1075b59b0>"
      ]
     },
     "metadata": {},
     "output_type": "display_data"
    }
   ],
   "source": [
    "Daily.loc['FL'].plot()\n",
    "Daily.loc['GA'].plot()\n",
    "Daily.loc['NY'].plot()\n",
    "Daily.loc['TX'].plot();"
   ]
  },
  {
   "cell_type": "markdown",
   "metadata": {},
   "source": [
    "Nous pouvons aussi tracer les données à une date précise, comme 2012 par exemple. Nous pouvons maintenant voir clairement que les données de ces States (États). Puisque les données sont constituées de comptes de clients hebdomadaires, la variabilité des données semble suspect. Pour ce tutoriel, nous allons supposer que ce sont de mauvaises données."
   ]
  },
  {
   "cell_type": "code",
   "execution_count": 43,
   "metadata": {
    "collapsed": false
   },
   "outputs": [
    {
     "data": {
      "image/png": "[encoded data removed]",
      "text/plain": [
       "<matplotlib.figure.Figure at 0x1077a8da0>"
      ]
     },
     "metadata": {},
     "output_type": "display_data"
    },
    {
     "data": {
      "image/png": "[encoded data removed]",
      "text/plain": [
       "<matplotlib.figure.Figure at 0x107a23470>"
      ]
     },
     "metadata": {},
     "output_type": "display_data"
    },
    {
     "data": {
      "image/png": "[encoded data removed]",
      "text/plain": [
       "<matplotlib.figure.Figure at 0x1079f8a20>"
      ]
     },
     "metadata": {},
     "output_type": "display_data"
    },
    {
     "data": {
      "image/png": "[encoded data removed]",
      "text/plain": [
       "<matplotlib.figure.Figure at 0x107add518>"
      ]
     },
     "metadata": {},
     "output_type": "display_data"
    }
   ],
   "source": [
    "Daily.loc['FL']['2012':].plot()\n",
    "Daily.loc['GA']['2012':].plot()\n",
    "Daily.loc['NY']['2012':].plot()\n",
    "Daily.loc['TX']['2012':].plot();"
   ]
  },
  {
   "cell_type": "markdown",
   "metadata": {},
   "source": [
    "Nous supposerons que par mois, le nombre de clients devrait rester relativement stable. Toutes les données en dehors d'une gamme spécifique de ce mois seront retirés du jeu de données. Le résultat final devrait avoir des graphiques lisses sans pointes .\n",
    "\n",
    "<b>StateYearMonth</b> : Ici, nous groupons par State , Année de StatusDate, et mois de StatusDate.\n",
    "<b>Daily['Outlier']</b> : Une valeur booléenne (True ou False) pour nous faire savoir si la valeur dans la colonne CustomerCount est en dehors de la plage acceptable .\n",
    "\n",
    "Nous allons utiliser l'attribut transform au lieu de apply. La raison est que la transform gardera la forme (nombre de lignes et de colonnes) de la dataframe et apply ne le fera pas. En regardant les graphiques précédents, nous pouvons réaliser qu'ils ne ressemblent pas à une distribution gaussienne, cela signifie que nous ne pouvons pas utiliser les statistiques sommaires comme la moyenne et stdev. Nous utilisons les pourcentages à la place. Notez que nous courons le risque d'éliminer de bonnes données."
   ]
  },
  {
   "cell_type": "code",
   "execution_count": 44,
   "metadata": {
    "collapsed": true
   },
   "outputs": [],
   "source": [
    "# Calcul des valeurs aberrantes\n",
    "StateYearMonth = Daily.groupby([Daily.index.get_level_values(0), Daily.index.get_level_values(1).year, Daily.index.get_level_values(1).month])\n",
    "Daily['Lower'] = StateYearMonth['CustomerCount'].transform( lambda x: x.quantile(q=.25) - (1.5*x.quantile(q=.75)-x.quantile(q=.25)) )\n",
    "Daily['Upper'] = StateYearMonth['CustomerCount'].transform( lambda x: x.quantile(q=.75) + (1.5*x.quantile(q=.75)-x.quantile(q=.25)) )\n",
    "Daily['Outlier'] = (Daily['CustomerCount'] < Daily['Lower']) | (Daily['CustomerCount'] > Daily['Upper']) \n",
    "\n",
    "# Suupression des valeurs aberrantes\n",
    "Daily = Daily[Daily['Outlier'] == False]"
   ]
  },
  {
   "cell_type": "markdown",
   "metadata": {},
   "source": [
    "Le dataframe appelé Daily contiendra les comptes clients qui ont été agrégées par jour. Les données d'origine (df) ont plusieurs enregistrements par jour. Nous nous retrouvons avec un jeu de données qui est indexé à la fois par State et StatusDate. La colonne Outlier doit être égale à False signifiant que l'enregistrement n'est pas une valeur aberrante."
   ]
  },
  {
   "cell_type": "code",
   "execution_count": 45,
   "metadata": {
    "collapsed": false
   },
   "outputs": [
    {
     "data": {
      "text/html": [
       "<div>\n",
       "<table border=\"1\" class=\"dataframe\">\n",
       "  <thead>\n",
       "    <tr style=\"text-align: right;\">\n",
       "      <th></th>\n",
       "      <th></th>\n",
       "      <th>CustomerCount</th>\n",
       "      <th>Lower</th>\n",
       "      <th>Upper</th>\n",
       "      <th>Outlier</th>\n",
       "    </tr>\n",
       "    <tr>\n",
       "      <th>State</th>\n",
       "      <th>StatusDate</th>\n",
       "      <th></th>\n",
       "      <th></th>\n",
       "      <th></th>\n",
       "      <th></th>\n",
       "    </tr>\n",
       "  </thead>\n",
       "  <tbody>\n",
       "    <tr>\n",
       "      <th rowspan=\"5\" valign=\"top\">FL</th>\n",
       "      <th>2009-01-12</th>\n",
       "      <td>901</td>\n",
       "      <td>450.5</td>\n",
       "      <td>1351.5</td>\n",
       "      <td>False</td>\n",
       "    </tr>\n",
       "    <tr>\n",
       "      <th>2009-02-02</th>\n",
       "      <td>653</td>\n",
       "      <td>326.5</td>\n",
       "      <td>979.5</td>\n",
       "      <td>False</td>\n",
       "    </tr>\n",
       "    <tr>\n",
       "      <th>2009-03-23</th>\n",
       "      <td>752</td>\n",
       "      <td>376.0</td>\n",
       "      <td>1128.0</td>\n",
       "      <td>False</td>\n",
       "    </tr>\n",
       "    <tr>\n",
       "      <th>2009-04-06</th>\n",
       "      <td>1086</td>\n",
       "      <td>543.0</td>\n",
       "      <td>1629.0</td>\n",
       "      <td>False</td>\n",
       "    </tr>\n",
       "    <tr>\n",
       "      <th>2009-06-08</th>\n",
       "      <td>649</td>\n",
       "      <td>324.5</td>\n",
       "      <td>973.5</td>\n",
       "      <td>False</td>\n",
       "    </tr>\n",
       "  </tbody>\n",
       "</table>\n",
       "</div>"
      ],
      "text/plain": [
       "                  CustomerCount  Lower   Upper Outlier\n",
       "State StatusDate                                      \n",
       "FL    2009-01-12            901  450.5  1351.5   False\n",
       "      2009-02-02            653  326.5   979.5   False\n",
       "      2009-03-23            752  376.0  1128.0   False\n",
       "      2009-04-06           1086  543.0  1629.0   False\n",
       "      2009-06-08            649  324.5   973.5   False"
      ]
     },
     "execution_count": 45,
     "metadata": {},
     "output_type": "execute_result"
    }
   ],
   "source": [
    "Daily.head()"
   ]
  },
  {
   "cell_type": "markdown",
   "metadata": {},
   "source": [
    "Nous créons un dataframe séparé nommé ALL qui regroupe le dataframe Daily par StatusDate. Nous nous débarrassons essentiellement de la colonne State. La colonne Max représente le nombre maximal de clients par mois. La colonne Max est utilisé pour lisser le graphique ."
   ]
  },
  {
   "cell_type": "code",
   "execution_count": 46,
   "metadata": {
    "collapsed": false
   },
   "outputs": [
    {
     "data": {
      "text/html": [
       "<div>\n",
       "<table border=\"1\" class=\"dataframe\">\n",
       "  <thead>\n",
       "    <tr style=\"text-align: right;\">\n",
       "      <th></th>\n",
       "      <th>CustomerCount</th>\n",
       "      <th>Max</th>\n",
       "    </tr>\n",
       "    <tr>\n",
       "      <th>StatusDate</th>\n",
       "      <th></th>\n",
       "      <th></th>\n",
       "    </tr>\n",
       "  </thead>\n",
       "  <tbody>\n",
       "    <tr>\n",
       "      <th>2009-01-05</th>\n",
       "      <td>877</td>\n",
       "      <td>901</td>\n",
       "    </tr>\n",
       "    <tr>\n",
       "      <th>2009-01-12</th>\n",
       "      <td>901</td>\n",
       "      <td>901</td>\n",
       "    </tr>\n",
       "    <tr>\n",
       "      <th>2009-01-19</th>\n",
       "      <td>522</td>\n",
       "      <td>901</td>\n",
       "    </tr>\n",
       "    <tr>\n",
       "      <th>2009-02-02</th>\n",
       "      <td>953</td>\n",
       "      <td>953</td>\n",
       "    </tr>\n",
       "    <tr>\n",
       "      <th>2009-02-23</th>\n",
       "      <td>710</td>\n",
       "      <td>953</td>\n",
       "    </tr>\n",
       "  </tbody>\n",
       "</table>\n",
       "</div>"
      ],
      "text/plain": [
       "            CustomerCount  Max\n",
       "StatusDate                    \n",
       "2009-01-05            877  901\n",
       "2009-01-12            901  901\n",
       "2009-01-19            522  901\n",
       "2009-02-02            953  953\n",
       "2009-02-23            710  953"
      ]
     },
     "execution_count": 46,
     "metadata": {},
     "output_type": "execute_result"
    }
   ],
   "source": [
    "# Combine all markets\n",
    "\n",
    "# Obtenir le nombre de client max par mois\n",
    "ALL = pd.DataFrame(Daily['CustomerCount'].groupby(Daily.index.get_level_values(1)).sum())\n",
    "ALL.columns = ['CustomerCount'] # renomme la colonne\n",
    "\n",
    "# Groupe par année et mois\n",
    "YearMonth = ALL.groupby([lambda x: x.year, lambda x: x.month])\n",
    "\n",
    "# Quel est le nombre de clients max par année et mois\n",
    "ALL['Max'] = YearMonth['CustomerCount'].transform(lambda x: x.max())\n",
    "ALL.head()"
   ]
  },
  {
   "cell_type": "markdown",
   "metadata": {},
   "source": [
    "Comme vous pouvez le voir sur la dataframe ALL ci-dessus, dans le mois de Janvier 2009, le nombre maximal de clients était 901. Si nous avions utilisé apply, nous aurions obtenu un dataframe avec (année et mois) comme l'indice et juste la colonne Max avec la valeur de 901 .\n",
    "\n",
    "Il y a aussi un intérêt pour évaluer si le nombre de clients actuels atteignaient certains objectifs que la compagnie avait établis. Cela consiste ici est à montrer visuellement si le nombre de clients actuels atteint les objectifs énumérés ci-dessous. Nous appellerons objectifs BHAG (Big Hairy Annual Goal) .\n",
    "\n",
    "- 12/31/2011 - 1000 clients\n",
    "- 12/31/2012 - 2000 clients\n",
    "- 12/31/2013 - 3000 clients\n",
    "\n",
    "Nous allons utiliser la fonction date_range pour créer nos dates .\n",
    "\n",
    "<b>Définition</b> : date_range(start=None, end=None, periods=None, freq='D', tz=None, normalize=False, name=None, closed=None)\n",
    "<br/>\n",
    "<b>Docstring</b> : Retourne un indice de type datetime de fréquence fixe, avec <i>jour</i> (calendrier) comme la fréquence par défaut.\n",
    "\n",
    "En choisissant de mettre la valeur de fréquence à A (annuelle), nous serons en mesure d'obtenir les trois dates cibles d'en haut."
   ]
  },
  {
   "cell_type": "code",
   "execution_count": 47,
   "metadata": {
    "collapsed": true
   },
   "outputs": [],
   "source": [
    "pd.date_range?"
   ]
  },
  {
   "cell_type": "code",
   "execution_count": 48,
   "metadata": {
    "collapsed": false
   },
   "outputs": [
    {
     "data": {
      "text/html": [
       "<div>\n",
       "<table border=\"1\" class=\"dataframe\">\n",
       "  <thead>\n",
       "    <tr style=\"text-align: right;\">\n",
       "      <th></th>\n",
       "      <th>BHAG</th>\n",
       "    </tr>\n",
       "  </thead>\n",
       "  <tbody>\n",
       "    <tr>\n",
       "      <th>2011-12-31</th>\n",
       "      <td>1000</td>\n",
       "    </tr>\n",
       "    <tr>\n",
       "      <th>2012-12-31</th>\n",
       "      <td>2000</td>\n",
       "    </tr>\n",
       "    <tr>\n",
       "      <th>2013-12-31</th>\n",
       "      <td>3000</td>\n",
       "    </tr>\n",
       "  </tbody>\n",
       "</table>\n",
       "</div>"
      ],
      "text/plain": [
       "            BHAG\n",
       "2011-12-31  1000\n",
       "2012-12-31  2000\n",
       "2013-12-31  3000"
      ]
     },
     "execution_count": 48,
     "metadata": {},
     "output_type": "execute_result"
    }
   ],
   "source": [
    "# Creation du dataframe BHAG\n",
    "data = [1000,2000,3000]\n",
    "idx = pd.date_range(start='12/31/2011', end='12/31/2013', freq='A')\n",
    "BHAG = pd.DataFrame(data, index=idx, columns=['BHAG'])\n",
    "BHAG"
   ]
  },
  {
   "cell_type": "markdown",
   "metadata": {},
   "source": [
    "La combinaison de dataframes est simplifiée en utilisant la fonction concat. Rappelez-vous quand nous choisissions axis=0 nous ajoutions une ligne."
   ]
  },
  {
   "cell_type": "code",
   "execution_count": 49,
   "metadata": {
    "collapsed": false
   },
   "outputs": [
    {
     "data": {
      "text/html": [
       "<div>\n",
       "<table border=\"1\" class=\"dataframe\">\n",
       "  <thead>\n",
       "    <tr style=\"text-align: right;\">\n",
       "      <th></th>\n",
       "      <th>BHAG</th>\n",
       "      <th>CustomerCount</th>\n",
       "      <th>Max</th>\n",
       "    </tr>\n",
       "  </thead>\n",
       "  <tbody>\n",
       "    <tr>\n",
       "      <th>2012-11-19</th>\n",
       "      <td>NaN</td>\n",
       "      <td>136</td>\n",
       "      <td>1115</td>\n",
       "    </tr>\n",
       "    <tr>\n",
       "      <th>2012-11-26</th>\n",
       "      <td>NaN</td>\n",
       "      <td>1115</td>\n",
       "      <td>1115</td>\n",
       "    </tr>\n",
       "    <tr>\n",
       "      <th>2012-12-10</th>\n",
       "      <td>NaN</td>\n",
       "      <td>1269</td>\n",
       "      <td>1269</td>\n",
       "    </tr>\n",
       "    <tr>\n",
       "      <th>2012-12-31</th>\n",
       "      <td>2000</td>\n",
       "      <td>NaN</td>\n",
       "      <td>NaN</td>\n",
       "    </tr>\n",
       "    <tr>\n",
       "      <th>2013-12-31</th>\n",
       "      <td>3000</td>\n",
       "      <td>NaN</td>\n",
       "      <td>NaN</td>\n",
       "    </tr>\n",
       "  </tbody>\n",
       "</table>\n",
       "</div>"
      ],
      "text/plain": [
       "            BHAG  CustomerCount   Max\n",
       "2012-11-19   NaN            136  1115\n",
       "2012-11-26   NaN           1115  1115\n",
       "2012-12-10   NaN           1269  1269\n",
       "2012-12-31  2000            NaN   NaN\n",
       "2013-12-31  3000            NaN   NaN"
      ]
     },
     "execution_count": 49,
     "metadata": {},
     "output_type": "execute_result"
    }
   ],
   "source": [
    "# Combine le jeu de données de BHAG et de ALL\n",
    "combined = pd.concat([ALL,BHAG], axis=0)\n",
    "combined = combined.sort_index(axis=0)\n",
    "combined.tail()"
   ]
  },
  {
   "cell_type": "code",
   "execution_count": 50,
   "metadata": {
    "collapsed": false
   },
   "outputs": [
    {
     "data": {
      "image/png": "[encoded data removed]",
      "text/plain": [
       "<matplotlib.figure.Figure at 0x107a91a90>"
      ]
     },
     "metadata": {},
     "output_type": "display_data"
    }
   ],
   "source": [
    "fig, axes = plt.subplots(figsize=(12, 7))\n",
    "\n",
    "combined['BHAG'].fillna(method='pad').plot(color='green', label='BHAG')\n",
    "combined['Max'].plot(color='blue', label='All Markets')\n",
    "plt.legend(loc='best');"
   ]
  },
  {
   "cell_type": "markdown",
   "metadata": {},
   "source": [
    "Il était également nécessaire de prévoir le nombre de clients de l'année prochaine et nous pouvons le faire en quelques étapes simples. Nous allons d'abord grouper le dataframe combiné par année et placer le nombre maximum de clients pour cette année. Cela nous donnera une ligne par année."
   ]
  },
  {
   "cell_type": "code",
   "execution_count": 51,
   "metadata": {
    "collapsed": false
   },
   "outputs": [
    {
     "data": {
      "text/html": [
       "<div>\n",
       "<table border=\"1\" class=\"dataframe\">\n",
       "  <thead>\n",
       "    <tr style=\"text-align: right;\">\n",
       "      <th></th>\n",
       "      <th>BHAG</th>\n",
       "      <th>CustomerCount</th>\n",
       "      <th>Max</th>\n",
       "    </tr>\n",
       "  </thead>\n",
       "  <tbody>\n",
       "    <tr>\n",
       "      <th>2009</th>\n",
       "      <td>NaN</td>\n",
       "      <td>2452</td>\n",
       "      <td>2452</td>\n",
       "    </tr>\n",
       "    <tr>\n",
       "      <th>2010</th>\n",
       "      <td>NaN</td>\n",
       "      <td>2065</td>\n",
       "      <td>2065</td>\n",
       "    </tr>\n",
       "    <tr>\n",
       "      <th>2011</th>\n",
       "      <td>1000</td>\n",
       "      <td>2711</td>\n",
       "      <td>2711</td>\n",
       "    </tr>\n",
       "    <tr>\n",
       "      <th>2012</th>\n",
       "      <td>2000</td>\n",
       "      <td>2061</td>\n",
       "      <td>2061</td>\n",
       "    </tr>\n",
       "    <tr>\n",
       "      <th>2013</th>\n",
       "      <td>3000</td>\n",
       "      <td>NaN</td>\n",
       "      <td>NaN</td>\n",
       "    </tr>\n",
       "  </tbody>\n",
       "</table>\n",
       "</div>"
      ],
      "text/plain": [
       "      BHAG  CustomerCount   Max\n",
       "2009   NaN           2452  2452\n",
       "2010   NaN           2065  2065\n",
       "2011  1000           2711  2711\n",
       "2012  2000           2061  2061\n",
       "2013  3000            NaN   NaN"
      ]
     },
     "execution_count": 51,
     "metadata": {},
     "output_type": "execute_result"
    }
   ],
   "source": [
    "# Groupe par année ensuite donne la valeur maximale par année\n",
    "Year = combined.groupby(lambda x: x.year).max()\n",
    "Year"
   ]
  },
  {
   "cell_type": "code",
   "execution_count": 52,
   "metadata": {
    "collapsed": false
   },
   "outputs": [
    {
     "data": {
      "text/html": [
       "<div>\n",
       "<table border=\"1\" class=\"dataframe\">\n",
       "  <thead>\n",
       "    <tr style=\"text-align: right;\">\n",
       "      <th></th>\n",
       "      <th>BHAG</th>\n",
       "      <th>CustomerCount</th>\n",
       "      <th>Max</th>\n",
       "      <th>YR_PCT_Change</th>\n",
       "    </tr>\n",
       "  </thead>\n",
       "  <tbody>\n",
       "    <tr>\n",
       "      <th>2009</th>\n",
       "      <td>NaN</td>\n",
       "      <td>2452</td>\n",
       "      <td>2452</td>\n",
       "      <td>NaN</td>\n",
       "    </tr>\n",
       "    <tr>\n",
       "      <th>2010</th>\n",
       "      <td>NaN</td>\n",
       "      <td>2065</td>\n",
       "      <td>2065</td>\n",
       "      <td>-0.157830</td>\n",
       "    </tr>\n",
       "    <tr>\n",
       "      <th>2011</th>\n",
       "      <td>1000</td>\n",
       "      <td>2711</td>\n",
       "      <td>2711</td>\n",
       "      <td>0.312833</td>\n",
       "    </tr>\n",
       "    <tr>\n",
       "      <th>2012</th>\n",
       "      <td>2000</td>\n",
       "      <td>2061</td>\n",
       "      <td>2061</td>\n",
       "      <td>-0.239764</td>\n",
       "    </tr>\n",
       "    <tr>\n",
       "      <th>2013</th>\n",
       "      <td>3000</td>\n",
       "      <td>NaN</td>\n",
       "      <td>NaN</td>\n",
       "      <td>NaN</td>\n",
       "    </tr>\n",
       "  </tbody>\n",
       "</table>\n",
       "</div>"
      ],
      "text/plain": [
       "      BHAG  CustomerCount   Max  YR_PCT_Change\n",
       "2009   NaN           2452  2452            NaN\n",
       "2010   NaN           2065  2065      -0.157830\n",
       "2011  1000           2711  2711       0.312833\n",
       "2012  2000           2061  2061      -0.239764\n",
       "2013  3000            NaN   NaN            NaN"
      ]
     },
     "execution_count": 52,
     "metadata": {},
     "output_type": "execute_result"
    }
   ],
   "source": [
    "# Ajoute une colonne representant changement de pourcentage par an\n",
    "Year['YR_PCT_Change'] = Year['Max'].pct_change(periods=1)\n",
    "Year"
   ]
  },
  {
   "cell_type": "markdown",
   "metadata": {},
   "source": [
    "Pour obtenir le nombre de clients de fin de l'année prochaine, nous allons supposer que notre taux de croissance actuel reste constant. Nous allons ensuite augmenter cette année le nombre de clients de cette quantité et ce sera notre prévision pour l'année prochaine."
   ]
  },
  {
   "cell_type": "code",
   "execution_count": 53,
   "metadata": {
    "collapsed": false
   },
   "outputs": [
    {
     "data": {
      "text/plain": [
       "1566.8465510881595"
      ]
     },
     "execution_count": 53,
     "metadata": {},
     "output_type": "execute_result"
    }
   ],
   "source": [
    "(1 + Year.ix[2012,'YR_PCT_Change']) * Year.ix[2012,'Max']"
   ]
  },
  {
   "cell_type": "markdown",
   "metadata": {},
   "source": [
    "### <font color=\"#585858\">Présentation des données</font>"
   ]
  },
  {
   "cell_type": "markdown",
   "metadata": {},
   "source": [
    "Créer des graphiques individuels par State."
   ]
  },
  {
   "cell_type": "code",
   "execution_count": 54,
   "metadata": {
    "collapsed": false
   },
   "outputs": [
    {
     "data": {
      "image/png": "[encoded data removed]",
      "text/plain": [
       "<matplotlib.figure.Figure at 0x108833cf8>"
      ]
     },
     "metadata": {},
     "output_type": "display_data"
    },
    {
     "data": {
      "image/png": "[encoded data removed]",
      "text/plain": [
       "<matplotlib.figure.Figure at 0x108833c88>"
      ]
     },
     "metadata": {},
     "output_type": "display_data"
    }
   ],
   "source": [
    "# Premier Graphe\n",
    "ALL['Max'].plot(figsize=(10, 5));plt.title('ALL Markets')\n",
    "\n",
    "# Quatres derniers Graphes\n",
    "fig, axes = plt.subplots(nrows=2, ncols=2, figsize=(20, 10))\n",
    "fig.subplots_adjust(hspace=1.0) ## Create space between plots\n",
    "\n",
    "Daily.loc['FL']['CustomerCount']['2012':].fillna(method='pad').plot(ax=axes[0,0])\n",
    "Daily.loc['GA']['CustomerCount']['2012':].fillna(method='pad').plot(ax=axes[0,1]) \n",
    "Daily.loc['TX']['CustomerCount']['2012':].fillna(method='pad').plot(ax=axes[1,0]) \n",
    "Daily.loc['NY']['CustomerCount']['2012':].fillna(method='pad').plot(ax=axes[1,1]) \n",
    "\n",
    "# Ajout des titres\n",
    "axes[0,0].set_title('Florida')\n",
    "axes[0,1].set_title('Georgia')\n",
    "axes[1,0].set_title('Texas')\n",
    "axes[1,1].set_title('North East');"
   ]
  },
  {
   "cell_type": "markdown",
   "metadata": {},
   "source": [
    "<i>Supprimez le fichier xlsx étant donné que nous avons fini de l'utiliser.</i>"
   ]
  },
  {
   "cell_type": "code",
   "execution_count": 55,
   "metadata": {
    "collapsed": false
   },
   "outputs": [],
   "source": [
    "import os\n",
    "os.remove(Location)"
   ]
  },
  {
   "cell_type": "markdown",
   "metadata": {},
   "source": [
    "## <font color=\"#084B8A\">Chapitre III</font>"
   ]
  },
  {
   "cell_type": "markdown",
   "metadata": {},
   "source": [
    "Dans ce chapitre, on va revenir à l'essentiel. Nous allons travailler avec un petit jeu de données de sorte que vous puissiez facilement comprendre ce que je suis en train d'expliquer. Nous allons ajouter des colonnes, supprimer des colonnes, et découper les données de différentes façons. Amusons-nous !"
   ]
  },
  {
   "cell_type": "code",
   "execution_count": 56,
   "metadata": {
    "collapsed": true
   },
   "outputs": [],
   "source": [
    "# Importation des librairies\n",
    "import pandas as pd\n",
    "import sys"
   ]
  },
  {
   "cell_type": "code",
   "execution_count": 57,
   "metadata": {
    "collapsed": false
   },
   "outputs": [
    {
     "data": {
      "text/html": [
       "<div>\n",
       "<table border=\"1\" class=\"dataframe\">\n",
       "  <thead>\n",
       "    <tr style=\"text-align: right;\">\n",
       "      <th></th>\n",
       "      <th>0</th>\n",
       "    </tr>\n",
       "  </thead>\n",
       "  <tbody>\n",
       "    <tr>\n",
       "      <th>0</th>\n",
       "      <td>0</td>\n",
       "    </tr>\n",
       "    <tr>\n",
       "      <th>1</th>\n",
       "      <td>1</td>\n",
       "    </tr>\n",
       "    <tr>\n",
       "      <th>2</th>\n",
       "      <td>2</td>\n",
       "    </tr>\n",
       "    <tr>\n",
       "      <th>3</th>\n",
       "      <td>3</td>\n",
       "    </tr>\n",
       "    <tr>\n",
       "      <th>4</th>\n",
       "      <td>4</td>\n",
       "    </tr>\n",
       "    <tr>\n",
       "      <th>5</th>\n",
       "      <td>5</td>\n",
       "    </tr>\n",
       "    <tr>\n",
       "      <th>6</th>\n",
       "      <td>6</td>\n",
       "    </tr>\n",
       "    <tr>\n",
       "      <th>7</th>\n",
       "      <td>7</td>\n",
       "    </tr>\n",
       "    <tr>\n",
       "      <th>8</th>\n",
       "      <td>8</td>\n",
       "    </tr>\n",
       "    <tr>\n",
       "      <th>9</th>\n",
       "      <td>9</td>\n",
       "    </tr>\n",
       "  </tbody>\n",
       "</table>\n",
       "</div>"
      ],
      "text/plain": [
       "   0\n",
       "0  0\n",
       "1  1\n",
       "2  2\n",
       "3  3\n",
       "4  4\n",
       "5  5\n",
       "6  6\n",
       "7  7\n",
       "8  8\n",
       "9  9"
      ]
     },
     "execution_count": 57,
     "metadata": {},
     "output_type": "execute_result"
    }
   ],
   "source": [
    "# Notre petit jeu de données\n",
    "d = [0,1,2,3,4,5,6,7,8,9]\n",
    "\n",
    "# Création de notre dataframe\n",
    "df = pd.DataFrame(d)\n",
    "df"
   ]
  },
  {
   "cell_type": "code",
   "execution_count": 58,
   "metadata": {
    "collapsed": false
   },
   "outputs": [
    {
     "data": {
      "text/html": [
       "<div>\n",
       "<table border=\"1\" class=\"dataframe\">\n",
       "  <thead>\n",
       "    <tr style=\"text-align: right;\">\n",
       "      <th></th>\n",
       "      <th>Rev</th>\n",
       "    </tr>\n",
       "  </thead>\n",
       "  <tbody>\n",
       "    <tr>\n",
       "      <th>0</th>\n",
       "      <td>0</td>\n",
       "    </tr>\n",
       "    <tr>\n",
       "      <th>1</th>\n",
       "      <td>1</td>\n",
       "    </tr>\n",
       "    <tr>\n",
       "      <th>2</th>\n",
       "      <td>2</td>\n",
       "    </tr>\n",
       "    <tr>\n",
       "      <th>3</th>\n",
       "      <td>3</td>\n",
       "    </tr>\n",
       "    <tr>\n",
       "      <th>4</th>\n",
       "      <td>4</td>\n",
       "    </tr>\n",
       "    <tr>\n",
       "      <th>5</th>\n",
       "      <td>5</td>\n",
       "    </tr>\n",
       "    <tr>\n",
       "      <th>6</th>\n",
       "      <td>6</td>\n",
       "    </tr>\n",
       "    <tr>\n",
       "      <th>7</th>\n",
       "      <td>7</td>\n",
       "    </tr>\n",
       "    <tr>\n",
       "      <th>8</th>\n",
       "      <td>8</td>\n",
       "    </tr>\n",
       "    <tr>\n",
       "      <th>9</th>\n",
       "      <td>9</td>\n",
       "    </tr>\n",
       "  </tbody>\n",
       "</table>\n",
       "</div>"
      ],
      "text/plain": [
       "   Rev\n",
       "0    0\n",
       "1    1\n",
       "2    2\n",
       "3    3\n",
       "4    4\n",
       "5    5\n",
       "6    6\n",
       "7    7\n",
       "8    8\n",
       "9    9"
      ]
     },
     "execution_count": 58,
     "metadata": {},
     "output_type": "execute_result"
    }
   ],
   "source": [
    "# Changeons the nom de la colonne\n",
    "df.columns = ['Rev']\n",
    "df"
   ]
  },
  {
   "cell_type": "code",
   "execution_count": 59,
   "metadata": {
    "collapsed": false
   },
   "outputs": [
    {
     "data": {
      "text/html": [
       "<div>\n",
       "<table border=\"1\" class=\"dataframe\">\n",
       "  <thead>\n",
       "    <tr style=\"text-align: right;\">\n",
       "      <th></th>\n",
       "      <th>Rev</th>\n",
       "      <th>NewCol</th>\n",
       "    </tr>\n",
       "  </thead>\n",
       "  <tbody>\n",
       "    <tr>\n",
       "      <th>0</th>\n",
       "      <td>0</td>\n",
       "      <td>5</td>\n",
       "    </tr>\n",
       "    <tr>\n",
       "      <th>1</th>\n",
       "      <td>1</td>\n",
       "      <td>5</td>\n",
       "    </tr>\n",
       "    <tr>\n",
       "      <th>2</th>\n",
       "      <td>2</td>\n",
       "      <td>5</td>\n",
       "    </tr>\n",
       "    <tr>\n",
       "      <th>3</th>\n",
       "      <td>3</td>\n",
       "      <td>5</td>\n",
       "    </tr>\n",
       "    <tr>\n",
       "      <th>4</th>\n",
       "      <td>4</td>\n",
       "      <td>5</td>\n",
       "    </tr>\n",
       "    <tr>\n",
       "      <th>5</th>\n",
       "      <td>5</td>\n",
       "      <td>5</td>\n",
       "    </tr>\n",
       "    <tr>\n",
       "      <th>6</th>\n",
       "      <td>6</td>\n",
       "      <td>5</td>\n",
       "    </tr>\n",
       "    <tr>\n",
       "      <th>7</th>\n",
       "      <td>7</td>\n",
       "      <td>5</td>\n",
       "    </tr>\n",
       "    <tr>\n",
       "      <th>8</th>\n",
       "      <td>8</td>\n",
       "      <td>5</td>\n",
       "    </tr>\n",
       "    <tr>\n",
       "      <th>9</th>\n",
       "      <td>9</td>\n",
       "      <td>5</td>\n",
       "    </tr>\n",
       "  </tbody>\n",
       "</table>\n",
       "</div>"
      ],
      "text/plain": [
       "   Rev  NewCol\n",
       "0    0       5\n",
       "1    1       5\n",
       "2    2       5\n",
       "3    3       5\n",
       "4    4       5\n",
       "5    5       5\n",
       "6    6       5\n",
       "7    7       5\n",
       "8    8       5\n",
       "9    9       5"
      ]
     },
     "execution_count": 59,
     "metadata": {},
     "output_type": "execute_result"
    }
   ],
   "source": [
    "# Ajoutons une colonne\n",
    "df['NewCol'] = 5\n",
    "df"
   ]
  },
  {
   "cell_type": "code",
   "execution_count": 60,
   "metadata": {
    "collapsed": false
   },
   "outputs": [
    {
     "data": {
      "text/html": [
       "<div>\n",
       "<table border=\"1\" class=\"dataframe\">\n",
       "  <thead>\n",
       "    <tr style=\"text-align: right;\">\n",
       "      <th></th>\n",
       "      <th>Rev</th>\n",
       "      <th>NewCol</th>\n",
       "    </tr>\n",
       "  </thead>\n",
       "  <tbody>\n",
       "    <tr>\n",
       "      <th>0</th>\n",
       "      <td>0</td>\n",
       "      <td>6</td>\n",
       "    </tr>\n",
       "    <tr>\n",
       "      <th>1</th>\n",
       "      <td>1</td>\n",
       "      <td>6</td>\n",
       "    </tr>\n",
       "    <tr>\n",
       "      <th>2</th>\n",
       "      <td>2</td>\n",
       "      <td>6</td>\n",
       "    </tr>\n",
       "    <tr>\n",
       "      <th>3</th>\n",
       "      <td>3</td>\n",
       "      <td>6</td>\n",
       "    </tr>\n",
       "    <tr>\n",
       "      <th>4</th>\n",
       "      <td>4</td>\n",
       "      <td>6</td>\n",
       "    </tr>\n",
       "    <tr>\n",
       "      <th>5</th>\n",
       "      <td>5</td>\n",
       "      <td>6</td>\n",
       "    </tr>\n",
       "    <tr>\n",
       "      <th>6</th>\n",
       "      <td>6</td>\n",
       "      <td>6</td>\n",
       "    </tr>\n",
       "    <tr>\n",
       "      <th>7</th>\n",
       "      <td>7</td>\n",
       "      <td>6</td>\n",
       "    </tr>\n",
       "    <tr>\n",
       "      <th>8</th>\n",
       "      <td>8</td>\n",
       "      <td>6</td>\n",
       "    </tr>\n",
       "    <tr>\n",
       "      <th>9</th>\n",
       "      <td>9</td>\n",
       "      <td>6</td>\n",
       "    </tr>\n",
       "  </tbody>\n",
       "</table>\n",
       "</div>"
      ],
      "text/plain": [
       "   Rev  NewCol\n",
       "0    0       6\n",
       "1    1       6\n",
       "2    2       6\n",
       "3    3       6\n",
       "4    4       6\n",
       "5    5       6\n",
       "6    6       6\n",
       "7    7       6\n",
       "8    8       6\n",
       "9    9       6"
      ]
     },
     "execution_count": 60,
     "metadata": {},
     "output_type": "execute_result"
    }
   ],
   "source": [
    "# Modifions notre nouvelle colonne\n",
    "df['NewCol'] = df['NewCol'] + 1\n",
    "df"
   ]
  },
  {
   "cell_type": "code",
   "execution_count": 61,
   "metadata": {
    "collapsed": false
   },
   "outputs": [
    {
     "data": {
      "text/html": [
       "<div>\n",
       "<table border=\"1\" class=\"dataframe\">\n",
       "  <thead>\n",
       "    <tr style=\"text-align: right;\">\n",
       "      <th></th>\n",
       "      <th>Rev</th>\n",
       "    </tr>\n",
       "  </thead>\n",
       "  <tbody>\n",
       "    <tr>\n",
       "      <th>0</th>\n",
       "      <td>0</td>\n",
       "    </tr>\n",
       "    <tr>\n",
       "      <th>1</th>\n",
       "      <td>1</td>\n",
       "    </tr>\n",
       "    <tr>\n",
       "      <th>2</th>\n",
       "      <td>2</td>\n",
       "    </tr>\n",
       "    <tr>\n",
       "      <th>3</th>\n",
       "      <td>3</td>\n",
       "    </tr>\n",
       "    <tr>\n",
       "      <th>4</th>\n",
       "      <td>4</td>\n",
       "    </tr>\n",
       "    <tr>\n",
       "      <th>5</th>\n",
       "      <td>5</td>\n",
       "    </tr>\n",
       "    <tr>\n",
       "      <th>6</th>\n",
       "      <td>6</td>\n",
       "    </tr>\n",
       "    <tr>\n",
       "      <th>7</th>\n",
       "      <td>7</td>\n",
       "    </tr>\n",
       "    <tr>\n",
       "      <th>8</th>\n",
       "      <td>8</td>\n",
       "    </tr>\n",
       "    <tr>\n",
       "      <th>9</th>\n",
       "      <td>9</td>\n",
       "    </tr>\n",
       "  </tbody>\n",
       "</table>\n",
       "</div>"
      ],
      "text/plain": [
       "   Rev\n",
       "0    0\n",
       "1    1\n",
       "2    2\n",
       "3    3\n",
       "4    4\n",
       "5    5\n",
       "6    6\n",
       "7    7\n",
       "8    8\n",
       "9    9"
      ]
     },
     "execution_count": 61,
     "metadata": {},
     "output_type": "execute_result"
    }
   ],
   "source": [
    "# Nous pouvons supprimer les colonnes\n",
    "del df['NewCol']\n",
    "df"
   ]
  },
  {
   "cell_type": "code",
   "execution_count": 62,
   "metadata": {
    "collapsed": false
   },
   "outputs": [
    {
     "data": {
      "text/html": [
       "<div>\n",
       "<table border=\"1\" class=\"dataframe\">\n",
       "  <thead>\n",
       "    <tr style=\"text-align: right;\">\n",
       "      <th></th>\n",
       "      <th>Rev</th>\n",
       "      <th>test</th>\n",
       "      <th>col</th>\n",
       "    </tr>\n",
       "  </thead>\n",
       "  <tbody>\n",
       "    <tr>\n",
       "      <th>0</th>\n",
       "      <td>0</td>\n",
       "      <td>3</td>\n",
       "      <td>0</td>\n",
       "    </tr>\n",
       "    <tr>\n",
       "      <th>1</th>\n",
       "      <td>1</td>\n",
       "      <td>3</td>\n",
       "      <td>1</td>\n",
       "    </tr>\n",
       "    <tr>\n",
       "      <th>2</th>\n",
       "      <td>2</td>\n",
       "      <td>3</td>\n",
       "      <td>2</td>\n",
       "    </tr>\n",
       "    <tr>\n",
       "      <th>3</th>\n",
       "      <td>3</td>\n",
       "      <td>3</td>\n",
       "      <td>3</td>\n",
       "    </tr>\n",
       "    <tr>\n",
       "      <th>4</th>\n",
       "      <td>4</td>\n",
       "      <td>3</td>\n",
       "      <td>4</td>\n",
       "    </tr>\n",
       "    <tr>\n",
       "      <th>5</th>\n",
       "      <td>5</td>\n",
       "      <td>3</td>\n",
       "      <td>5</td>\n",
       "    </tr>\n",
       "    <tr>\n",
       "      <th>6</th>\n",
       "      <td>6</td>\n",
       "      <td>3</td>\n",
       "      <td>6</td>\n",
       "    </tr>\n",
       "    <tr>\n",
       "      <th>7</th>\n",
       "      <td>7</td>\n",
       "      <td>3</td>\n",
       "      <td>7</td>\n",
       "    </tr>\n",
       "    <tr>\n",
       "      <th>8</th>\n",
       "      <td>8</td>\n",
       "      <td>3</td>\n",
       "      <td>8</td>\n",
       "    </tr>\n",
       "    <tr>\n",
       "      <th>9</th>\n",
       "      <td>9</td>\n",
       "      <td>3</td>\n",
       "      <td>9</td>\n",
       "    </tr>\n",
       "  </tbody>\n",
       "</table>\n",
       "</div>"
      ],
      "text/plain": [
       "   Rev  test  col\n",
       "0    0     3    0\n",
       "1    1     3    1\n",
       "2    2     3    2\n",
       "3    3     3    3\n",
       "4    4     3    4\n",
       "5    5     3    5\n",
       "6    6     3    6\n",
       "7    7     3    7\n",
       "8    8     3    8\n",
       "9    9     3    9"
      ]
     },
     "execution_count": 62,
     "metadata": {},
     "output_type": "execute_result"
    }
   ],
   "source": [
    "# Ajoutons un couple de colonnes\n",
    "df['test'] = 3\n",
    "df['col'] = df['Rev']\n",
    "df"
   ]
  },
  {
   "cell_type": "code",
   "execution_count": 63,
   "metadata": {
    "collapsed": false
   },
   "outputs": [
    {
     "data": {
      "text/html": [
       "<div>\n",
       "<table border=\"1\" class=\"dataframe\">\n",
       "  <thead>\n",
       "    <tr style=\"text-align: right;\">\n",
       "      <th></th>\n",
       "      <th>Rev</th>\n",
       "      <th>test</th>\n",
       "      <th>col</th>\n",
       "    </tr>\n",
       "  </thead>\n",
       "  <tbody>\n",
       "    <tr>\n",
       "      <th>a</th>\n",
       "      <td>0</td>\n",
       "      <td>3</td>\n",
       "      <td>0</td>\n",
       "    </tr>\n",
       "    <tr>\n",
       "      <th>b</th>\n",
       "      <td>1</td>\n",
       "      <td>3</td>\n",
       "      <td>1</td>\n",
       "    </tr>\n",
       "    <tr>\n",
       "      <th>c</th>\n",
       "      <td>2</td>\n",
       "      <td>3</td>\n",
       "      <td>2</td>\n",
       "    </tr>\n",
       "    <tr>\n",
       "      <th>d</th>\n",
       "      <td>3</td>\n",
       "      <td>3</td>\n",
       "      <td>3</td>\n",
       "    </tr>\n",
       "    <tr>\n",
       "      <th>e</th>\n",
       "      <td>4</td>\n",
       "      <td>3</td>\n",
       "      <td>4</td>\n",
       "    </tr>\n",
       "    <tr>\n",
       "      <th>f</th>\n",
       "      <td>5</td>\n",
       "      <td>3</td>\n",
       "      <td>5</td>\n",
       "    </tr>\n",
       "    <tr>\n",
       "      <th>g</th>\n",
       "      <td>6</td>\n",
       "      <td>3</td>\n",
       "      <td>6</td>\n",
       "    </tr>\n",
       "    <tr>\n",
       "      <th>h</th>\n",
       "      <td>7</td>\n",
       "      <td>3</td>\n",
       "      <td>7</td>\n",
       "    </tr>\n",
       "    <tr>\n",
       "      <th>i</th>\n",
       "      <td>8</td>\n",
       "      <td>3</td>\n",
       "      <td>8</td>\n",
       "    </tr>\n",
       "    <tr>\n",
       "      <th>j</th>\n",
       "      <td>9</td>\n",
       "      <td>3</td>\n",
       "      <td>9</td>\n",
       "    </tr>\n",
       "  </tbody>\n",
       "</table>\n",
       "</div>"
      ],
      "text/plain": [
       "   Rev  test  col\n",
       "a    0     3    0\n",
       "b    1     3    1\n",
       "c    2     3    2\n",
       "d    3     3    3\n",
       "e    4     3    4\n",
       "f    5     3    5\n",
       "g    6     3    6\n",
       "h    7     3    7\n",
       "i    8     3    8\n",
       "j    9     3    9"
      ]
     },
     "execution_count": 63,
     "metadata": {},
     "output_type": "execute_result"
    }
   ],
   "source": [
    "# Si nous voulions , nous pourrions changer le nom de l'index\n",
    "i = ['a','b','c','d','e','f','g','h','i','j']\n",
    "df.index = i\n",
    "df"
   ]
  },
  {
   "cell_type": "markdown",
   "metadata": {},
   "source": [
    "Nous pouvons maintenant commencer à sélectionner des morceaux de la dataframe utilisant loc."
   ]
  },
  {
   "cell_type": "code",
   "execution_count": 64,
   "metadata": {
    "collapsed": false
   },
   "outputs": [
    {
     "data": {
      "text/plain": [
       "Rev     0\n",
       "test    3\n",
       "col     0\n",
       "Name: a, dtype: int64"
      ]
     },
     "execution_count": 64,
     "metadata": {},
     "output_type": "execute_result"
    }
   ],
   "source": [
    "df.loc['a']"
   ]
  },
  {
   "cell_type": "code",
   "execution_count": 65,
   "metadata": {
    "collapsed": false
   },
   "outputs": [
    {
     "data": {
      "text/html": [
       "<div>\n",
       "<table border=\"1\" class=\"dataframe\">\n",
       "  <thead>\n",
       "    <tr style=\"text-align: right;\">\n",
       "      <th></th>\n",
       "      <th>Rev</th>\n",
       "      <th>test</th>\n",
       "      <th>col</th>\n",
       "    </tr>\n",
       "  </thead>\n",
       "  <tbody>\n",
       "    <tr>\n",
       "      <th>a</th>\n",
       "      <td>0</td>\n",
       "      <td>3</td>\n",
       "      <td>0</td>\n",
       "    </tr>\n",
       "    <tr>\n",
       "      <th>b</th>\n",
       "      <td>1</td>\n",
       "      <td>3</td>\n",
       "      <td>1</td>\n",
       "    </tr>\n",
       "    <tr>\n",
       "      <th>c</th>\n",
       "      <td>2</td>\n",
       "      <td>3</td>\n",
       "      <td>2</td>\n",
       "    </tr>\n",
       "    <tr>\n",
       "      <th>d</th>\n",
       "      <td>3</td>\n",
       "      <td>3</td>\n",
       "      <td>3</td>\n",
       "    </tr>\n",
       "  </tbody>\n",
       "</table>\n",
       "</div>"
      ],
      "text/plain": [
       "   Rev  test  col\n",
       "a    0     3    0\n",
       "b    1     3    1\n",
       "c    2     3    2\n",
       "d    3     3    3"
      ]
     },
     "execution_count": 65,
     "metadata": {},
     "output_type": "execute_result"
    }
   ],
   "source": [
    "# df.loc[inclus:inclus]\n",
    "df.loc['a':'d']"
   ]
  },
  {
   "cell_type": "code",
   "execution_count": 66,
   "metadata": {
    "collapsed": false
   },
   "outputs": [
    {
     "data": {
      "text/html": [
       "<div>\n",
       "<table border=\"1\" class=\"dataframe\">\n",
       "  <thead>\n",
       "    <tr style=\"text-align: right;\">\n",
       "      <th></th>\n",
       "      <th>Rev</th>\n",
       "      <th>test</th>\n",
       "      <th>col</th>\n",
       "    </tr>\n",
       "  </thead>\n",
       "  <tbody>\n",
       "    <tr>\n",
       "      <th>a</th>\n",
       "      <td>0</td>\n",
       "      <td>3</td>\n",
       "      <td>0</td>\n",
       "    </tr>\n",
       "    <tr>\n",
       "      <th>b</th>\n",
       "      <td>1</td>\n",
       "      <td>3</td>\n",
       "      <td>1</td>\n",
       "    </tr>\n",
       "    <tr>\n",
       "      <th>c</th>\n",
       "      <td>2</td>\n",
       "      <td>3</td>\n",
       "      <td>2</td>\n",
       "    </tr>\n",
       "  </tbody>\n",
       "</table>\n",
       "</div>"
      ],
      "text/plain": [
       "   Rev  test  col\n",
       "a    0     3    0\n",
       "b    1     3    1\n",
       "c    2     3    2"
      ]
     },
     "execution_count": 66,
     "metadata": {},
     "output_type": "execute_result"
    }
   ],
   "source": [
    "# df.iloc[inclus:exclus]\n",
    "# Remarque: .iloc est la position strictement basée sur les entiers.\n",
    "df.iloc[0:3]"
   ]
  },
  {
   "cell_type": "markdown",
   "metadata": {},
   "source": [
    "Nous pouvons également choisir d'utiliser le nom de la colonne."
   ]
  },
  {
   "cell_type": "code",
   "execution_count": 67,
   "metadata": {
    "collapsed": false
   },
   "outputs": [
    {
     "data": {
      "text/plain": [
       "a    0\n",
       "b    1\n",
       "c    2\n",
       "d    3\n",
       "e    4\n",
       "f    5\n",
       "g    6\n",
       "h    7\n",
       "i    8\n",
       "j    9\n",
       "Name: Rev, dtype: int64"
      ]
     },
     "execution_count": 67,
     "metadata": {},
     "output_type": "execute_result"
    }
   ],
   "source": [
    "df['Rev']"
   ]
  },
  {
   "cell_type": "code",
   "execution_count": 68,
   "metadata": {
    "collapsed": false
   },
   "outputs": [
    {
     "data": {
      "text/html": [
       "<div>\n",
       "<table border=\"1\" class=\"dataframe\">\n",
       "  <thead>\n",
       "    <tr style=\"text-align: right;\">\n",
       "      <th></th>\n",
       "      <th>Rev</th>\n",
       "      <th>test</th>\n",
       "    </tr>\n",
       "  </thead>\n",
       "  <tbody>\n",
       "    <tr>\n",
       "      <th>a</th>\n",
       "      <td>0</td>\n",
       "      <td>3</td>\n",
       "    </tr>\n",
       "    <tr>\n",
       "      <th>b</th>\n",
       "      <td>1</td>\n",
       "      <td>3</td>\n",
       "    </tr>\n",
       "    <tr>\n",
       "      <th>c</th>\n",
       "      <td>2</td>\n",
       "      <td>3</td>\n",
       "    </tr>\n",
       "    <tr>\n",
       "      <th>d</th>\n",
       "      <td>3</td>\n",
       "      <td>3</td>\n",
       "    </tr>\n",
       "    <tr>\n",
       "      <th>e</th>\n",
       "      <td>4</td>\n",
       "      <td>3</td>\n",
       "    </tr>\n",
       "    <tr>\n",
       "      <th>f</th>\n",
       "      <td>5</td>\n",
       "      <td>3</td>\n",
       "    </tr>\n",
       "    <tr>\n",
       "      <th>g</th>\n",
       "      <td>6</td>\n",
       "      <td>3</td>\n",
       "    </tr>\n",
       "    <tr>\n",
       "      <th>h</th>\n",
       "      <td>7</td>\n",
       "      <td>3</td>\n",
       "    </tr>\n",
       "    <tr>\n",
       "      <th>i</th>\n",
       "      <td>8</td>\n",
       "      <td>3</td>\n",
       "    </tr>\n",
       "    <tr>\n",
       "      <th>j</th>\n",
       "      <td>9</td>\n",
       "      <td>3</td>\n",
       "    </tr>\n",
       "  </tbody>\n",
       "</table>\n",
       "</div>"
      ],
      "text/plain": [
       "   Rev  test\n",
       "a    0     3\n",
       "b    1     3\n",
       "c    2     3\n",
       "d    3     3\n",
       "e    4     3\n",
       "f    5     3\n",
       "g    6     3\n",
       "h    7     3\n",
       "i    8     3\n",
       "j    9     3"
      ]
     },
     "execution_count": 68,
     "metadata": {},
     "output_type": "execute_result"
    }
   ],
   "source": [
    "df[['Rev', 'test']]"
   ]
  },
  {
   "cell_type": "code",
   "execution_count": 69,
   "metadata": {
    "collapsed": false
   },
   "outputs": [
    {
     "data": {
      "text/plain": [
       "a    0\n",
       "b    1\n",
       "c    2\n",
       "Name: Rev, dtype: int64"
      ]
     },
     "execution_count": 69,
     "metadata": {},
     "output_type": "execute_result"
    }
   ],
   "source": [
    "# df.ix[lignes,colonnes]\n",
    "df.ix[0:3,'Rev']"
   ]
  },
  {
   "cell_type": "code",
   "execution_count": 70,
   "metadata": {
    "collapsed": false
   },
   "outputs": [
    {
     "data": {
      "text/plain": [
       "f    5\n",
       "g    6\n",
       "h    7\n",
       "i    8\n",
       "j    9\n",
       "Name: col, dtype: int64"
      ]
     },
     "execution_count": 70,
     "metadata": {},
     "output_type": "execute_result"
    }
   ],
   "source": [
    "df.ix[5:,'col']"
   ]
  },
  {
   "cell_type": "code",
   "execution_count": 71,
   "metadata": {
    "collapsed": false
   },
   "outputs": [
    {
     "data": {
      "text/html": [
       "<div>\n",
       "<table border=\"1\" class=\"dataframe\">\n",
       "  <thead>\n",
       "    <tr style=\"text-align: right;\">\n",
       "      <th></th>\n",
       "      <th>col</th>\n",
       "      <th>test</th>\n",
       "    </tr>\n",
       "  </thead>\n",
       "  <tbody>\n",
       "    <tr>\n",
       "      <th>a</th>\n",
       "      <td>0</td>\n",
       "      <td>3</td>\n",
       "    </tr>\n",
       "    <tr>\n",
       "      <th>b</th>\n",
       "      <td>1</td>\n",
       "      <td>3</td>\n",
       "    </tr>\n",
       "    <tr>\n",
       "      <th>c</th>\n",
       "      <td>2</td>\n",
       "      <td>3</td>\n",
       "    </tr>\n",
       "  </tbody>\n",
       "</table>\n",
       "</div>"
      ],
      "text/plain": [
       "   col  test\n",
       "a    0     3\n",
       "b    1     3\n",
       "c    2     3"
      ]
     },
     "execution_count": 71,
     "metadata": {},
     "output_type": "execute_result"
    }
   ],
   "source": [
    "df.ix[:3,['col', 'test']]"
   ]
  },
  {
   "cell_type": "markdown",
   "metadata": {},
   "source": [
    "Il y a aussi une fonction pratique pour sélectionner les enregistrements supérieure et inférieure d'un dataframe."
   ]
  },
  {
   "cell_type": "code",
   "execution_count": 72,
   "metadata": {
    "collapsed": false
   },
   "outputs": [
    {
     "data": {
      "text/html": [
       "<div>\n",
       "<table border=\"1\" class=\"dataframe\">\n",
       "  <thead>\n",
       "    <tr style=\"text-align: right;\">\n",
       "      <th></th>\n",
       "      <th>Rev</th>\n",
       "      <th>test</th>\n",
       "      <th>col</th>\n",
       "    </tr>\n",
       "  </thead>\n",
       "  <tbody>\n",
       "    <tr>\n",
       "      <th>a</th>\n",
       "      <td>0</td>\n",
       "      <td>3</td>\n",
       "      <td>0</td>\n",
       "    </tr>\n",
       "    <tr>\n",
       "      <th>b</th>\n",
       "      <td>1</td>\n",
       "      <td>3</td>\n",
       "      <td>1</td>\n",
       "    </tr>\n",
       "    <tr>\n",
       "      <th>c</th>\n",
       "      <td>2</td>\n",
       "      <td>3</td>\n",
       "      <td>2</td>\n",
       "    </tr>\n",
       "    <tr>\n",
       "      <th>d</th>\n",
       "      <td>3</td>\n",
       "      <td>3</td>\n",
       "      <td>3</td>\n",
       "    </tr>\n",
       "    <tr>\n",
       "      <th>e</th>\n",
       "      <td>4</td>\n",
       "      <td>3</td>\n",
       "      <td>4</td>\n",
       "    </tr>\n",
       "  </tbody>\n",
       "</table>\n",
       "</div>"
      ],
      "text/plain": [
       "   Rev  test  col\n",
       "a    0     3    0\n",
       "b    1     3    1\n",
       "c    2     3    2\n",
       "d    3     3    3\n",
       "e    4     3    4"
      ]
     },
     "execution_count": 72,
     "metadata": {},
     "output_type": "execute_result"
    }
   ],
   "source": [
    "# Sélectionnez les N premiers enregistrements (par défaut = 5)\n",
    "df.head()"
   ]
  },
  {
   "cell_type": "code",
   "execution_count": 73,
   "metadata": {
    "collapsed": false
   },
   "outputs": [
    {
     "data": {
      "text/html": [
       "<div>\n",
       "<table border=\"1\" class=\"dataframe\">\n",
       "  <thead>\n",
       "    <tr style=\"text-align: right;\">\n",
       "      <th></th>\n",
       "      <th>Rev</th>\n",
       "      <th>test</th>\n",
       "      <th>col</th>\n",
       "    </tr>\n",
       "  </thead>\n",
       "  <tbody>\n",
       "    <tr>\n",
       "      <th>f</th>\n",
       "      <td>5</td>\n",
       "      <td>3</td>\n",
       "      <td>5</td>\n",
       "    </tr>\n",
       "    <tr>\n",
       "      <th>g</th>\n",
       "      <td>6</td>\n",
       "      <td>3</td>\n",
       "      <td>6</td>\n",
       "    </tr>\n",
       "    <tr>\n",
       "      <th>h</th>\n",
       "      <td>7</td>\n",
       "      <td>3</td>\n",
       "      <td>7</td>\n",
       "    </tr>\n",
       "    <tr>\n",
       "      <th>i</th>\n",
       "      <td>8</td>\n",
       "      <td>3</td>\n",
       "      <td>8</td>\n",
       "    </tr>\n",
       "    <tr>\n",
       "      <th>j</th>\n",
       "      <td>9</td>\n",
       "      <td>3</td>\n",
       "      <td>9</td>\n",
       "    </tr>\n",
       "  </tbody>\n",
       "</table>\n",
       "</div>"
      ],
      "text/plain": [
       "   Rev  test  col\n",
       "f    5     3    5\n",
       "g    6     3    6\n",
       "h    7     3    7\n",
       "i    8     3    8\n",
       "j    9     3    9"
      ]
     },
     "execution_count": 73,
     "metadata": {},
     "output_type": "execute_result"
    }
   ],
   "source": [
    "# Sélectionnez les N derniers enregistrements (par défaut = 5)\n",
    "df.tail()"
   ]
  },
  {
   "cell_type": "markdown",
   "metadata": {},
   "source": [
    "## <font color=\"#084B8A\">Chapitre IV</font>"
   ]
  },
  {
   "cell_type": "markdown",
   "metadata": {},
   "source": [
    "Nous allons jeter un coup d'oeil sur les fonctions stack et unstack."
   ]
  },
  {
   "cell_type": "code",
   "execution_count": 74,
   "metadata": {
    "collapsed": true
   },
   "outputs": [],
   "source": [
    "# Importation des librairies\n",
    "import pandas as pd\n",
    "import sys"
   ]
  },
  {
   "cell_type": "code",
   "execution_count": 75,
   "metadata": {
    "collapsed": false
   },
   "outputs": [
    {
     "data": {
      "text/html": [
       "<div>\n",
       "<table border=\"1\" class=\"dataframe\">\n",
       "  <thead>\n",
       "    <tr style=\"text-align: right;\">\n",
       "      <th></th>\n",
       "      <th>one</th>\n",
       "      <th>two</th>\n",
       "    </tr>\n",
       "  </thead>\n",
       "  <tbody>\n",
       "    <tr>\n",
       "      <th>a</th>\n",
       "      <td>1</td>\n",
       "      <td>2</td>\n",
       "    </tr>\n",
       "    <tr>\n",
       "      <th>b</th>\n",
       "      <td>1</td>\n",
       "      <td>2</td>\n",
       "    </tr>\n",
       "  </tbody>\n",
       "</table>\n",
       "</div>"
      ],
      "text/plain": [
       "   one  two\n",
       "a    1    2\n",
       "b    1    2"
      ]
     },
     "execution_count": 75,
     "metadata": {},
     "output_type": "execute_result"
    }
   ],
   "source": [
    "# Notre petit jeu de données\n",
    "d = {'one':[1,1],'two':[2,2]}\n",
    "i = ['a','b']\n",
    "\n",
    "# Création du dataframe\n",
    "df = pd.DataFrame(data = d, index = i)\n",
    "df"
   ]
  },
  {
   "cell_type": "code",
   "execution_count": 76,
   "metadata": {
    "collapsed": false
   },
   "outputs": [
    {
     "data": {
      "text/plain": [
       "Index(['a', 'b'], dtype='object')"
      ]
     },
     "execution_count": 76,
     "metadata": {},
     "output_type": "execute_result"
    }
   ],
   "source": [
    "df.index"
   ]
  },
  {
   "cell_type": "code",
   "execution_count": 77,
   "metadata": {
    "collapsed": false
   },
   "outputs": [
    {
     "data": {
      "text/plain": [
       "a  one    1\n",
       "   two    2\n",
       "b  one    1\n",
       "   two    2\n",
       "dtype: int64"
      ]
     },
     "execution_count": 77,
     "metadata": {},
     "output_type": "execute_result"
    }
   ],
   "source": [
    "# Apporter les colonnes et les placer dans l'index\n",
    "stack = df.stack()\n",
    "stack"
   ]
  },
  {
   "cell_type": "code",
   "execution_count": 78,
   "metadata": {
    "collapsed": false
   },
   "outputs": [
    {
     "data": {
      "text/plain": [
       "MultiIndex(levels=[['a', 'b'], ['one', 'two']],\n",
       "           labels=[[0, 0, 1, 1], [0, 1, 0, 1]])"
      ]
     },
     "execution_count": 78,
     "metadata": {},
     "output_type": "execute_result"
    }
   ],
   "source": [
    "# L'indice comprend maintenant les noms de colonnes\n",
    "stack.index"
   ]
  },
  {
   "cell_type": "code",
   "execution_count": 79,
   "metadata": {
    "collapsed": false
   },
   "outputs": [
    {
     "data": {
      "text/plain": [
       "one  a    1\n",
       "     b    1\n",
       "two  a    2\n",
       "     b    2\n",
       "dtype: int64"
      ]
     },
     "execution_count": 79,
     "metadata": {},
     "output_type": "execute_result"
    }
   ],
   "source": [
    "unstack = df.unstack()\n",
    "unstack"
   ]
  },
  {
   "cell_type": "code",
   "execution_count": 80,
   "metadata": {
    "collapsed": false
   },
   "outputs": [
    {
     "data": {
      "text/plain": [
       "MultiIndex(levels=[['one', 'two'], ['a', 'b']],\n",
       "           labels=[[0, 0, 1, 1], [0, 1, 0, 1]])"
      ]
     },
     "execution_count": 80,
     "metadata": {},
     "output_type": "execute_result"
    }
   ],
   "source": [
    "unstack.index"
   ]
  },
  {
   "cell_type": "code",
   "execution_count": 81,
   "metadata": {
    "collapsed": false
   },
   "outputs": [
    {
     "data": {
      "text/html": [
       "<div>\n",
       "<table border=\"1\" class=\"dataframe\">\n",
       "  <thead>\n",
       "    <tr style=\"text-align: right;\">\n",
       "      <th></th>\n",
       "      <th>a</th>\n",
       "      <th>b</th>\n",
       "    </tr>\n",
       "  </thead>\n",
       "  <tbody>\n",
       "    <tr>\n",
       "      <th>one</th>\n",
       "      <td>1</td>\n",
       "      <td>1</td>\n",
       "    </tr>\n",
       "    <tr>\n",
       "      <th>two</th>\n",
       "      <td>2</td>\n",
       "      <td>2</td>\n",
       "    </tr>\n",
       "  </tbody>\n",
       "</table>\n",
       "</div>"
      ],
      "text/plain": [
       "     a  b\n",
       "one  1  1\n",
       "two  2  2"
      ]
     },
     "execution_count": 81,
     "metadata": {},
     "output_type": "execute_result"
    }
   ],
   "source": [
    "transpose = df.T\n",
    "transpose"
   ]
  },
  {
   "cell_type": "code",
   "execution_count": 82,
   "metadata": {
    "collapsed": false
   },
   "outputs": [
    {
     "data": {
      "text/plain": [
       "Index(['one', 'two'], dtype='object')"
      ]
     },
     "execution_count": 82,
     "metadata": {},
     "output_type": "execute_result"
    }
   ],
   "source": [
    "transpose.index"
   ]
  },
  {
   "cell_type": "markdown",
   "metadata": {},
   "source": [
    "## <font color=\"#084B8A\">Chapitre V</font>"
   ]
  },
  {
   "cell_type": "markdown",
   "metadata": {},
   "source": [
    "Voyons maintenant la fonction groupby."
   ]
  },
  {
   "cell_type": "code",
   "execution_count": 83,
   "metadata": {
    "collapsed": true
   },
   "outputs": [],
   "source": [
    "# Importation des librairies\n",
    "import pandas as pd\n",
    "import sys"
   ]
  },
  {
   "cell_type": "code",
   "execution_count": 84,
   "metadata": {
    "collapsed": false
   },
   "outputs": [
    {
     "data": {
      "text/html": [
       "<div>\n",
       "<table border=\"1\" class=\"dataframe\">\n",
       "  <thead>\n",
       "    <tr style=\"text-align: right;\">\n",
       "      <th></th>\n",
       "      <th>letter</th>\n",
       "      <th>one</th>\n",
       "      <th>two</th>\n",
       "    </tr>\n",
       "  </thead>\n",
       "  <tbody>\n",
       "    <tr>\n",
       "      <th>0</th>\n",
       "      <td>a</td>\n",
       "      <td>1</td>\n",
       "      <td>2</td>\n",
       "    </tr>\n",
       "    <tr>\n",
       "      <th>1</th>\n",
       "      <td>a</td>\n",
       "      <td>1</td>\n",
       "      <td>2</td>\n",
       "    </tr>\n",
       "    <tr>\n",
       "      <th>2</th>\n",
       "      <td>b</td>\n",
       "      <td>1</td>\n",
       "      <td>2</td>\n",
       "    </tr>\n",
       "    <tr>\n",
       "      <th>3</th>\n",
       "      <td>b</td>\n",
       "      <td>1</td>\n",
       "      <td>2</td>\n",
       "    </tr>\n",
       "    <tr>\n",
       "      <th>4</th>\n",
       "      <td>c</td>\n",
       "      <td>1</td>\n",
       "      <td>2</td>\n",
       "    </tr>\n",
       "  </tbody>\n",
       "</table>\n",
       "</div>"
      ],
      "text/plain": [
       "  letter  one  two\n",
       "0      a    1    2\n",
       "1      a    1    2\n",
       "2      b    1    2\n",
       "3      b    1    2\n",
       "4      c    1    2"
      ]
     },
     "execution_count": 84,
     "metadata": {},
     "output_type": "execute_result"
    }
   ],
   "source": [
    "# Notre jeu de données\n",
    "d = {'one':[1,1,1,1,1],\n",
    "     'two':[2,2,2,2,2],\n",
    "     'letter':['a','a','b','b','c']}\n",
    "\n",
    "# Création de notre dataframe\n",
    "df = pd.DataFrame(d)\n",
    "df"
   ]
  },
  {
   "cell_type": "code",
   "execution_count": 85,
   "metadata": {
    "collapsed": false
   },
   "outputs": [
    {
     "data": {
      "text/html": [
       "<div>\n",
       "<table border=\"1\" class=\"dataframe\">\n",
       "  <thead>\n",
       "    <tr style=\"text-align: right;\">\n",
       "      <th></th>\n",
       "      <th>one</th>\n",
       "      <th>two</th>\n",
       "    </tr>\n",
       "    <tr>\n",
       "      <th>letter</th>\n",
       "      <th></th>\n",
       "      <th></th>\n",
       "    </tr>\n",
       "  </thead>\n",
       "  <tbody>\n",
       "    <tr>\n",
       "      <th>a</th>\n",
       "      <td>2</td>\n",
       "      <td>4</td>\n",
       "    </tr>\n",
       "    <tr>\n",
       "      <th>b</th>\n",
       "      <td>2</td>\n",
       "      <td>4</td>\n",
       "    </tr>\n",
       "    <tr>\n",
       "      <th>c</th>\n",
       "      <td>1</td>\n",
       "      <td>2</td>\n",
       "    </tr>\n",
       "  </tbody>\n",
       "</table>\n",
       "</div>"
      ],
      "text/plain": [
       "        one  two\n",
       "letter          \n",
       "a         2    4\n",
       "b         2    4\n",
       "c         1    2"
      ]
     },
     "execution_count": 85,
     "metadata": {},
     "output_type": "execute_result"
    }
   ],
   "source": [
    "# Création d'un groupe d'object\n",
    "one = df.groupby('letter')\n",
    "\n",
    "# Application de la fonction sum\n",
    "one.sum()"
   ]
  },
  {
   "cell_type": "code",
   "execution_count": 86,
   "metadata": {
    "collapsed": false
   },
   "outputs": [
    {
     "data": {
      "text/html": [
       "<div>\n",
       "<table border=\"1\" class=\"dataframe\">\n",
       "  <thead>\n",
       "    <tr style=\"text-align: right;\">\n",
       "      <th></th>\n",
       "      <th></th>\n",
       "      <th>two</th>\n",
       "    </tr>\n",
       "    <tr>\n",
       "      <th>letter</th>\n",
       "      <th>one</th>\n",
       "      <th></th>\n",
       "    </tr>\n",
       "  </thead>\n",
       "  <tbody>\n",
       "    <tr>\n",
       "      <th>a</th>\n",
       "      <th>1</th>\n",
       "      <td>4</td>\n",
       "    </tr>\n",
       "    <tr>\n",
       "      <th>b</th>\n",
       "      <th>1</th>\n",
       "      <td>4</td>\n",
       "    </tr>\n",
       "    <tr>\n",
       "      <th>c</th>\n",
       "      <th>1</th>\n",
       "      <td>2</td>\n",
       "    </tr>\n",
       "  </tbody>\n",
       "</table>\n",
       "</div>"
      ],
      "text/plain": [
       "            two\n",
       "letter one     \n",
       "a      1      4\n",
       "b      1      4\n",
       "c      1      2"
      ]
     },
     "execution_count": 86,
     "metadata": {},
     "output_type": "execute_result"
    }
   ],
   "source": [
    "letterone = df.groupby(['letter','one']).sum()\n",
    "letterone"
   ]
  },
  {
   "cell_type": "code",
   "execution_count": 87,
   "metadata": {
    "collapsed": false
   },
   "outputs": [
    {
     "data": {
      "text/plain": [
       "MultiIndex(levels=[['a', 'b', 'c'], [1]],\n",
       "           labels=[[0, 1, 2], [0, 0, 0]],\n",
       "           names=['letter', 'one'])"
      ]
     },
     "execution_count": 87,
     "metadata": {},
     "output_type": "execute_result"
    }
   ],
   "source": [
    "letterone.index"
   ]
  },
  {
   "cell_type": "markdown",
   "metadata": {},
   "source": [
    "Vous voudrez peut-être ne pas avoir les colonnes que vous avez groupé en index, on peut facilement le faire, comme indiqué ci-dessous."
   ]
  },
  {
   "cell_type": "code",
   "execution_count": 88,
   "metadata": {
    "collapsed": false
   },
   "outputs": [
    {
     "data": {
      "text/html": [
       "<div>\n",
       "<table border=\"1\" class=\"dataframe\">\n",
       "  <thead>\n",
       "    <tr style=\"text-align: right;\">\n",
       "      <th></th>\n",
       "      <th>letter</th>\n",
       "      <th>one</th>\n",
       "      <th>two</th>\n",
       "    </tr>\n",
       "  </thead>\n",
       "  <tbody>\n",
       "    <tr>\n",
       "      <th>0</th>\n",
       "      <td>a</td>\n",
       "      <td>1</td>\n",
       "      <td>4</td>\n",
       "    </tr>\n",
       "    <tr>\n",
       "      <th>1</th>\n",
       "      <td>b</td>\n",
       "      <td>1</td>\n",
       "      <td>4</td>\n",
       "    </tr>\n",
       "    <tr>\n",
       "      <th>2</th>\n",
       "      <td>c</td>\n",
       "      <td>1</td>\n",
       "      <td>2</td>\n",
       "    </tr>\n",
       "  </tbody>\n",
       "</table>\n",
       "</div>"
      ],
      "text/plain": [
       "  letter  one  two\n",
       "0      a    1    4\n",
       "1      b    1    4\n",
       "2      c    1    2"
      ]
     },
     "execution_count": 88,
     "metadata": {},
     "output_type": "execute_result"
    }
   ],
   "source": [
    "letterone = df.groupby(['letter','one'], as_index=False).sum()\n",
    "letterone"
   ]
  },
  {
   "cell_type": "markdown",
   "metadata": {},
   "source": [
    "## <font color=\"#084B8A\">Chapitre VI</font>"
   ]
  },
  {
   "cell_type": "markdown",
   "metadata": {},
   "source": [
    "### <font color=\"#585858\">Valeurs aberrantes</font>"
   ]
  },
  {
   "cell_type": "code",
   "execution_count": 89,
   "metadata": {
    "collapsed": true
   },
   "outputs": [],
   "source": [
    "import pandas as pd\n",
    "import sys"
   ]
  },
  {
   "cell_type": "code",
   "execution_count": 90,
   "metadata": {
    "collapsed": true
   },
   "outputs": [],
   "source": [
    "# Création d'un dataframe avec des dates comme index\n",
    "States = ['NY', 'NY', 'NY', 'NY', 'FL', 'FL', 'GA', 'GA', 'FL', 'FL'] \n",
    "data = [1.0, 2, 3, 4, 5, 6, 7, 8, 9, 10]\n",
    "idx = pd.date_range('1/1/2012', periods=10, freq='MS')\n",
    "df1 = pd.DataFrame(data, index=idx, columns=['Revenue'])\n",
    "df1['State'] = States\n",
    "\n",
    "# Création d'un second dataframe\n",
    "data2 = [10.0, 10.0, 9, 9, 8, 8, 7, 7, 6, 6]\n",
    "idx2 = pd.date_range('1/1/2013', periods=10, freq='MS')\n",
    "df2 = pd.DataFrame(data2, index=idx2, columns=['Revenue'])\n",
    "df2['State'] = States"
   ]
  },
  {
   "cell_type": "code",
   "execution_count": 91,
   "metadata": {
    "collapsed": false
   },
   "outputs": [
    {
     "data": {
      "text/html": [
       "<div>\n",
       "<table border=\"1\" class=\"dataframe\">\n",
       "  <thead>\n",
       "    <tr style=\"text-align: right;\">\n",
       "      <th></th>\n",
       "      <th>Revenue</th>\n",
       "      <th>State</th>\n",
       "    </tr>\n",
       "  </thead>\n",
       "  <tbody>\n",
       "    <tr>\n",
       "      <th>2012-01-01</th>\n",
       "      <td>1</td>\n",
       "      <td>NY</td>\n",
       "    </tr>\n",
       "    <tr>\n",
       "      <th>2012-02-01</th>\n",
       "      <td>2</td>\n",
       "      <td>NY</td>\n",
       "    </tr>\n",
       "    <tr>\n",
       "      <th>2012-03-01</th>\n",
       "      <td>3</td>\n",
       "      <td>NY</td>\n",
       "    </tr>\n",
       "    <tr>\n",
       "      <th>2012-04-01</th>\n",
       "      <td>4</td>\n",
       "      <td>NY</td>\n",
       "    </tr>\n",
       "    <tr>\n",
       "      <th>2012-05-01</th>\n",
       "      <td>5</td>\n",
       "      <td>FL</td>\n",
       "    </tr>\n",
       "    <tr>\n",
       "      <th>2012-06-01</th>\n",
       "      <td>6</td>\n",
       "      <td>FL</td>\n",
       "    </tr>\n",
       "    <tr>\n",
       "      <th>2012-07-01</th>\n",
       "      <td>7</td>\n",
       "      <td>GA</td>\n",
       "    </tr>\n",
       "    <tr>\n",
       "      <th>2012-08-01</th>\n",
       "      <td>8</td>\n",
       "      <td>GA</td>\n",
       "    </tr>\n",
       "    <tr>\n",
       "      <th>2012-09-01</th>\n",
       "      <td>9</td>\n",
       "      <td>FL</td>\n",
       "    </tr>\n",
       "    <tr>\n",
       "      <th>2012-10-01</th>\n",
       "      <td>10</td>\n",
       "      <td>FL</td>\n",
       "    </tr>\n",
       "    <tr>\n",
       "      <th>2013-01-01</th>\n",
       "      <td>10</td>\n",
       "      <td>NY</td>\n",
       "    </tr>\n",
       "    <tr>\n",
       "      <th>2013-02-01</th>\n",
       "      <td>10</td>\n",
       "      <td>NY</td>\n",
       "    </tr>\n",
       "    <tr>\n",
       "      <th>2013-03-01</th>\n",
       "      <td>9</td>\n",
       "      <td>NY</td>\n",
       "    </tr>\n",
       "    <tr>\n",
       "      <th>2013-04-01</th>\n",
       "      <td>9</td>\n",
       "      <td>NY</td>\n",
       "    </tr>\n",
       "    <tr>\n",
       "      <th>2013-05-01</th>\n",
       "      <td>8</td>\n",
       "      <td>FL</td>\n",
       "    </tr>\n",
       "    <tr>\n",
       "      <th>2013-06-01</th>\n",
       "      <td>8</td>\n",
       "      <td>FL</td>\n",
       "    </tr>\n",
       "    <tr>\n",
       "      <th>2013-07-01</th>\n",
       "      <td>7</td>\n",
       "      <td>GA</td>\n",
       "    </tr>\n",
       "    <tr>\n",
       "      <th>2013-08-01</th>\n",
       "      <td>7</td>\n",
       "      <td>GA</td>\n",
       "    </tr>\n",
       "    <tr>\n",
       "      <th>2013-09-01</th>\n",
       "      <td>6</td>\n",
       "      <td>FL</td>\n",
       "    </tr>\n",
       "    <tr>\n",
       "      <th>2013-10-01</th>\n",
       "      <td>6</td>\n",
       "      <td>FL</td>\n",
       "    </tr>\n",
       "  </tbody>\n",
       "</table>\n",
       "</div>"
      ],
      "text/plain": [
       "            Revenue State\n",
       "2012-01-01        1    NY\n",
       "2012-02-01        2    NY\n",
       "2012-03-01        3    NY\n",
       "2012-04-01        4    NY\n",
       "2012-05-01        5    FL\n",
       "2012-06-01        6    FL\n",
       "2012-07-01        7    GA\n",
       "2012-08-01        8    GA\n",
       "2012-09-01        9    FL\n",
       "2012-10-01       10    FL\n",
       "2013-01-01       10    NY\n",
       "2013-02-01       10    NY\n",
       "2013-03-01        9    NY\n",
       "2013-04-01        9    NY\n",
       "2013-05-01        8    FL\n",
       "2013-06-01        8    FL\n",
       "2013-07-01        7    GA\n",
       "2013-08-01        7    GA\n",
       "2013-09-01        6    FL\n",
       "2013-10-01        6    FL"
      ]
     },
     "execution_count": 91,
     "metadata": {},
     "output_type": "execute_result"
    }
   ],
   "source": [
    "# Combine les dataframes\n",
    "df = pd.concat([df1,df2])\n",
    "df"
   ]
  },
  {
   "cell_type": "markdown",
   "metadata": {},
   "source": [
    "### <font color=\"#585858\">Les façons de calculer les valeurs aberrantes</font>"
   ]
  },
  {
   "cell_type": "markdown",
   "metadata": {},
   "source": [
    "Remarque: La moyenne et la variance sont valables uniquement pour les distributions gaussiennes."
   ]
  },
  {
   "cell_type": "code",
   "execution_count": 92,
   "metadata": {
    "collapsed": false
   },
   "outputs": [
    {
     "data": {
      "text/html": [
       "<div>\n",
       "<table border=\"1\" class=\"dataframe\">\n",
       "  <thead>\n",
       "    <tr style=\"text-align: right;\">\n",
       "      <th></th>\n",
       "      <th>Revenue</th>\n",
       "      <th>State</th>\n",
       "      <th>x-Mean</th>\n",
       "      <th>1.96*std</th>\n",
       "      <th>Outlier</th>\n",
       "    </tr>\n",
       "  </thead>\n",
       "  <tbody>\n",
       "    <tr>\n",
       "      <th>2012-01-01</th>\n",
       "      <td>1</td>\n",
       "      <td>NY</td>\n",
       "      <td>5.75</td>\n",
       "      <td>5.200273</td>\n",
       "      <td>True</td>\n",
       "    </tr>\n",
       "    <tr>\n",
       "      <th>2012-02-01</th>\n",
       "      <td>2</td>\n",
       "      <td>NY</td>\n",
       "      <td>4.75</td>\n",
       "      <td>5.200273</td>\n",
       "      <td>False</td>\n",
       "    </tr>\n",
       "    <tr>\n",
       "      <th>2012-03-01</th>\n",
       "      <td>3</td>\n",
       "      <td>NY</td>\n",
       "      <td>3.75</td>\n",
       "      <td>5.200273</td>\n",
       "      <td>False</td>\n",
       "    </tr>\n",
       "    <tr>\n",
       "      <th>2012-04-01</th>\n",
       "      <td>4</td>\n",
       "      <td>NY</td>\n",
       "      <td>2.75</td>\n",
       "      <td>5.200273</td>\n",
       "      <td>False</td>\n",
       "    </tr>\n",
       "    <tr>\n",
       "      <th>2012-05-01</th>\n",
       "      <td>5</td>\n",
       "      <td>FL</td>\n",
       "      <td>1.75</td>\n",
       "      <td>5.200273</td>\n",
       "      <td>False</td>\n",
       "    </tr>\n",
       "    <tr>\n",
       "      <th>2012-06-01</th>\n",
       "      <td>6</td>\n",
       "      <td>FL</td>\n",
       "      <td>0.75</td>\n",
       "      <td>5.200273</td>\n",
       "      <td>False</td>\n",
       "    </tr>\n",
       "    <tr>\n",
       "      <th>2012-07-01</th>\n",
       "      <td>7</td>\n",
       "      <td>GA</td>\n",
       "      <td>0.25</td>\n",
       "      <td>5.200273</td>\n",
       "      <td>False</td>\n",
       "    </tr>\n",
       "    <tr>\n",
       "      <th>2012-08-01</th>\n",
       "      <td>8</td>\n",
       "      <td>GA</td>\n",
       "      <td>1.25</td>\n",
       "      <td>5.200273</td>\n",
       "      <td>False</td>\n",
       "    </tr>\n",
       "    <tr>\n",
       "      <th>2012-09-01</th>\n",
       "      <td>9</td>\n",
       "      <td>FL</td>\n",
       "      <td>2.25</td>\n",
       "      <td>5.200273</td>\n",
       "      <td>False</td>\n",
       "    </tr>\n",
       "    <tr>\n",
       "      <th>2012-10-01</th>\n",
       "      <td>10</td>\n",
       "      <td>FL</td>\n",
       "      <td>3.25</td>\n",
       "      <td>5.200273</td>\n",
       "      <td>False</td>\n",
       "    </tr>\n",
       "    <tr>\n",
       "      <th>2013-01-01</th>\n",
       "      <td>10</td>\n",
       "      <td>NY</td>\n",
       "      <td>3.25</td>\n",
       "      <td>5.200273</td>\n",
       "      <td>False</td>\n",
       "    </tr>\n",
       "    <tr>\n",
       "      <th>2013-02-01</th>\n",
       "      <td>10</td>\n",
       "      <td>NY</td>\n",
       "      <td>3.25</td>\n",
       "      <td>5.200273</td>\n",
       "      <td>False</td>\n",
       "    </tr>\n",
       "    <tr>\n",
       "      <th>2013-03-01</th>\n",
       "      <td>9</td>\n",
       "      <td>NY</td>\n",
       "      <td>2.25</td>\n",
       "      <td>5.200273</td>\n",
       "      <td>False</td>\n",
       "    </tr>\n",
       "    <tr>\n",
       "      <th>2013-04-01</th>\n",
       "      <td>9</td>\n",
       "      <td>NY</td>\n",
       "      <td>2.25</td>\n",
       "      <td>5.200273</td>\n",
       "      <td>False</td>\n",
       "    </tr>\n",
       "    <tr>\n",
       "      <th>2013-05-01</th>\n",
       "      <td>8</td>\n",
       "      <td>FL</td>\n",
       "      <td>1.25</td>\n",
       "      <td>5.200273</td>\n",
       "      <td>False</td>\n",
       "    </tr>\n",
       "    <tr>\n",
       "      <th>2013-06-01</th>\n",
       "      <td>8</td>\n",
       "      <td>FL</td>\n",
       "      <td>1.25</td>\n",
       "      <td>5.200273</td>\n",
       "      <td>False</td>\n",
       "    </tr>\n",
       "    <tr>\n",
       "      <th>2013-07-01</th>\n",
       "      <td>7</td>\n",
       "      <td>GA</td>\n",
       "      <td>0.25</td>\n",
       "      <td>5.200273</td>\n",
       "      <td>False</td>\n",
       "    </tr>\n",
       "    <tr>\n",
       "      <th>2013-08-01</th>\n",
       "      <td>7</td>\n",
       "      <td>GA</td>\n",
       "      <td>0.25</td>\n",
       "      <td>5.200273</td>\n",
       "      <td>False</td>\n",
       "    </tr>\n",
       "    <tr>\n",
       "      <th>2013-09-01</th>\n",
       "      <td>6</td>\n",
       "      <td>FL</td>\n",
       "      <td>0.75</td>\n",
       "      <td>5.200273</td>\n",
       "      <td>False</td>\n",
       "    </tr>\n",
       "    <tr>\n",
       "      <th>2013-10-01</th>\n",
       "      <td>6</td>\n",
       "      <td>FL</td>\n",
       "      <td>0.75</td>\n",
       "      <td>5.200273</td>\n",
       "      <td>False</td>\n",
       "    </tr>\n",
       "  </tbody>\n",
       "</table>\n",
       "</div>"
      ],
      "text/plain": [
       "            Revenue State  x-Mean  1.96*std Outlier\n",
       "2012-01-01        1    NY    5.75  5.200273    True\n",
       "2012-02-01        2    NY    4.75  5.200273   False\n",
       "2012-03-01        3    NY    3.75  5.200273   False\n",
       "2012-04-01        4    NY    2.75  5.200273   False\n",
       "2012-05-01        5    FL    1.75  5.200273   False\n",
       "2012-06-01        6    FL    0.75  5.200273   False\n",
       "2012-07-01        7    GA    0.25  5.200273   False\n",
       "2012-08-01        8    GA    1.25  5.200273   False\n",
       "2012-09-01        9    FL    2.25  5.200273   False\n",
       "2012-10-01       10    FL    3.25  5.200273   False\n",
       "2013-01-01       10    NY    3.25  5.200273   False\n",
       "2013-02-01       10    NY    3.25  5.200273   False\n",
       "2013-03-01        9    NY    2.25  5.200273   False\n",
       "2013-04-01        9    NY    2.25  5.200273   False\n",
       "2013-05-01        8    FL    1.25  5.200273   False\n",
       "2013-06-01        8    FL    1.25  5.200273   False\n",
       "2013-07-01        7    GA    0.25  5.200273   False\n",
       "2013-08-01        7    GA    0.25  5.200273   False\n",
       "2013-09-01        6    FL    0.75  5.200273   False\n",
       "2013-10-01        6    FL    0.75  5.200273   False"
      ]
     },
     "execution_count": 92,
     "metadata": {},
     "output_type": "execute_result"
    }
   ],
   "source": [
    "# Methode 1\n",
    "\n",
    "# Fait une copie du df original\n",
    "newdf = df.copy()\n",
    "\n",
    "newdf['x-Mean'] = abs(newdf['Revenue'] - newdf['Revenue'].mean())\n",
    "newdf['1.96*std'] = 1.96*newdf['Revenue'].std()  \n",
    "newdf['Outlier'] = abs(newdf['Revenue'] - newdf['Revenue'].mean()) > 1.96*newdf['Revenue'].std()\n",
    "newdf"
   ]
  },
  {
   "cell_type": "code",
   "execution_count": 93,
   "metadata": {
    "collapsed": false
   },
   "outputs": [
    {
     "data": {
      "text/html": [
       "<div>\n",
       "<table border=\"1\" class=\"dataframe\">\n",
       "  <thead>\n",
       "    <tr style=\"text-align: right;\">\n",
       "      <th></th>\n",
       "      <th>Revenue</th>\n",
       "      <th>State</th>\n",
       "      <th>Outlier</th>\n",
       "      <th>x-Mean</th>\n",
       "      <th>1.96*std</th>\n",
       "    </tr>\n",
       "  </thead>\n",
       "  <tbody>\n",
       "    <tr>\n",
       "      <th>2012-01-01</th>\n",
       "      <td>1</td>\n",
       "      <td>NY</td>\n",
       "      <td>False</td>\n",
       "      <td>5.00</td>\n",
       "      <td>7.554813</td>\n",
       "    </tr>\n",
       "    <tr>\n",
       "      <th>2012-02-01</th>\n",
       "      <td>2</td>\n",
       "      <td>NY</td>\n",
       "      <td>False</td>\n",
       "      <td>4.00</td>\n",
       "      <td>7.554813</td>\n",
       "    </tr>\n",
       "    <tr>\n",
       "      <th>2012-03-01</th>\n",
       "      <td>3</td>\n",
       "      <td>NY</td>\n",
       "      <td>False</td>\n",
       "      <td>3.00</td>\n",
       "      <td>7.554813</td>\n",
       "    </tr>\n",
       "    <tr>\n",
       "      <th>2012-04-01</th>\n",
       "      <td>4</td>\n",
       "      <td>NY</td>\n",
       "      <td>False</td>\n",
       "      <td>2.00</td>\n",
       "      <td>7.554813</td>\n",
       "    </tr>\n",
       "    <tr>\n",
       "      <th>2012-05-01</th>\n",
       "      <td>5</td>\n",
       "      <td>FL</td>\n",
       "      <td>False</td>\n",
       "      <td>2.25</td>\n",
       "      <td>3.434996</td>\n",
       "    </tr>\n",
       "    <tr>\n",
       "      <th>2012-06-01</th>\n",
       "      <td>6</td>\n",
       "      <td>FL</td>\n",
       "      <td>False</td>\n",
       "      <td>1.25</td>\n",
       "      <td>3.434996</td>\n",
       "    </tr>\n",
       "    <tr>\n",
       "      <th>2012-07-01</th>\n",
       "      <td>7</td>\n",
       "      <td>GA</td>\n",
       "      <td>False</td>\n",
       "      <td>0.25</td>\n",
       "      <td>0.980000</td>\n",
       "    </tr>\n",
       "    <tr>\n",
       "      <th>2012-08-01</th>\n",
       "      <td>8</td>\n",
       "      <td>GA</td>\n",
       "      <td>False</td>\n",
       "      <td>0.75</td>\n",
       "      <td>0.980000</td>\n",
       "    </tr>\n",
       "    <tr>\n",
       "      <th>2012-09-01</th>\n",
       "      <td>9</td>\n",
       "      <td>FL</td>\n",
       "      <td>False</td>\n",
       "      <td>1.75</td>\n",
       "      <td>3.434996</td>\n",
       "    </tr>\n",
       "    <tr>\n",
       "      <th>2012-10-01</th>\n",
       "      <td>10</td>\n",
       "      <td>FL</td>\n",
       "      <td>False</td>\n",
       "      <td>2.75</td>\n",
       "      <td>3.434996</td>\n",
       "    </tr>\n",
       "    <tr>\n",
       "      <th>2013-01-01</th>\n",
       "      <td>10</td>\n",
       "      <td>NY</td>\n",
       "      <td>False</td>\n",
       "      <td>4.00</td>\n",
       "      <td>7.554813</td>\n",
       "    </tr>\n",
       "    <tr>\n",
       "      <th>2013-02-01</th>\n",
       "      <td>10</td>\n",
       "      <td>NY</td>\n",
       "      <td>False</td>\n",
       "      <td>4.00</td>\n",
       "      <td>7.554813</td>\n",
       "    </tr>\n",
       "    <tr>\n",
       "      <th>2013-03-01</th>\n",
       "      <td>9</td>\n",
       "      <td>NY</td>\n",
       "      <td>False</td>\n",
       "      <td>3.00</td>\n",
       "      <td>7.554813</td>\n",
       "    </tr>\n",
       "    <tr>\n",
       "      <th>2013-04-01</th>\n",
       "      <td>9</td>\n",
       "      <td>NY</td>\n",
       "      <td>False</td>\n",
       "      <td>3.00</td>\n",
       "      <td>7.554813</td>\n",
       "    </tr>\n",
       "    <tr>\n",
       "      <th>2013-05-01</th>\n",
       "      <td>8</td>\n",
       "      <td>FL</td>\n",
       "      <td>False</td>\n",
       "      <td>0.75</td>\n",
       "      <td>3.434996</td>\n",
       "    </tr>\n",
       "    <tr>\n",
       "      <th>2013-06-01</th>\n",
       "      <td>8</td>\n",
       "      <td>FL</td>\n",
       "      <td>False</td>\n",
       "      <td>0.75</td>\n",
       "      <td>3.434996</td>\n",
       "    </tr>\n",
       "    <tr>\n",
       "      <th>2013-07-01</th>\n",
       "      <td>7</td>\n",
       "      <td>GA</td>\n",
       "      <td>False</td>\n",
       "      <td>0.25</td>\n",
       "      <td>0.980000</td>\n",
       "    </tr>\n",
       "    <tr>\n",
       "      <th>2013-08-01</th>\n",
       "      <td>7</td>\n",
       "      <td>GA</td>\n",
       "      <td>False</td>\n",
       "      <td>0.25</td>\n",
       "      <td>0.980000</td>\n",
       "    </tr>\n",
       "    <tr>\n",
       "      <th>2013-09-01</th>\n",
       "      <td>6</td>\n",
       "      <td>FL</td>\n",
       "      <td>False</td>\n",
       "      <td>1.25</td>\n",
       "      <td>3.434996</td>\n",
       "    </tr>\n",
       "    <tr>\n",
       "      <th>2013-10-01</th>\n",
       "      <td>6</td>\n",
       "      <td>FL</td>\n",
       "      <td>False</td>\n",
       "      <td>1.25</td>\n",
       "      <td>3.434996</td>\n",
       "    </tr>\n",
       "  </tbody>\n",
       "</table>\n",
       "</div>"
      ],
      "text/plain": [
       "            Revenue State Outlier  x-Mean  1.96*std\n",
       "2012-01-01        1    NY   False    5.00  7.554813\n",
       "2012-02-01        2    NY   False    4.00  7.554813\n",
       "2012-03-01        3    NY   False    3.00  7.554813\n",
       "2012-04-01        4    NY   False    2.00  7.554813\n",
       "2012-05-01        5    FL   False    2.25  3.434996\n",
       "2012-06-01        6    FL   False    1.25  3.434996\n",
       "2012-07-01        7    GA   False    0.25  0.980000\n",
       "2012-08-01        8    GA   False    0.75  0.980000\n",
       "2012-09-01        9    FL   False    1.75  3.434996\n",
       "2012-10-01       10    FL   False    2.75  3.434996\n",
       "2013-01-01       10    NY   False    4.00  7.554813\n",
       "2013-02-01       10    NY   False    4.00  7.554813\n",
       "2013-03-01        9    NY   False    3.00  7.554813\n",
       "2013-04-01        9    NY   False    3.00  7.554813\n",
       "2013-05-01        8    FL   False    0.75  3.434996\n",
       "2013-06-01        8    FL   False    0.75  3.434996\n",
       "2013-07-01        7    GA   False    0.25  0.980000\n",
       "2013-08-01        7    GA   False    0.25  0.980000\n",
       "2013-09-01        6    FL   False    1.25  3.434996\n",
       "2013-10-01        6    FL   False    1.25  3.434996"
      ]
     },
     "execution_count": 93,
     "metadata": {},
     "output_type": "execute_result"
    }
   ],
   "source": [
    "# Methode 2\n",
    "# Groupe par item\n",
    "\n",
    "# Fait une copie du df original\n",
    "newdf = df.copy()\n",
    "\n",
    "State = newdf.groupby('State')\n",
    "\n",
    "newdf['Outlier'] = State.transform( lambda x: abs(x-x.mean()) > 1.96*x.std() )\n",
    "newdf['x-Mean'] = State.transform( lambda x: abs(x-x.mean()) )\n",
    "newdf['1.96*std'] = State.transform( lambda x: 1.96*x.std() )\n",
    "newdf"
   ]
  },
  {
   "cell_type": "code",
   "execution_count": 94,
   "metadata": {
    "collapsed": false
   },
   "outputs": [
    {
     "data": {
      "text/html": [
       "<div>\n",
       "<table border=\"1\" class=\"dataframe\">\n",
       "  <thead>\n",
       "    <tr style=\"text-align: right;\">\n",
       "      <th></th>\n",
       "      <th>Revenue</th>\n",
       "      <th>State</th>\n",
       "      <th>Outlier</th>\n",
       "      <th>x-Mean</th>\n",
       "      <th>1.96*std</th>\n",
       "    </tr>\n",
       "  </thead>\n",
       "  <tbody>\n",
       "    <tr>\n",
       "      <th>2012-01-01</th>\n",
       "      <td>1</td>\n",
       "      <td>NY</td>\n",
       "      <td>False</td>\n",
       "      <td>4.5</td>\n",
       "      <td>12.473364</td>\n",
       "    </tr>\n",
       "    <tr>\n",
       "      <th>2012-02-01</th>\n",
       "      <td>2</td>\n",
       "      <td>NY</td>\n",
       "      <td>False</td>\n",
       "      <td>4.0</td>\n",
       "      <td>11.087434</td>\n",
       "    </tr>\n",
       "    <tr>\n",
       "      <th>2012-03-01</th>\n",
       "      <td>3</td>\n",
       "      <td>NY</td>\n",
       "      <td>False</td>\n",
       "      <td>3.0</td>\n",
       "      <td>8.315576</td>\n",
       "    </tr>\n",
       "    <tr>\n",
       "      <th>2012-04-01</th>\n",
       "      <td>4</td>\n",
       "      <td>NY</td>\n",
       "      <td>False</td>\n",
       "      <td>2.5</td>\n",
       "      <td>6.929646</td>\n",
       "    </tr>\n",
       "    <tr>\n",
       "      <th>2012-05-01</th>\n",
       "      <td>5</td>\n",
       "      <td>FL</td>\n",
       "      <td>False</td>\n",
       "      <td>1.5</td>\n",
       "      <td>4.157788</td>\n",
       "    </tr>\n",
       "    <tr>\n",
       "      <th>2012-06-01</th>\n",
       "      <td>6</td>\n",
       "      <td>FL</td>\n",
       "      <td>False</td>\n",
       "      <td>1.0</td>\n",
       "      <td>2.771859</td>\n",
       "    </tr>\n",
       "    <tr>\n",
       "      <th>2012-07-01</th>\n",
       "      <td>7</td>\n",
       "      <td>GA</td>\n",
       "      <td>False</td>\n",
       "      <td>0.0</td>\n",
       "      <td>0.000000</td>\n",
       "    </tr>\n",
       "    <tr>\n",
       "      <th>2012-08-01</th>\n",
       "      <td>8</td>\n",
       "      <td>GA</td>\n",
       "      <td>False</td>\n",
       "      <td>0.5</td>\n",
       "      <td>1.385929</td>\n",
       "    </tr>\n",
       "    <tr>\n",
       "      <th>2012-09-01</th>\n",
       "      <td>9</td>\n",
       "      <td>FL</td>\n",
       "      <td>False</td>\n",
       "      <td>1.5</td>\n",
       "      <td>4.157788</td>\n",
       "    </tr>\n",
       "    <tr>\n",
       "      <th>2012-10-01</th>\n",
       "      <td>10</td>\n",
       "      <td>FL</td>\n",
       "      <td>False</td>\n",
       "      <td>2.0</td>\n",
       "      <td>5.543717</td>\n",
       "    </tr>\n",
       "    <tr>\n",
       "      <th>2013-01-01</th>\n",
       "      <td>10</td>\n",
       "      <td>NY</td>\n",
       "      <td>False</td>\n",
       "      <td>4.5</td>\n",
       "      <td>12.473364</td>\n",
       "    </tr>\n",
       "    <tr>\n",
       "      <th>2013-02-01</th>\n",
       "      <td>10</td>\n",
       "      <td>NY</td>\n",
       "      <td>False</td>\n",
       "      <td>4.0</td>\n",
       "      <td>11.087434</td>\n",
       "    </tr>\n",
       "    <tr>\n",
       "      <th>2013-03-01</th>\n",
       "      <td>9</td>\n",
       "      <td>NY</td>\n",
       "      <td>False</td>\n",
       "      <td>3.0</td>\n",
       "      <td>8.315576</td>\n",
       "    </tr>\n",
       "    <tr>\n",
       "      <th>2013-04-01</th>\n",
       "      <td>9</td>\n",
       "      <td>NY</td>\n",
       "      <td>False</td>\n",
       "      <td>2.5</td>\n",
       "      <td>6.929646</td>\n",
       "    </tr>\n",
       "    <tr>\n",
       "      <th>2013-05-01</th>\n",
       "      <td>8</td>\n",
       "      <td>FL</td>\n",
       "      <td>False</td>\n",
       "      <td>1.5</td>\n",
       "      <td>4.157788</td>\n",
       "    </tr>\n",
       "    <tr>\n",
       "      <th>2013-06-01</th>\n",
       "      <td>8</td>\n",
       "      <td>FL</td>\n",
       "      <td>False</td>\n",
       "      <td>1.0</td>\n",
       "      <td>2.771859</td>\n",
       "    </tr>\n",
       "    <tr>\n",
       "      <th>2013-07-01</th>\n",
       "      <td>7</td>\n",
       "      <td>GA</td>\n",
       "      <td>False</td>\n",
       "      <td>0.0</td>\n",
       "      <td>0.000000</td>\n",
       "    </tr>\n",
       "    <tr>\n",
       "      <th>2013-08-01</th>\n",
       "      <td>7</td>\n",
       "      <td>GA</td>\n",
       "      <td>False</td>\n",
       "      <td>0.5</td>\n",
       "      <td>1.385929</td>\n",
       "    </tr>\n",
       "    <tr>\n",
       "      <th>2013-09-01</th>\n",
       "      <td>6</td>\n",
       "      <td>FL</td>\n",
       "      <td>False</td>\n",
       "      <td>1.5</td>\n",
       "      <td>4.157788</td>\n",
       "    </tr>\n",
       "    <tr>\n",
       "      <th>2013-10-01</th>\n",
       "      <td>6</td>\n",
       "      <td>FL</td>\n",
       "      <td>False</td>\n",
       "      <td>2.0</td>\n",
       "      <td>5.543717</td>\n",
       "    </tr>\n",
       "  </tbody>\n",
       "</table>\n",
       "</div>"
      ],
      "text/plain": [
       "            Revenue State Outlier  x-Mean   1.96*std\n",
       "2012-01-01        1    NY   False     4.5  12.473364\n",
       "2012-02-01        2    NY   False     4.0  11.087434\n",
       "2012-03-01        3    NY   False     3.0   8.315576\n",
       "2012-04-01        4    NY   False     2.5   6.929646\n",
       "2012-05-01        5    FL   False     1.5   4.157788\n",
       "2012-06-01        6    FL   False     1.0   2.771859\n",
       "2012-07-01        7    GA   False     0.0   0.000000\n",
       "2012-08-01        8    GA   False     0.5   1.385929\n",
       "2012-09-01        9    FL   False     1.5   4.157788\n",
       "2012-10-01       10    FL   False     2.0   5.543717\n",
       "2013-01-01       10    NY   False     4.5  12.473364\n",
       "2013-02-01       10    NY   False     4.0  11.087434\n",
       "2013-03-01        9    NY   False     3.0   8.315576\n",
       "2013-04-01        9    NY   False     2.5   6.929646\n",
       "2013-05-01        8    FL   False     1.5   4.157788\n",
       "2013-06-01        8    FL   False     1.0   2.771859\n",
       "2013-07-01        7    GA   False     0.0   0.000000\n",
       "2013-08-01        7    GA   False     0.5   1.385929\n",
       "2013-09-01        6    FL   False     1.5   4.157788\n",
       "2013-10-01        6    FL   False     2.0   5.543717"
      ]
     },
     "execution_count": 94,
     "metadata": {},
     "output_type": "execute_result"
    }
   ],
   "source": [
    "# Methode 2\n",
    "# Groupe par items multiples\n",
    "\n",
    "# Fait une copie du df original\n",
    "newdf = df.copy()\n",
    "\n",
    "StateMonth = newdf.groupby(['State', lambda x: x.month])\n",
    "\n",
    "newdf['Outlier'] = StateMonth.transform( lambda x: abs(x-x.mean()) > 1.96*x.std() )\n",
    "newdf['x-Mean'] = StateMonth.transform( lambda x: abs(x-x.mean()) )\n",
    "newdf['1.96*std'] = StateMonth.transform( lambda x: 1.96*x.std() )\n",
    "newdf"
   ]
  },
  {
   "cell_type": "code",
   "execution_count": 95,
   "metadata": {
    "collapsed": false
   },
   "outputs": [
    {
     "data": {
      "text/html": [
       "<div>\n",
       "<table border=\"1\" class=\"dataframe\">\n",
       "  <thead>\n",
       "    <tr style=\"text-align: right;\">\n",
       "      <th></th>\n",
       "      <th>Revenue</th>\n",
       "      <th>State</th>\n",
       "      <th>x-Mean</th>\n",
       "      <th>1.96*std</th>\n",
       "      <th>Outlier</th>\n",
       "    </tr>\n",
       "  </thead>\n",
       "  <tbody>\n",
       "    <tr>\n",
       "      <th>2012-01-01</th>\n",
       "      <td>1</td>\n",
       "      <td>NY</td>\n",
       "      <td>5.00</td>\n",
       "      <td>7.554813</td>\n",
       "      <td>False</td>\n",
       "    </tr>\n",
       "    <tr>\n",
       "      <th>2012-02-01</th>\n",
       "      <td>2</td>\n",
       "      <td>NY</td>\n",
       "      <td>4.00</td>\n",
       "      <td>7.554813</td>\n",
       "      <td>False</td>\n",
       "    </tr>\n",
       "    <tr>\n",
       "      <th>2012-03-01</th>\n",
       "      <td>3</td>\n",
       "      <td>NY</td>\n",
       "      <td>3.00</td>\n",
       "      <td>7.554813</td>\n",
       "      <td>False</td>\n",
       "    </tr>\n",
       "    <tr>\n",
       "      <th>2012-04-01</th>\n",
       "      <td>4</td>\n",
       "      <td>NY</td>\n",
       "      <td>2.00</td>\n",
       "      <td>7.554813</td>\n",
       "      <td>False</td>\n",
       "    </tr>\n",
       "    <tr>\n",
       "      <th>2012-05-01</th>\n",
       "      <td>5</td>\n",
       "      <td>FL</td>\n",
       "      <td>2.25</td>\n",
       "      <td>3.434996</td>\n",
       "      <td>False</td>\n",
       "    </tr>\n",
       "    <tr>\n",
       "      <th>2012-06-01</th>\n",
       "      <td>6</td>\n",
       "      <td>FL</td>\n",
       "      <td>1.25</td>\n",
       "      <td>3.434996</td>\n",
       "      <td>False</td>\n",
       "    </tr>\n",
       "    <tr>\n",
       "      <th>2012-07-01</th>\n",
       "      <td>7</td>\n",
       "      <td>GA</td>\n",
       "      <td>0.25</td>\n",
       "      <td>0.980000</td>\n",
       "      <td>False</td>\n",
       "    </tr>\n",
       "    <tr>\n",
       "      <th>2012-08-01</th>\n",
       "      <td>8</td>\n",
       "      <td>GA</td>\n",
       "      <td>0.75</td>\n",
       "      <td>0.980000</td>\n",
       "      <td>False</td>\n",
       "    </tr>\n",
       "    <tr>\n",
       "      <th>2012-09-01</th>\n",
       "      <td>9</td>\n",
       "      <td>FL</td>\n",
       "      <td>1.75</td>\n",
       "      <td>3.434996</td>\n",
       "      <td>False</td>\n",
       "    </tr>\n",
       "    <tr>\n",
       "      <th>2012-10-01</th>\n",
       "      <td>10</td>\n",
       "      <td>FL</td>\n",
       "      <td>2.75</td>\n",
       "      <td>3.434996</td>\n",
       "      <td>False</td>\n",
       "    </tr>\n",
       "    <tr>\n",
       "      <th>2013-01-01</th>\n",
       "      <td>10</td>\n",
       "      <td>NY</td>\n",
       "      <td>4.00</td>\n",
       "      <td>7.554813</td>\n",
       "      <td>False</td>\n",
       "    </tr>\n",
       "    <tr>\n",
       "      <th>2013-02-01</th>\n",
       "      <td>10</td>\n",
       "      <td>NY</td>\n",
       "      <td>4.00</td>\n",
       "      <td>7.554813</td>\n",
       "      <td>False</td>\n",
       "    </tr>\n",
       "    <tr>\n",
       "      <th>2013-03-01</th>\n",
       "      <td>9</td>\n",
       "      <td>NY</td>\n",
       "      <td>3.00</td>\n",
       "      <td>7.554813</td>\n",
       "      <td>False</td>\n",
       "    </tr>\n",
       "    <tr>\n",
       "      <th>2013-04-01</th>\n",
       "      <td>9</td>\n",
       "      <td>NY</td>\n",
       "      <td>3.00</td>\n",
       "      <td>7.554813</td>\n",
       "      <td>False</td>\n",
       "    </tr>\n",
       "    <tr>\n",
       "      <th>2013-05-01</th>\n",
       "      <td>8</td>\n",
       "      <td>FL</td>\n",
       "      <td>0.75</td>\n",
       "      <td>3.434996</td>\n",
       "      <td>False</td>\n",
       "    </tr>\n",
       "    <tr>\n",
       "      <th>2013-06-01</th>\n",
       "      <td>8</td>\n",
       "      <td>FL</td>\n",
       "      <td>0.75</td>\n",
       "      <td>3.434996</td>\n",
       "      <td>False</td>\n",
       "    </tr>\n",
       "    <tr>\n",
       "      <th>2013-07-01</th>\n",
       "      <td>7</td>\n",
       "      <td>GA</td>\n",
       "      <td>0.25</td>\n",
       "      <td>0.980000</td>\n",
       "      <td>False</td>\n",
       "    </tr>\n",
       "    <tr>\n",
       "      <th>2013-08-01</th>\n",
       "      <td>7</td>\n",
       "      <td>GA</td>\n",
       "      <td>0.25</td>\n",
       "      <td>0.980000</td>\n",
       "      <td>False</td>\n",
       "    </tr>\n",
       "    <tr>\n",
       "      <th>2013-09-01</th>\n",
       "      <td>6</td>\n",
       "      <td>FL</td>\n",
       "      <td>1.25</td>\n",
       "      <td>3.434996</td>\n",
       "      <td>False</td>\n",
       "    </tr>\n",
       "    <tr>\n",
       "      <th>2013-10-01</th>\n",
       "      <td>6</td>\n",
       "      <td>FL</td>\n",
       "      <td>1.25</td>\n",
       "      <td>3.434996</td>\n",
       "      <td>False</td>\n",
       "    </tr>\n",
       "  </tbody>\n",
       "</table>\n",
       "</div>"
      ],
      "text/plain": [
       "            Revenue State  x-Mean  1.96*std Outlier\n",
       "2012-01-01        1    NY    5.00  7.554813   False\n",
       "2012-02-01        2    NY    4.00  7.554813   False\n",
       "2012-03-01        3    NY    3.00  7.554813   False\n",
       "2012-04-01        4    NY    2.00  7.554813   False\n",
       "2012-05-01        5    FL    2.25  3.434996   False\n",
       "2012-06-01        6    FL    1.25  3.434996   False\n",
       "2012-07-01        7    GA    0.25  0.980000   False\n",
       "2012-08-01        8    GA    0.75  0.980000   False\n",
       "2012-09-01        9    FL    1.75  3.434996   False\n",
       "2012-10-01       10    FL    2.75  3.434996   False\n",
       "2013-01-01       10    NY    4.00  7.554813   False\n",
       "2013-02-01       10    NY    4.00  7.554813   False\n",
       "2013-03-01        9    NY    3.00  7.554813   False\n",
       "2013-04-01        9    NY    3.00  7.554813   False\n",
       "2013-05-01        8    FL    0.75  3.434996   False\n",
       "2013-06-01        8    FL    0.75  3.434996   False\n",
       "2013-07-01        7    GA    0.25  0.980000   False\n",
       "2013-08-01        7    GA    0.25  0.980000   False\n",
       "2013-09-01        6    FL    1.25  3.434996   False\n",
       "2013-10-01        6    FL    1.25  3.434996   False"
      ]
     },
     "execution_count": 95,
     "metadata": {},
     "output_type": "execute_result"
    }
   ],
   "source": [
    "# Methode 3\n",
    "# Groupe par item\n",
    "\n",
    "# Fait une copie du df original\n",
    "newdf = df.copy()\n",
    "\n",
    "State = newdf.groupby('State')\n",
    "\n",
    "def s(group):\n",
    "    group['x-Mean'] = abs(group['Revenue'] - group['Revenue'].mean())\n",
    "    group['1.96*std'] = 1.96*group['Revenue'].std()  \n",
    "    group['Outlier'] = abs(group['Revenue'] - group['Revenue'].mean()) > 1.96*group['Revenue'].std()\n",
    "    return group\n",
    "\n",
    "Newdf2 = State.apply(s)\n",
    "Newdf2"
   ]
  },
  {
   "cell_type": "code",
   "execution_count": 96,
   "metadata": {
    "collapsed": false
   },
   "outputs": [
    {
     "data": {
      "text/html": [
       "<div>\n",
       "<table border=\"1\" class=\"dataframe\">\n",
       "  <thead>\n",
       "    <tr style=\"text-align: right;\">\n",
       "      <th></th>\n",
       "      <th>Revenue</th>\n",
       "      <th>State</th>\n",
       "      <th>x-Mean</th>\n",
       "      <th>1.96*std</th>\n",
       "      <th>Outlier</th>\n",
       "    </tr>\n",
       "  </thead>\n",
       "  <tbody>\n",
       "    <tr>\n",
       "      <th>2012-01-01</th>\n",
       "      <td>1</td>\n",
       "      <td>NY</td>\n",
       "      <td>4.5</td>\n",
       "      <td>12.473364</td>\n",
       "      <td>False</td>\n",
       "    </tr>\n",
       "    <tr>\n",
       "      <th>2012-02-01</th>\n",
       "      <td>2</td>\n",
       "      <td>NY</td>\n",
       "      <td>4.0</td>\n",
       "      <td>11.087434</td>\n",
       "      <td>False</td>\n",
       "    </tr>\n",
       "    <tr>\n",
       "      <th>2012-03-01</th>\n",
       "      <td>3</td>\n",
       "      <td>NY</td>\n",
       "      <td>3.0</td>\n",
       "      <td>8.315576</td>\n",
       "      <td>False</td>\n",
       "    </tr>\n",
       "    <tr>\n",
       "      <th>2012-04-01</th>\n",
       "      <td>4</td>\n",
       "      <td>NY</td>\n",
       "      <td>2.5</td>\n",
       "      <td>6.929646</td>\n",
       "      <td>False</td>\n",
       "    </tr>\n",
       "    <tr>\n",
       "      <th>2012-05-01</th>\n",
       "      <td>5</td>\n",
       "      <td>FL</td>\n",
       "      <td>1.5</td>\n",
       "      <td>4.157788</td>\n",
       "      <td>False</td>\n",
       "    </tr>\n",
       "    <tr>\n",
       "      <th>2012-06-01</th>\n",
       "      <td>6</td>\n",
       "      <td>FL</td>\n",
       "      <td>1.0</td>\n",
       "      <td>2.771859</td>\n",
       "      <td>False</td>\n",
       "    </tr>\n",
       "    <tr>\n",
       "      <th>2012-07-01</th>\n",
       "      <td>7</td>\n",
       "      <td>GA</td>\n",
       "      <td>0.0</td>\n",
       "      <td>0.000000</td>\n",
       "      <td>False</td>\n",
       "    </tr>\n",
       "    <tr>\n",
       "      <th>2012-08-01</th>\n",
       "      <td>8</td>\n",
       "      <td>GA</td>\n",
       "      <td>0.5</td>\n",
       "      <td>1.385929</td>\n",
       "      <td>False</td>\n",
       "    </tr>\n",
       "    <tr>\n",
       "      <th>2012-09-01</th>\n",
       "      <td>9</td>\n",
       "      <td>FL</td>\n",
       "      <td>1.5</td>\n",
       "      <td>4.157788</td>\n",
       "      <td>False</td>\n",
       "    </tr>\n",
       "    <tr>\n",
       "      <th>2012-10-01</th>\n",
       "      <td>10</td>\n",
       "      <td>FL</td>\n",
       "      <td>2.0</td>\n",
       "      <td>5.543717</td>\n",
       "      <td>False</td>\n",
       "    </tr>\n",
       "    <tr>\n",
       "      <th>2013-01-01</th>\n",
       "      <td>10</td>\n",
       "      <td>NY</td>\n",
       "      <td>4.5</td>\n",
       "      <td>12.473364</td>\n",
       "      <td>False</td>\n",
       "    </tr>\n",
       "    <tr>\n",
       "      <th>2013-02-01</th>\n",
       "      <td>10</td>\n",
       "      <td>NY</td>\n",
       "      <td>4.0</td>\n",
       "      <td>11.087434</td>\n",
       "      <td>False</td>\n",
       "    </tr>\n",
       "    <tr>\n",
       "      <th>2013-03-01</th>\n",
       "      <td>9</td>\n",
       "      <td>NY</td>\n",
       "      <td>3.0</td>\n",
       "      <td>8.315576</td>\n",
       "      <td>False</td>\n",
       "    </tr>\n",
       "    <tr>\n",
       "      <th>2013-04-01</th>\n",
       "      <td>9</td>\n",
       "      <td>NY</td>\n",
       "      <td>2.5</td>\n",
       "      <td>6.929646</td>\n",
       "      <td>False</td>\n",
       "    </tr>\n",
       "    <tr>\n",
       "      <th>2013-05-01</th>\n",
       "      <td>8</td>\n",
       "      <td>FL</td>\n",
       "      <td>1.5</td>\n",
       "      <td>4.157788</td>\n",
       "      <td>False</td>\n",
       "    </tr>\n",
       "    <tr>\n",
       "      <th>2013-06-01</th>\n",
       "      <td>8</td>\n",
       "      <td>FL</td>\n",
       "      <td>1.0</td>\n",
       "      <td>2.771859</td>\n",
       "      <td>False</td>\n",
       "    </tr>\n",
       "    <tr>\n",
       "      <th>2013-07-01</th>\n",
       "      <td>7</td>\n",
       "      <td>GA</td>\n",
       "      <td>0.0</td>\n",
       "      <td>0.000000</td>\n",
       "      <td>False</td>\n",
       "    </tr>\n",
       "    <tr>\n",
       "      <th>2013-08-01</th>\n",
       "      <td>7</td>\n",
       "      <td>GA</td>\n",
       "      <td>0.5</td>\n",
       "      <td>1.385929</td>\n",
       "      <td>False</td>\n",
       "    </tr>\n",
       "    <tr>\n",
       "      <th>2013-09-01</th>\n",
       "      <td>6</td>\n",
       "      <td>FL</td>\n",
       "      <td>1.5</td>\n",
       "      <td>4.157788</td>\n",
       "      <td>False</td>\n",
       "    </tr>\n",
       "    <tr>\n",
       "      <th>2013-10-01</th>\n",
       "      <td>6</td>\n",
       "      <td>FL</td>\n",
       "      <td>2.0</td>\n",
       "      <td>5.543717</td>\n",
       "      <td>False</td>\n",
       "    </tr>\n",
       "  </tbody>\n",
       "</table>\n",
       "</div>"
      ],
      "text/plain": [
       "            Revenue State  x-Mean   1.96*std Outlier\n",
       "2012-01-01        1    NY     4.5  12.473364   False\n",
       "2012-02-01        2    NY     4.0  11.087434   False\n",
       "2012-03-01        3    NY     3.0   8.315576   False\n",
       "2012-04-01        4    NY     2.5   6.929646   False\n",
       "2012-05-01        5    FL     1.5   4.157788   False\n",
       "2012-06-01        6    FL     1.0   2.771859   False\n",
       "2012-07-01        7    GA     0.0   0.000000   False\n",
       "2012-08-01        8    GA     0.5   1.385929   False\n",
       "2012-09-01        9    FL     1.5   4.157788   False\n",
       "2012-10-01       10    FL     2.0   5.543717   False\n",
       "2013-01-01       10    NY     4.5  12.473364   False\n",
       "2013-02-01       10    NY     4.0  11.087434   False\n",
       "2013-03-01        9    NY     3.0   8.315576   False\n",
       "2013-04-01        9    NY     2.5   6.929646   False\n",
       "2013-05-01        8    FL     1.5   4.157788   False\n",
       "2013-06-01        8    FL     1.0   2.771859   False\n",
       "2013-07-01        7    GA     0.0   0.000000   False\n",
       "2013-08-01        7    GA     0.5   1.385929   False\n",
       "2013-09-01        6    FL     1.5   4.157788   False\n",
       "2013-10-01        6    FL     2.0   5.543717   False"
      ]
     },
     "execution_count": 96,
     "metadata": {},
     "output_type": "execute_result"
    }
   ],
   "source": [
    "# Methode 3\n",
    "# Groupe par items multiples\n",
    "\n",
    "# Fait une copie du df original\n",
    "newdf = df.copy()\n",
    "\n",
    "StateMonth = newdf.groupby(['State', lambda x: x.month])\n",
    "\n",
    "def s(group):\n",
    "    group['x-Mean'] = abs(group['Revenue'] - group['Revenue'].mean())\n",
    "    group['1.96*std'] = 1.96*group['Revenue'].std()  \n",
    "    group['Outlier'] = abs(group['Revenue'] - group['Revenue'].mean()) > 1.96*group['Revenue'].std()\n",
    "    return group\n",
    "\n",
    "Newdf2 = StateMonth.apply(s)\n",
    "Newdf2"
   ]
  },
  {
   "cell_type": "markdown",
   "metadata": {},
   "source": [
    "En supposant que ce ne soit pas une distribution gaussienne (si nous faisons un graphique, il ne ressemblera pas à une distribution normale)"
   ]
  },
  {
   "cell_type": "code",
   "execution_count": 97,
   "metadata": {
    "collapsed": false
   },
   "outputs": [
    {
     "data": {
      "text/html": [
       "<div>\n",
       "<table border=\"1\" class=\"dataframe\">\n",
       "  <thead>\n",
       "    <tr style=\"text-align: right;\">\n",
       "      <th></th>\n",
       "      <th>Revenue</th>\n",
       "      <th>State</th>\n",
       "      <th>Lower</th>\n",
       "      <th>Upper</th>\n",
       "      <th>Outlier</th>\n",
       "    </tr>\n",
       "  </thead>\n",
       "  <tbody>\n",
       "    <tr>\n",
       "      <th>2012-01-01</th>\n",
       "      <td>1</td>\n",
       "      <td>NY</td>\n",
       "      <td>-7.000</td>\n",
       "      <td>19.000</td>\n",
       "      <td>False</td>\n",
       "    </tr>\n",
       "    <tr>\n",
       "      <th>2012-02-01</th>\n",
       "      <td>2</td>\n",
       "      <td>NY</td>\n",
       "      <td>-7.000</td>\n",
       "      <td>19.000</td>\n",
       "      <td>False</td>\n",
       "    </tr>\n",
       "    <tr>\n",
       "      <th>2012-03-01</th>\n",
       "      <td>3</td>\n",
       "      <td>NY</td>\n",
       "      <td>-7.000</td>\n",
       "      <td>19.000</td>\n",
       "      <td>False</td>\n",
       "    </tr>\n",
       "    <tr>\n",
       "      <th>2012-04-01</th>\n",
       "      <td>4</td>\n",
       "      <td>NY</td>\n",
       "      <td>-7.000</td>\n",
       "      <td>19.000</td>\n",
       "      <td>False</td>\n",
       "    </tr>\n",
       "    <tr>\n",
       "      <th>2012-05-01</th>\n",
       "      <td>5</td>\n",
       "      <td>FL</td>\n",
       "      <td>2.625</td>\n",
       "      <td>11.625</td>\n",
       "      <td>False</td>\n",
       "    </tr>\n",
       "    <tr>\n",
       "      <th>2012-06-01</th>\n",
       "      <td>6</td>\n",
       "      <td>FL</td>\n",
       "      <td>2.625</td>\n",
       "      <td>11.625</td>\n",
       "      <td>False</td>\n",
       "    </tr>\n",
       "    <tr>\n",
       "      <th>2012-07-01</th>\n",
       "      <td>7</td>\n",
       "      <td>GA</td>\n",
       "      <td>6.625</td>\n",
       "      <td>7.625</td>\n",
       "      <td>False</td>\n",
       "    </tr>\n",
       "    <tr>\n",
       "      <th>2012-08-01</th>\n",
       "      <td>8</td>\n",
       "      <td>GA</td>\n",
       "      <td>6.625</td>\n",
       "      <td>7.625</td>\n",
       "      <td>True</td>\n",
       "    </tr>\n",
       "    <tr>\n",
       "      <th>2012-09-01</th>\n",
       "      <td>9</td>\n",
       "      <td>FL</td>\n",
       "      <td>2.625</td>\n",
       "      <td>11.625</td>\n",
       "      <td>False</td>\n",
       "    </tr>\n",
       "    <tr>\n",
       "      <th>2012-10-01</th>\n",
       "      <td>10</td>\n",
       "      <td>FL</td>\n",
       "      <td>2.625</td>\n",
       "      <td>11.625</td>\n",
       "      <td>False</td>\n",
       "    </tr>\n",
       "    <tr>\n",
       "      <th>2013-01-01</th>\n",
       "      <td>10</td>\n",
       "      <td>NY</td>\n",
       "      <td>-7.000</td>\n",
       "      <td>19.000</td>\n",
       "      <td>False</td>\n",
       "    </tr>\n",
       "    <tr>\n",
       "      <th>2013-02-01</th>\n",
       "      <td>10</td>\n",
       "      <td>NY</td>\n",
       "      <td>-7.000</td>\n",
       "      <td>19.000</td>\n",
       "      <td>False</td>\n",
       "    </tr>\n",
       "    <tr>\n",
       "      <th>2013-03-01</th>\n",
       "      <td>9</td>\n",
       "      <td>NY</td>\n",
       "      <td>-7.000</td>\n",
       "      <td>19.000</td>\n",
       "      <td>False</td>\n",
       "    </tr>\n",
       "    <tr>\n",
       "      <th>2013-04-01</th>\n",
       "      <td>9</td>\n",
       "      <td>NY</td>\n",
       "      <td>-7.000</td>\n",
       "      <td>19.000</td>\n",
       "      <td>False</td>\n",
       "    </tr>\n",
       "    <tr>\n",
       "      <th>2013-05-01</th>\n",
       "      <td>8</td>\n",
       "      <td>FL</td>\n",
       "      <td>2.625</td>\n",
       "      <td>11.625</td>\n",
       "      <td>False</td>\n",
       "    </tr>\n",
       "    <tr>\n",
       "      <th>2013-06-01</th>\n",
       "      <td>8</td>\n",
       "      <td>FL</td>\n",
       "      <td>2.625</td>\n",
       "      <td>11.625</td>\n",
       "      <td>False</td>\n",
       "    </tr>\n",
       "    <tr>\n",
       "      <th>2013-07-01</th>\n",
       "      <td>7</td>\n",
       "      <td>GA</td>\n",
       "      <td>6.625</td>\n",
       "      <td>7.625</td>\n",
       "      <td>False</td>\n",
       "    </tr>\n",
       "    <tr>\n",
       "      <th>2013-08-01</th>\n",
       "      <td>7</td>\n",
       "      <td>GA</td>\n",
       "      <td>6.625</td>\n",
       "      <td>7.625</td>\n",
       "      <td>False</td>\n",
       "    </tr>\n",
       "    <tr>\n",
       "      <th>2013-09-01</th>\n",
       "      <td>6</td>\n",
       "      <td>FL</td>\n",
       "      <td>2.625</td>\n",
       "      <td>11.625</td>\n",
       "      <td>False</td>\n",
       "    </tr>\n",
       "    <tr>\n",
       "      <th>2013-10-01</th>\n",
       "      <td>6</td>\n",
       "      <td>FL</td>\n",
       "      <td>2.625</td>\n",
       "      <td>11.625</td>\n",
       "      <td>False</td>\n",
       "    </tr>\n",
       "  </tbody>\n",
       "</table>\n",
       "</div>"
      ],
      "text/plain": [
       "            Revenue State  Lower   Upper Outlier\n",
       "2012-01-01        1    NY -7.000  19.000   False\n",
       "2012-02-01        2    NY -7.000  19.000   False\n",
       "2012-03-01        3    NY -7.000  19.000   False\n",
       "2012-04-01        4    NY -7.000  19.000   False\n",
       "2012-05-01        5    FL  2.625  11.625   False\n",
       "2012-06-01        6    FL  2.625  11.625   False\n",
       "2012-07-01        7    GA  6.625   7.625   False\n",
       "2012-08-01        8    GA  6.625   7.625    True\n",
       "2012-09-01        9    FL  2.625  11.625   False\n",
       "2012-10-01       10    FL  2.625  11.625   False\n",
       "2013-01-01       10    NY -7.000  19.000   False\n",
       "2013-02-01       10    NY -7.000  19.000   False\n",
       "2013-03-01        9    NY -7.000  19.000   False\n",
       "2013-04-01        9    NY -7.000  19.000   False\n",
       "2013-05-01        8    FL  2.625  11.625   False\n",
       "2013-06-01        8    FL  2.625  11.625   False\n",
       "2013-07-01        7    GA  6.625   7.625   False\n",
       "2013-08-01        7    GA  6.625   7.625   False\n",
       "2013-09-01        6    FL  2.625  11.625   False\n",
       "2013-10-01        6    FL  2.625  11.625   False"
      ]
     },
     "execution_count": 97,
     "metadata": {},
     "output_type": "execute_result"
    }
   ],
   "source": [
    "# Fait une copie du df original\n",
    "newdf = df.copy()\n",
    "\n",
    "State = newdf.groupby('State')\n",
    "\n",
    "newdf['Lower'] = State['Revenue'].transform( lambda x: x.quantile(q=.25) - (1.5*(x.quantile(q=.75)-x.quantile(q=.25))) )\n",
    "newdf['Upper'] = State['Revenue'].transform( lambda x: x.quantile(q=.75) + (1.5*(x.quantile(q=.75)-x.quantile(q=.25))) )\n",
    "newdf['Outlier'] = (newdf['Revenue'] < newdf['Lower']) | (newdf['Revenue'] > newdf['Upper']) \n",
    "newdf"
   ]
  },
  {
   "cell_type": "markdown",
   "metadata": {},
   "source": [
    "## <font color=\"#084B8A\">Chapitre VII</font>"
   ]
  },
  {
   "cell_type": "markdown",
   "metadata": {},
   "source": [
    "- D'un DataFrame à Excel\n",
    "- De Excel à un DataFrame\n",
    "- D'un DataFrame à JSON\n",
    "- De JSON à un DataFrame"
   ]
  },
  {
   "cell_type": "code",
   "execution_count": 98,
   "metadata": {
    "collapsed": true
   },
   "outputs": [],
   "source": [
    "import pandas as pd\n",
    "import sys"
   ]
  },
  {
   "cell_type": "markdown",
   "metadata": {},
   "source": [
    "### <font color=\"#585858\">D'un DataFrame à Excel</font>"
   ]
  },
  {
   "cell_type": "code",
   "execution_count": 99,
   "metadata": {
    "collapsed": false
   },
   "outputs": [
    {
     "data": {
      "text/html": [
       "<div>\n",
       "<table border=\"1\" class=\"dataframe\">\n",
       "  <thead>\n",
       "    <tr style=\"text-align: right;\">\n",
       "      <th></th>\n",
       "      <th>Number</th>\n",
       "    </tr>\n",
       "  </thead>\n",
       "  <tbody>\n",
       "    <tr>\n",
       "      <th>0</th>\n",
       "      <td>1</td>\n",
       "    </tr>\n",
       "    <tr>\n",
       "      <th>1</th>\n",
       "      <td>2</td>\n",
       "    </tr>\n",
       "    <tr>\n",
       "      <th>2</th>\n",
       "      <td>3</td>\n",
       "    </tr>\n",
       "    <tr>\n",
       "      <th>3</th>\n",
       "      <td>4</td>\n",
       "    </tr>\n",
       "    <tr>\n",
       "      <th>4</th>\n",
       "      <td>5</td>\n",
       "    </tr>\n",
       "    <tr>\n",
       "      <th>5</th>\n",
       "      <td>6</td>\n",
       "    </tr>\n",
       "    <tr>\n",
       "      <th>6</th>\n",
       "      <td>7</td>\n",
       "    </tr>\n",
       "    <tr>\n",
       "      <th>7</th>\n",
       "      <td>8</td>\n",
       "    </tr>\n",
       "    <tr>\n",
       "      <th>8</th>\n",
       "      <td>9</td>\n",
       "    </tr>\n",
       "  </tbody>\n",
       "</table>\n",
       "</div>"
      ],
      "text/plain": [
       "   Number\n",
       "0       1\n",
       "1       2\n",
       "2       3\n",
       "3       4\n",
       "4       5\n",
       "5       6\n",
       "6       7\n",
       "7       8\n",
       "8       9"
      ]
     },
     "execution_count": 99,
     "metadata": {},
     "output_type": "execute_result"
    }
   ],
   "source": [
    "# Création  du DataFrame\n",
    "d = [1,2,3,4,5,6,7,8,9]\n",
    "df = pd.DataFrame(d, columns = ['Number'])\n",
    "df"
   ]
  },
  {
   "cell_type": "code",
   "execution_count": 100,
   "metadata": {
    "collapsed": false
   },
   "outputs": [
    {
     "name": "stdout",
     "output_type": "stream",
     "text": [
      "Done\n"
     ]
    }
   ],
   "source": [
    "# Exportation vers Excel\n",
    "df.to_excel('Lesson10.xlsx', sheet_name = 'testing', index = False)\n",
    "print('Done')"
   ]
  },
  {
   "cell_type": "markdown",
   "metadata": {},
   "source": [
    "### <font color=\"#585858\">De Excel à un DataFrame</font>"
   ]
  },
  {
   "cell_type": "code",
   "execution_count": 101,
   "metadata": {
    "collapsed": false
   },
   "outputs": [
    {
     "data": {
      "text/html": [
       "<div>\n",
       "<table border=\"1\" class=\"dataframe\">\n",
       "  <thead>\n",
       "    <tr style=\"text-align: right;\">\n",
       "      <th></th>\n",
       "      <th>Number</th>\n",
       "    </tr>\n",
       "  </thead>\n",
       "  <tbody>\n",
       "    <tr>\n",
       "      <th>0</th>\n",
       "      <td>1</td>\n",
       "    </tr>\n",
       "    <tr>\n",
       "      <th>1</th>\n",
       "      <td>2</td>\n",
       "    </tr>\n",
       "    <tr>\n",
       "      <th>2</th>\n",
       "      <td>3</td>\n",
       "    </tr>\n",
       "    <tr>\n",
       "      <th>3</th>\n",
       "      <td>4</td>\n",
       "    </tr>\n",
       "    <tr>\n",
       "      <th>4</th>\n",
       "      <td>5</td>\n",
       "    </tr>\n",
       "  </tbody>\n",
       "</table>\n",
       "</div>"
      ],
      "text/plain": [
       "   Number\n",
       "0       1\n",
       "1       2\n",
       "2       3\n",
       "3       4\n",
       "4       5"
      ]
     },
     "execution_count": 101,
     "metadata": {},
     "output_type": "execute_result"
    }
   ],
   "source": [
    "# Chemin vers le fichier excel\n",
    "# Votre chemin peut être différent, alors pensez à mettre à jours le chemin si besoin\n",
    "location = r'/Users/moi/Desktop/FOLDERS/SOFWARES & SCRIPTS/PYTHON/Tutoriels/Pandas/Lesson10.xlsx'\n",
    "\n",
    "# Importer le fichier excel\n",
    "df = pd.read_excel(location, 0)\n",
    "df.head()"
   ]
  },
  {
   "cell_type": "code",
   "execution_count": 102,
   "metadata": {
    "collapsed": false
   },
   "outputs": [
    {
     "data": {
      "text/plain": [
       "Number    int64\n",
       "dtype: object"
      ]
     },
     "execution_count": 102,
     "metadata": {},
     "output_type": "execute_result"
    }
   ],
   "source": [
    "df.dtypes"
   ]
  },
  {
   "cell_type": "code",
   "execution_count": 103,
   "metadata": {
    "collapsed": false
   },
   "outputs": [
    {
     "data": {
      "text/html": [
       "<div>\n",
       "<table border=\"1\" class=\"dataframe\">\n",
       "  <thead>\n",
       "    <tr style=\"text-align: right;\">\n",
       "      <th></th>\n",
       "      <th>Number</th>\n",
       "    </tr>\n",
       "  </thead>\n",
       "  <tbody>\n",
       "    <tr>\n",
       "      <th>4</th>\n",
       "      <td>5</td>\n",
       "    </tr>\n",
       "    <tr>\n",
       "      <th>5</th>\n",
       "      <td>6</td>\n",
       "    </tr>\n",
       "    <tr>\n",
       "      <th>6</th>\n",
       "      <td>7</td>\n",
       "    </tr>\n",
       "    <tr>\n",
       "      <th>7</th>\n",
       "      <td>8</td>\n",
       "    </tr>\n",
       "    <tr>\n",
       "      <th>8</th>\n",
       "      <td>9</td>\n",
       "    </tr>\n",
       "  </tbody>\n",
       "</table>\n",
       "</div>"
      ],
      "text/plain": [
       "   Number\n",
       "4       5\n",
       "5       6\n",
       "6       7\n",
       "7       8\n",
       "8       9"
      ]
     },
     "execution_count": 103,
     "metadata": {},
     "output_type": "execute_result"
    }
   ],
   "source": [
    "df.tail()"
   ]
  },
  {
   "cell_type": "markdown",
   "metadata": {},
   "source": [
    "### <font color=\"#585858\">D'un DataFrame à JSON</font>"
   ]
  },
  {
   "cell_type": "code",
   "execution_count": 104,
   "metadata": {
    "collapsed": false
   },
   "outputs": [
    {
     "name": "stdout",
     "output_type": "stream",
     "text": [
      "Done\n"
     ]
    }
   ],
   "source": [
    "df.to_json('Lesson10.json')\n",
    "print('Done')"
   ]
  },
  {
   "cell_type": "markdown",
   "metadata": {},
   "source": [
    "### <font color=\"#585858\">De JSON à un DataFrame</font>"
   ]
  },
  {
   "cell_type": "code",
   "execution_count": 105,
   "metadata": {
    "collapsed": false
   },
   "outputs": [],
   "source": [
    "# Votre chemin peut être différent, alors pensez à mettre à jours le chemin si besoin.\n",
    "jsonloc = r'/Users/moi/Desktop/FOLDERS/SOFWARES & SCRIPTS/PYTHON/Tutoriels/Pandas/Lesson10.json'\n",
    "\n",
    "# lecture du fichier json\n",
    "df2 = pd.read_json(jsonloc)"
   ]
  },
  {
   "cell_type": "code",
   "execution_count": 106,
   "metadata": {
    "collapsed": false
   },
   "outputs": [
    {
     "data": {
      "text/html": [
       "<div>\n",
       "<table border=\"1\" class=\"dataframe\">\n",
       "  <thead>\n",
       "    <tr style=\"text-align: right;\">\n",
       "      <th></th>\n",
       "      <th>Number</th>\n",
       "    </tr>\n",
       "  </thead>\n",
       "  <tbody>\n",
       "    <tr>\n",
       "      <th>0</th>\n",
       "      <td>1</td>\n",
       "    </tr>\n",
       "    <tr>\n",
       "      <th>1</th>\n",
       "      <td>2</td>\n",
       "    </tr>\n",
       "    <tr>\n",
       "      <th>2</th>\n",
       "      <td>3</td>\n",
       "    </tr>\n",
       "    <tr>\n",
       "      <th>3</th>\n",
       "      <td>4</td>\n",
       "    </tr>\n",
       "    <tr>\n",
       "      <th>4</th>\n",
       "      <td>5</td>\n",
       "    </tr>\n",
       "    <tr>\n",
       "      <th>5</th>\n",
       "      <td>6</td>\n",
       "    </tr>\n",
       "    <tr>\n",
       "      <th>6</th>\n",
       "      <td>7</td>\n",
       "    </tr>\n",
       "    <tr>\n",
       "      <th>7</th>\n",
       "      <td>8</td>\n",
       "    </tr>\n",
       "    <tr>\n",
       "      <th>8</th>\n",
       "      <td>9</td>\n",
       "    </tr>\n",
       "  </tbody>\n",
       "</table>\n",
       "</div>"
      ],
      "text/plain": [
       "   Number\n",
       "0       1\n",
       "1       2\n",
       "2       3\n",
       "3       4\n",
       "4       5\n",
       "5       6\n",
       "6       7\n",
       "7       8\n",
       "8       9"
      ]
     },
     "execution_count": 106,
     "metadata": {},
     "output_type": "execute_result"
    }
   ],
   "source": [
    "df2"
   ]
  },
  {
   "cell_type": "code",
   "execution_count": 107,
   "metadata": {
    "collapsed": false
   },
   "outputs": [
    {
     "data": {
      "text/plain": [
       "Number    int64\n",
       "dtype: object"
      ]
     },
     "execution_count": 107,
     "metadata": {},
     "output_type": "execute_result"
    }
   ],
   "source": [
    "df2.dtypes"
   ]
  },
  {
   "cell_type": "markdown",
   "metadata": {},
   "source": [
    "<i>Supprimez les fichiers xlsx et json après leur utilisation.</i>"
   ]
  },
  {
   "cell_type": "code",
   "execution_count": 108,
   "metadata": {
    "collapsed": false
   },
   "outputs": [],
   "source": [
    "import os\n",
    "os.remove(location)\n",
    "os.remove(jsonloc)"
   ]
  },
  {
   "cell_type": "markdown",
   "metadata": {},
   "source": [
    "## <font color=\"#084B8A\">Chapitre VIII</font>"
   ]
  },
  {
   "cell_type": "markdown",
   "metadata": {},
   "source": [
    "Prend les données provenant de fichiers Excel multiples et les fusionnent dans un seul dataframe."
   ]
  },
  {
   "cell_type": "code",
   "execution_count": 109,
   "metadata": {
    "collapsed": true
   },
   "outputs": [],
   "source": [
    "import pandas as pd\n",
    "import matplotlib\n",
    "import os\n",
    "import sys\n",
    "%matplotlib inline"
   ]
  },
  {
   "cell_type": "markdown",
   "metadata": {},
   "source": [
    "### <font color=\"#585858\">Création de 3 fichiers excel</font>"
   ]
  },
  {
   "cell_type": "code",
   "execution_count": 110,
   "metadata": {
    "collapsed": false
   },
   "outputs": [
    {
     "data": {
      "text/html": [
       "<div>\n",
       "<table border=\"1\" class=\"dataframe\">\n",
       "  <thead>\n",
       "    <tr style=\"text-align: right;\">\n",
       "      <th></th>\n",
       "      <th>Channel</th>\n",
       "      <th>Number</th>\n",
       "    </tr>\n",
       "  </thead>\n",
       "  <tbody>\n",
       "    <tr>\n",
       "      <th>0</th>\n",
       "      <td>1</td>\n",
       "      <td>255</td>\n",
       "    </tr>\n",
       "  </tbody>\n",
       "</table>\n",
       "</div>"
      ],
      "text/plain": [
       "   Channel  Number\n",
       "0        1     255"
      ]
     },
     "execution_count": 110,
     "metadata": {},
     "output_type": "execute_result"
    }
   ],
   "source": [
    "# Création d'un DataFrame\n",
    "d = {'Channel':[1], 'Number':[255]}\n",
    "df = pd.DataFrame(d)\n",
    "df"
   ]
  },
  {
   "cell_type": "code",
   "execution_count": 111,
   "metadata": {
    "collapsed": false
   },
   "outputs": [
    {
     "name": "stdout",
     "output_type": "stream",
     "text": [
      "Done\n"
     ]
    }
   ],
   "source": [
    "# Exportation vers Excel\n",
    "\n",
    "df.to_excel('test1.xlsx', sheet_name = 'test1', index = False)\n",
    "df.to_excel('test2.xlsx', sheet_name = 'test2', index = False)\n",
    "df.to_excel('test3.xlsx', sheet_name = 'test3', index = False)\n",
    "print('Done')"
   ]
  },
  {
   "cell_type": "markdown",
   "metadata": {},
   "source": [
    "### <font color=\"#585858\">Placez les trois fichiers Excel dans un dataframe</font>"
   ]
  },
  {
   "cell_type": "markdown",
   "metadata": {},
   "source": [
    "Obtenez une liste de noms de fichier mais assurez-vous qu'il n'y a aucun autre fichier Excel présent dans le dossier."
   ]
  },
  {
   "cell_type": "code",
   "execution_count": 112,
   "metadata": {
    "collapsed": false
   },
   "outputs": [
    {
     "data": {
      "text/plain": [
       "['test1.xlsx', 'test2.xlsx', 'test3.xlsx']"
      ]
     },
     "execution_count": 112,
     "metadata": {},
     "output_type": "execute_result"
    }
   ],
   "source": [
    "# Liste qui contiendra les noms de fichier\n",
    "FileNames = []\n",
    "\n",
    "# Votre chemin peut être différent, alors pensez à mettre à jours le chemin si besoin.\n",
    "os.chdir(r\"/Users/moi/Desktop/FOLDERS/SOFWARES & SCRIPTS/PYTHON/Tutoriels/Pandas/\")\n",
    "\n",
    "# Trouve n'importe quel fichier qui finit par \".xlsx\"\n",
    "for files in os.listdir(\".\"):\n",
    "    if files.endswith(\".xlsx\"):\n",
    "        FileNames.append(files)\n",
    "        \n",
    "FileNames"
   ]
  },
  {
   "cell_type": "markdown",
   "metadata": {},
   "source": [
    "Créer une fonction pour traiter tous les fichiers Excel."
   ]
  },
  {
   "cell_type": "code",
   "execution_count": 113,
   "metadata": {
    "collapsed": true
   },
   "outputs": [],
   "source": [
    "def GetFile(fnombre):\n",
    "\n",
    "    # Chemin vers le fichier excel\n",
    "    # Votre chemin peut être différent, alors pensez à mettre à jours le chemin si besoin.\n",
    "    location = r'/Users/moi/Desktop/FOLDERS/SOFWARES & SCRIPTS/PYTHON/Tutoriels/Pandas/' + fnombre\n",
    "    \n",
    "    # Importe le fichier excel\n",
    "    # 0 = première feuille\n",
    "    df = pd.read_excel(location, 0)\n",
    "    \n",
    "    # Crée une étiquette au nom du fichier\n",
    "    df['File'] = fnombre\n",
    "    \n",
    "    # Fait de la colonne \"File\" l'index du df\n",
    "    return df.set_index(['File'])"
   ]
  },
  {
   "cell_type": "markdown",
   "metadata": {},
   "source": [
    "Pour chaque nom de fichier, on crée un dataframe et on l'ajoute à une liste. C'est-à-dire :\n",
    "<br/>\n",
    "df_list = [df, df, df]"
   ]
  },
  {
   "cell_type": "code",
   "execution_count": 114,
   "metadata": {
    "collapsed": false
   },
   "outputs": [
    {
     "data": {
      "text/plain": [
       "[            Channel  Number\n",
       " File                       \n",
       " test1.xlsx        1     255,             Channel  Number\n",
       " File                       \n",
       " test2.xlsx        1     255,             Channel  Number\n",
       " File                       \n",
       " test3.xlsx        1     255]"
      ]
     },
     "execution_count": 114,
     "metadata": {},
     "output_type": "execute_result"
    }
   ],
   "source": [
    "# Création d'une liste de dataframes\n",
    "df_list = [GetFile(fname) for fname in FileNames]\n",
    "df_list"
   ]
  },
  {
   "cell_type": "code",
   "execution_count": 115,
   "metadata": {
    "collapsed": false
   },
   "outputs": [
    {
     "data": {
      "text/html": [
       "<div>\n",
       "<table border=\"1\" class=\"dataframe\">\n",
       "  <thead>\n",
       "    <tr style=\"text-align: right;\">\n",
       "      <th></th>\n",
       "      <th>Channel</th>\n",
       "      <th>Number</th>\n",
       "    </tr>\n",
       "    <tr>\n",
       "      <th>File</th>\n",
       "      <th></th>\n",
       "      <th></th>\n",
       "    </tr>\n",
       "  </thead>\n",
       "  <tbody>\n",
       "    <tr>\n",
       "      <th>test1.xlsx</th>\n",
       "      <td>1</td>\n",
       "      <td>255</td>\n",
       "    </tr>\n",
       "    <tr>\n",
       "      <th>test2.xlsx</th>\n",
       "      <td>1</td>\n",
       "      <td>255</td>\n",
       "    </tr>\n",
       "    <tr>\n",
       "      <th>test3.xlsx</th>\n",
       "      <td>1</td>\n",
       "      <td>255</td>\n",
       "    </tr>\n",
       "  </tbody>\n",
       "</table>\n",
       "</div>"
      ],
      "text/plain": [
       "            Channel  Number\n",
       "File                       \n",
       "test1.xlsx        1     255\n",
       "test2.xlsx        1     255\n",
       "test3.xlsx        1     255"
      ]
     },
     "execution_count": 115,
     "metadata": {},
     "output_type": "execute_result"
    }
   ],
   "source": [
    "# Combine tous les dataframes en un seul\n",
    "big_df = pd.concat(df_list)\n",
    "big_df"
   ]
  },
  {
   "cell_type": "code",
   "execution_count": 116,
   "metadata": {
    "collapsed": false
   },
   "outputs": [
    {
     "data": {
      "text/plain": [
       "Channel    int64\n",
       "Number     int64\n",
       "dtype: object"
      ]
     },
     "execution_count": 116,
     "metadata": {},
     "output_type": "execute_result"
    }
   ],
   "source": [
    "big_df.dtypes"
   ]
  },
  {
   "cell_type": "code",
   "execution_count": 117,
   "metadata": {
    "collapsed": false
   },
   "outputs": [
    {
     "data": {
      "image/png": "[encoded data removed]",
      "text/plain": [
       "<matplotlib.figure.Figure at 0x107a4c198>"
      ]
     },
     "metadata": {},
     "output_type": "display_data"
    }
   ],
   "source": [
    "# Le désiner!\n",
    "big_df['Channel'].plot(kind='bar');"
   ]
  },
  {
   "cell_type": "code",
   "execution_count": null,
   "metadata": {
    "collapsed": true
   },
   "outputs": [],
   "source": []
  }
 ],
 "metadata": {
  "kernelspec": {
   "display_name": "Python 3",
   "language": "python",
   "name": "python3"
  },
  "language_info": {
   "codemirror_mode": {
    "name": "ipython",
    "version": 3
   },
   "file_extension": ".py",
   "mimetype": "text/x-python",
   "name": "python",
   "nbconvert_exporter": "python",
   "pygments_lexer": "ipython3",
   "version": "3.4.4"
  }
 },
 "nbformat": 4,
 "nbformat_minor": 0
}
